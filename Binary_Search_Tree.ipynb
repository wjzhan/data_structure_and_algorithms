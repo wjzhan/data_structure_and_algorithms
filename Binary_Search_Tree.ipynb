{
 "cells": [
  {
   "cell_type": "markdown",
   "id": "northern-trance",
   "metadata": {},
   "source": [
    "### Question\n",
    "\n",
    "Add following methods to BinarySearchTreeNode class created in main video tutorial\n",
    "\n",
    "<pre><code>\n",
    "1. find_min(): finds minimum element in entire binary tree\n",
    "2. find_max(): finds maximum element in entire binary tree\n",
    "3. calculate_sum(): calcualtes sum of all elements\n",
    "4. post_order_traversal(): performs post order traversal of a binary tree\n",
    "5. pre_order_traversal(): perofrms pre order traversal of a binary tree\n",
    "</code></pre>"
   ]
  },
  {
   "cell_type": "code",
   "execution_count": 57,
   "id": "running-watch",
   "metadata": {},
   "outputs": [],
   "source": [
    "class BinarySearchTreeNode:\n",
    "    def __init__(self, data):\n",
    "        self.data = data\n",
    "        self.left = None\n",
    "        self.right = None\n",
    "        \n",
    "    def add_child(self, data):\n",
    "        if self.data == data:\n",
    "            return\n",
    "        if data < self.data:\n",
    "            if self.left:\n",
    "                self.left.add_child(data)\n",
    "            else:\n",
    "                self.left = BinarySearchTreeNode(data)\n",
    "        else:\n",
    "            if self.right:\n",
    "                self.right.add_child(data)\n",
    "            else:\n",
    "                self.right = BinarySearchTreeNode(data)\n",
    "                \n",
    "    def in_order_traversal(self):\n",
    "        elements = []\n",
    "        if self.left:\n",
    "            elements += self.left.in_order_traversal()   \n",
    "        elements.append(self.data)\n",
    "        if self.right:\n",
    "            elements += self.right.in_order_traversal()\n",
    "        return elements \n",
    "    \n",
    "    def search(self, val):\n",
    "        if val == self.data:\n",
    "            return True\n",
    "        \n",
    "        if val < self.data:\n",
    "            if self.left:\n",
    "                return self.left.search(val)\n",
    "            else:\n",
    "                return False\n",
    "        if val > self.data:\n",
    "            if self.right:\n",
    "                return self.right.search(val)\n",
    "            else:\n",
    "                return False \n",
    "            \n",
    "    def find_min(self):\n",
    "        if self.left is None:\n",
    "            return self.data\n",
    "        return self.left.find_min()\n",
    "        \n",
    "    def find_max(self):\n",
    "        if self.right is None:\n",
    "            return self.data\n",
    "        return self.right.find_max()\n",
    "        \n",
    "    def calculate_sum(self):\n",
    "        left_sum = self.left.calculate_sum() if self.left else 0\n",
    "        right_sum = self.right.calculate_sum() if self.right else 0  \n",
    "        return self.data + left_sum + right_sum\n",
    "    \n",
    "    def post_order_traversal(self):\n",
    "        elements = []\n",
    "        \n",
    "        if self.left:\n",
    "            elements += self.left.post_order_traversal()\n",
    "            \n",
    "        if self.right:\n",
    "            elements += self.right.post_order_traversal()\n",
    "            \n",
    "        elements.append(self.data)\n",
    "        \n",
    "        return elements\n",
    "        \n",
    "    def pre_order_traversal(self):\n",
    "        elements = []\n",
    "        elements.append(self.data)\n",
    "        \n",
    "        if self.left:\n",
    "            elements += self.left.post_order_traversal()\n",
    "            \n",
    "        if self.right:\n",
    "            elements += self.right.post_order_traversal()\n",
    "            \n",
    "        return elements"
   ]
  },
  {
   "cell_type": "code",
   "execution_count": 58,
   "id": "dangerous-easter",
   "metadata": {},
   "outputs": [],
   "source": [
    "def build_tree(elements):\n",
    "    print(\"Building tree with these elements:\",elements)\n",
    "    root = BinarySearchTreeNode(elements[0])\n",
    "\n",
    "    for i in range(1,len(elements)):\n",
    "        root.add_child(elements[i])\n",
    "        \n",
    "    return root"
   ]
  },
  {
   "cell_type": "code",
   "execution_count": 59,
   "id": "infrared-corner",
   "metadata": {},
   "outputs": [
    {
     "name": "stdout",
     "output_type": "stream",
     "text": [
      "Building tree with these elements: [17, 4, 1, 20, 9, 23, 18, 34]\n"
     ]
    }
   ],
   "source": [
    "tree = build_tree([17, 4, 1, 20, 9, 23, 18, 34])"
   ]
  },
  {
   "cell_type": "code",
   "execution_count": 60,
   "id": "bored-platinum",
   "metadata": {},
   "outputs": [
    {
     "data": {
      "text/plain": [
       "True"
      ]
     },
     "execution_count": 60,
     "metadata": {},
     "output_type": "execute_result"
    }
   ],
   "source": [
    "tree.search(34)"
   ]
  },
  {
   "cell_type": "code",
   "execution_count": 61,
   "id": "applied-selection",
   "metadata": {},
   "outputs": [
    {
     "data": {
      "text/plain": [
       "[1, 4, 9, 17, 18, 20, 23, 34]"
      ]
     },
     "execution_count": 61,
     "metadata": {},
     "output_type": "execute_result"
    }
   ],
   "source": [
    "tree.in_order_traversal()"
   ]
  },
  {
   "cell_type": "code",
   "execution_count": 62,
   "id": "acoustic-medicaid",
   "metadata": {},
   "outputs": [
    {
     "data": {
      "text/plain": [
       "[17, 1, 9, 4, 18, 34, 23, 20]"
      ]
     },
     "execution_count": 62,
     "metadata": {},
     "output_type": "execute_result"
    }
   ],
   "source": [
    "tree.pre_order_traversal()"
   ]
  },
  {
   "cell_type": "code",
   "execution_count": 63,
   "id": "enabling-closure",
   "metadata": {},
   "outputs": [
    {
     "data": {
      "text/plain": [
       "[1, 9, 4, 18, 34, 23, 20, 17]"
      ]
     },
     "execution_count": 63,
     "metadata": {},
     "output_type": "execute_result"
    }
   ],
   "source": [
    "tree.post_order_traversal()"
   ]
  },
  {
   "cell_type": "code",
   "execution_count": 64,
   "id": "expired-interface",
   "metadata": {},
   "outputs": [
    {
     "data": {
      "text/plain": [
       "1"
      ]
     },
     "execution_count": 64,
     "metadata": {},
     "output_type": "execute_result"
    }
   ],
   "source": [
    "tree.find_min()"
   ]
  },
  {
   "cell_type": "code",
   "execution_count": 65,
   "id": "representative-franklin",
   "metadata": {},
   "outputs": [
    {
     "data": {
      "text/plain": [
       "34"
      ]
     },
     "execution_count": 65,
     "metadata": {},
     "output_type": "execute_result"
    }
   ],
   "source": [
    "tree.find_max()"
   ]
  },
  {
   "cell_type": "code",
   "execution_count": 66,
   "id": "pharmaceutical-milan",
   "metadata": {},
   "outputs": [
    {
     "data": {
      "text/plain": [
       "126"
      ]
     },
     "execution_count": 66,
     "metadata": {},
     "output_type": "execute_result"
    }
   ],
   "source": [
    "tree.calculate_sum()"
   ]
  },
  {
   "cell_type": "markdown",
   "id": "suspected-logistics",
   "metadata": {},
   "source": [
    "### Question\n",
    "\n",
    "Add delete method in class BinarySearchTreeNode class to use max value from left subtree"
   ]
  },
  {
   "cell_type": "code",
   "execution_count": 79,
   "id": "closed-aerospace",
   "metadata": {},
   "outputs": [],
   "source": [
    "class BinarySearchTreeNode:\n",
    "    def __init__(self, data):\n",
    "        self.data = data\n",
    "        self.left = None\n",
    "        self.right = None\n",
    "        \n",
    "    def add_child(self, data):\n",
    "        if self.data == data:\n",
    "            return\n",
    "        if data < self.data:\n",
    "            if self.left:\n",
    "                self.left.add_child(data)\n",
    "            else:\n",
    "                self.left = BinarySearchTreeNode(data)\n",
    "        else:\n",
    "            if self.right:\n",
    "                self.right.add_child(data)\n",
    "            else:\n",
    "                self.right = BinarySearchTreeNode(data)\n",
    "                \n",
    "    def in_order_traversal(self):\n",
    "        elements = []\n",
    "        if self.left:\n",
    "            elements += self.left.in_order_traversal()   \n",
    "        elements.append(self.data)\n",
    "        if self.right:\n",
    "            elements += self.right.in_order_traversal()\n",
    "        return elements \n",
    "    \n",
    "    def search(self, val):\n",
    "        if val == self.data:\n",
    "            return True\n",
    "        \n",
    "        if val < self.data:\n",
    "            if self.left:\n",
    "                return self.left.search(val)\n",
    "            else:\n",
    "                return False\n",
    "        if val > self.data:\n",
    "            if self.right:\n",
    "                return self.right.search(val)\n",
    "            else:\n",
    "                return False \n",
    "            \n",
    "    def find_min(self):\n",
    "        if self.left is None:\n",
    "            return self.data\n",
    "        return self.left.find_min()\n",
    "        \n",
    "    def find_max(self):\n",
    "        if self.right is None:\n",
    "            return self.data\n",
    "        return self.right.find_max()\n",
    "        \n",
    "    def calculate_sum(self):\n",
    "        left_sum = self.left.calculate_sum() if self.left else 0\n",
    "        right_sum = self.right.calculate_sum() if self.right else 0  \n",
    "        return self.data + left_sum + right_sum\n",
    "    \n",
    "    def post_order_traversal(self):\n",
    "        elements = []\n",
    "        \n",
    "        if self.left:\n",
    "            elements += self.left.post_order_traversal()\n",
    "            \n",
    "        if self.right:\n",
    "            elements += self.right.post_order_traversal()\n",
    "            \n",
    "        elements.append(self.data)\n",
    "        \n",
    "        return elements\n",
    "        \n",
    "    def pre_order_traversal(self):\n",
    "        elements = []\n",
    "        elements.append(self.data)\n",
    "        \n",
    "        if self.left:\n",
    "            elements += self.left.post_order_traversal()\n",
    "            \n",
    "        if self.right:\n",
    "            elements += self.right.post_order_traversal()\n",
    "            \n",
    "        return elements\n",
    "    \n",
    "    def delete(self, val):\n",
    "        \n",
    "        if val < self.data:\n",
    "            if self.left:\n",
    "                self.left = self.left.delete(val)\n",
    "        elif val > self.data:\n",
    "            if self.right:\n",
    "                self.right = self.right.delete(val)\n",
    "        else:\n",
    "            if self.left is None and self.right is None:\n",
    "                return None\n",
    "            if self.left is None:\n",
    "                return self.right\n",
    "            if self.right is None:\n",
    "                return self.left\n",
    "            left_max = self.left.find_max()\n",
    "            self.data = left_max\n",
    "            self.left = self.left.delete(left_max)\n",
    "            \n",
    "        return self\n",
    "        "
   ]
  },
  {
   "cell_type": "code",
   "execution_count": 80,
   "id": "voluntary-commander",
   "metadata": {},
   "outputs": [],
   "source": [
    "def build_tree(elements):\n",
    "    print(\"Building tree with these elements:\",elements)\n",
    "    root = BinarySearchTreeNode(elements[0])\n",
    "\n",
    "    for i in range(1,len(elements)):\n",
    "        root.add_child(elements[i])\n",
    "        \n",
    "    return root"
   ]
  },
  {
   "cell_type": "code",
   "execution_count": 81,
   "id": "addressed-ambassador",
   "metadata": {},
   "outputs": [
    {
     "name": "stdout",
     "output_type": "stream",
     "text": [
      "Building tree with these elements: [17, 4, 1, 20, 9, 23, 18, 34]\n"
     ]
    }
   ],
   "source": [
    "tree = build_tree([17, 4, 1, 20, 9, 23, 18, 34])"
   ]
  },
  {
   "cell_type": "code",
   "execution_count": 82,
   "id": "cordless-ordering",
   "metadata": {},
   "outputs": [],
   "source": [
    "result = tree.delete(23)"
   ]
  },
  {
   "cell_type": "code",
   "execution_count": 83,
   "id": "united-orleans",
   "metadata": {},
   "outputs": [
    {
     "data": {
      "text/plain": [
       "[1, 4, 9, 17, 18, 20, 34]"
      ]
     },
     "execution_count": 83,
     "metadata": {},
     "output_type": "execute_result"
    }
   ],
   "source": [
    "result.in_order_traversal()"
   ]
  },
  {
   "cell_type": "code",
   "execution_count": null,
   "id": "compliant-leave",
   "metadata": {},
   "outputs": [],
   "source": []
  }
 ],
 "metadata": {
  "kernelspec": {
   "display_name": "Python 3",
   "language": "python",
   "name": "python3"
  },
  "language_info": {
   "codemirror_mode": {
    "name": "ipython",
    "version": 3
   },
   "file_extension": ".py",
   "mimetype": "text/x-python",
   "name": "python",
   "nbconvert_exporter": "python",
   "pygments_lexer": "ipython3",
   "version": "3.8.5"
  }
 },
 "nbformat": 4,
 "nbformat_minor": 5
}
