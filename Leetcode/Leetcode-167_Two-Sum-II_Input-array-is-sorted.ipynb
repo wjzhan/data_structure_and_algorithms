{
 "cells": [
  {
   "cell_type": "markdown",
   "id": "satellite-checkout",
   "metadata": {},
   "source": [
    "Given an array of integers numbers that is already sorted in non-decreasing order, find two numbers such that they add up to a specific target number.\n",
    "\n",
    "Return the indices of the two numbers (1-indexed) as an integer array answer of size 2, where 1 <= answer[0] < answer[1] <= numbers.length.\n",
    "\n",
    "The tests are generated such that there is exactly one solution. You may not use the same element twice.\n",
    "\n"
   ]
  },
  {
   "cell_type": "code",
   "execution_count": 11,
   "id": "adjacent-solomon",
   "metadata": {},
   "outputs": [],
   "source": [
    "def twoSum(numbers, target):\n",
    "    l, h = 0, len(numbers) - 1\n",
    "    while l <= h:\n",
    "        low, high = numbers[l], numbers[h]\n",
    "        if low + high == target:\n",
    "            return [l+1, h+1]\n",
    "        elif low + high < target:\n",
    "            l += 1\n",
    "        else:\n",
    "            h -= 1\n",
    "\n",
    "    return None"
   ]
  },
  {
   "cell_type": "code",
   "execution_count": 12,
   "id": "fundamental-artist",
   "metadata": {},
   "outputs": [
    {
     "data": {
      "text/plain": [
       "[1, 2]"
      ]
     },
     "execution_count": 12,
     "metadata": {},
     "output_type": "execute_result"
    }
   ],
   "source": [
    "twoSum([2,7,11,15], 9)"
   ]
  },
  {
   "cell_type": "code",
   "execution_count": null,
   "id": "forward-catalog",
   "metadata": {},
   "outputs": [],
   "source": []
  }
 ],
 "metadata": {
  "kernelspec": {
   "display_name": "Python 3",
   "language": "python",
   "name": "python3"
  },
  "language_info": {
   "codemirror_mode": {
    "name": "ipython",
    "version": 3
   },
   "file_extension": ".py",
   "mimetype": "text/x-python",
   "name": "python",
   "nbconvert_exporter": "python",
   "pygments_lexer": "ipython3",
   "version": "3.8.5"
  }
 },
 "nbformat": 4,
 "nbformat_minor": 5
}
