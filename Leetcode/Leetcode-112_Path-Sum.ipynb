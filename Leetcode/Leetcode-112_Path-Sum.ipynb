{
 "cells": [
  {
   "cell_type": "markdown",
   "id": "impressive-cherry",
   "metadata": {},
   "source": [
    "Given the root of a binary tree and an integer targetSum, return true if the tree has a root-to-leaf path such that adding up all the values along the path equals targetSum.\n",
    "\n",
    "A leaf is a node with no children.\n",
    "\n"
   ]
  },
  {
   "cell_type": "code",
   "execution_count": 1,
   "id": "sealed-equilibrium",
   "metadata": {},
   "outputs": [],
   "source": [
    "# Definition for a binary tree node.\n",
    "# class TreeNode:\n",
    "#     def __init__(self, val=0, left=None, right=None):\n",
    "#         self.val = val\n",
    "#         self.left = left\n",
    "#         self.right = right\n",
    "class Solution:\n",
    "    def hasPathSum(self, root, targetSum):\n",
    "        if not root:\n",
    "            return False\n",
    "        result = self.dfs(root, targetSum)\n",
    "        return result\n",
    "        \n",
    "    def dfs(self, node, leftOver):\n",
    "        if not node.left and not node.right:\n",
    "            if leftOver == node.val:\n",
    "                return True\n",
    "            else:\n",
    "                return False\n",
    "        left_bool = False\n",
    "        right_bool = False\n",
    "        if node.left:\n",
    "            left_bool = self.dfs(node.left, leftOver - node.val)\n",
    "        if node.right:\n",
    "            right_bool = self.dfs(node.right, leftOver - node.val)\n",
    "        \n",
    "        return (left_bool or right_bool)"
   ]
  },
  {
   "cell_type": "code",
   "execution_count": null,
   "id": "bottom-inquiry",
   "metadata": {},
   "outputs": [],
   "source": []
  }
 ],
 "metadata": {
  "kernelspec": {
   "display_name": "Python 3",
   "language": "python",
   "name": "python3"
  },
  "language_info": {
   "codemirror_mode": {
    "name": "ipython",
    "version": 3
   },
   "file_extension": ".py",
   "mimetype": "text/x-python",
   "name": "python",
   "nbconvert_exporter": "python",
   "pygments_lexer": "ipython3",
   "version": "3.8.5"
  }
 },
 "nbformat": 4,
 "nbformat_minor": 5
}
