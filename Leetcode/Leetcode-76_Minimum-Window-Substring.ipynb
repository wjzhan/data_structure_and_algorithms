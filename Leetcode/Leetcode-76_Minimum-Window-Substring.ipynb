{
 "cells": [
  {
   "cell_type": "markdown",
   "id": "robust-sponsorship",
   "metadata": {},
   "source": [
    "Given two strings s and t of lengths m and n respectively, return the minimum window substring of s such that every character in t (including duplicates) is included in the window. If there is no such substring, return the empty string \"\".\n",
    "\n",
    "The testcases will be generated such that the answer is unique.\n",
    "\n",
    "A substring is a contiguous sequence of characters within the string.\n",
    "\n"
   ]
  },
  {
   "cell_type": "markdown",
   "id": "purple-venice",
   "metadata": {},
   "source": [
    "### Sliding Window"
   ]
  },
  {
   "cell_type": "code",
   "execution_count": 5,
   "id": "suited-vocabulary",
   "metadata": {},
   "outputs": [],
   "source": [
    "def checkMatch(window, need):\n",
    "    match = True\n",
    "    for c in need:\n",
    "        if (c not in window) or window[c] < need[c]:\n",
    "            match = False\n",
    "            break\n",
    "    return match\n",
    "\n",
    "def minWindow(s, t):\n",
    "    window, need = {}, {}\n",
    "    max_len = pow(10, 5) + 1\n",
    "    min_sub = ''\n",
    "\n",
    "    # initialize the need window\n",
    "    for c in t:\n",
    "        if c in need:\n",
    "            need[c] += 1\n",
    "        else:\n",
    "            need[c] = 1\n",
    "            \n",
    "    # two pointers\n",
    "    left, right = 0, 0\n",
    "    while right < len(s):\n",
    "        add_c = s[right]\n",
    "        \n",
    "        #update window\n",
    "        if add_c in window:\n",
    "            window[add_c] += 1\n",
    "        else:\n",
    "            window[add_c] = 1\n",
    "        right += 1\n",
    "        \n",
    "        # judge if the condition is satisfied, if so, move left pointer to try optimization\n",
    "        \n",
    "        while checkMatch(window, need):\n",
    "            if right - left + 1 < max_len:\n",
    "                max_len = right - left + 1\n",
    "                min_sub = s[left:right+1]\n",
    "            remove_c = s[left]\n",
    "            # update window\n",
    "            window[remove_c] -= 1\n",
    "            left += 1\n",
    "            \n",
    "    return min_sub\n"
   ]
  },
  {
   "cell_type": "markdown",
   "id": "waiting-oriental",
   "metadata": {},
   "source": [
    "### Improving Sliding Window with checkMatch condition"
   ]
  },
  {
   "cell_type": "code",
   "execution_count": 68,
   "id": "noticed-belief",
   "metadata": {},
   "outputs": [],
   "source": [
    "def minWindow(s, t):\n",
    "    window, need = {}, {}\n",
    "    min_len = pow(10, 5) + 1\n",
    "    start = 0\n",
    "    matched_char = 0\n",
    "\n",
    "    # initialize the need window\n",
    "    for c in t:\n",
    "        if c in need:\n",
    "            need[c] += 1\n",
    "        else:\n",
    "            need[c] = 1\n",
    "    # initialize the window\n",
    "    for c in need:\n",
    "        window[c] = 0\n",
    "            \n",
    "    # two pointers\n",
    "    left, right = 0, 0\n",
    "    while right < len(s):\n",
    "        add_c = s[right]\n",
    "        \n",
    "        #update window and matching condition\n",
    "        if add_c in need:\n",
    "            window[add_c] += 1\n",
    "            if window[add_c] == need[add_c]:\n",
    "                matched_char += 1\n",
    "        right += 1\n",
    "        \n",
    "        # if the condition is satisfied, if so, move left pointer to try optimization\n",
    "        while matched_char == len(need):\n",
    "            if right - left < min_len:\n",
    "                start = left\n",
    "                min_len = right - left\n",
    "                \n",
    "            remove_c = s[left]\n",
    "            \n",
    "            # update window\n",
    "            if remove_c in need:\n",
    "                if window[remove_c] == need[remove_c]:\n",
    "                    matched_char -= 1\n",
    "                window[remove_c] -= 1\n",
    "            left += 1\n",
    "    \n",
    "    if min_len == pow(10, 5) + 1:\n",
    "        return ''\n",
    "    else:    \n",
    "        return s[start:(start + min_len)]"
   ]
  },
  {
   "cell_type": "code",
   "execution_count": 69,
   "id": "checked-stephen",
   "metadata": {},
   "outputs": [
    {
     "data": {
      "text/plain": [
       "'BANC'"
      ]
     },
     "execution_count": 69,
     "metadata": {},
     "output_type": "execute_result"
    }
   ],
   "source": [
    "minWindow(s = \"ADOBECODEBANC\", t = \"ABC\")"
   ]
  },
  {
   "cell_type": "code",
   "execution_count": 70,
   "id": "appropriate-single",
   "metadata": {},
   "outputs": [
    {
     "data": {
      "text/plain": [
       "''"
      ]
     },
     "execution_count": 70,
     "metadata": {},
     "output_type": "execute_result"
    }
   ],
   "source": [
    "minWindow(s = \"a\", t = \"aa\")"
   ]
  },
  {
   "cell_type": "code",
   "execution_count": 71,
   "id": "dominant-federation",
   "metadata": {},
   "outputs": [
    {
     "data": {
      "text/plain": [
       "'a'"
      ]
     },
     "execution_count": 71,
     "metadata": {},
     "output_type": "execute_result"
    }
   ],
   "source": [
    "minWindow(s = \"a\", t = \"a\")"
   ]
  },
  {
   "cell_type": "code",
   "execution_count": null,
   "id": "endless-robertson",
   "metadata": {},
   "outputs": [],
   "source": []
  }
 ],
 "metadata": {
  "kernelspec": {
   "display_name": "Python 3",
   "language": "python",
   "name": "python3"
  },
  "language_info": {
   "codemirror_mode": {
    "name": "ipython",
    "version": 3
   },
   "file_extension": ".py",
   "mimetype": "text/x-python",
   "name": "python",
   "nbconvert_exporter": "python",
   "pygments_lexer": "ipython3",
   "version": "3.8.5"
  }
 },
 "nbformat": 4,
 "nbformat_minor": 5
}
