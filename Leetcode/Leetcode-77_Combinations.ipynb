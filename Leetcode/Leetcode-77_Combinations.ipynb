{
 "cells": [
  {
   "cell_type": "markdown",
   "id": "approximate-services",
   "metadata": {},
   "source": [
    "Given two integers n and k, return all possible combinations of k numbers out of the range [1, n].\n",
    "\n",
    "You may return the answer in any order."
   ]
  },
  {
   "cell_type": "code",
   "execution_count": 1,
   "id": "ordered-bracelet",
   "metadata": {},
   "outputs": [],
   "source": [
    "def combine(n,k):\n",
    "    nums = list(range(1, n+1))\n",
    "    memos = []\n",
    "    \n",
    "    def df(nums, subset, start, count):        \n",
    "        if count == 0:\n",
    "            memos.append(subset + [])\n",
    "            return\n",
    "        \n",
    "        if start >= len(nums):\n",
    "            return\n",
    "        \n",
    "        for i in range(start, len(nums)):\n",
    "            subset.append(nums[i])\n",
    "            df(nums, subset, i+1, count-1)\n",
    "            subset.remove(nums[i])\n",
    "        return\n",
    "    \n",
    "    df(nums, [], 0, k)\n",
    "    return memos"
   ]
  },
  {
   "cell_type": "code",
   "execution_count": 3,
   "id": "double-rates",
   "metadata": {},
   "outputs": [
    {
     "data": {
      "text/plain": [
       "[[1]]"
      ]
     },
     "execution_count": 3,
     "metadata": {},
     "output_type": "execute_result"
    }
   ],
   "source": [
    "combine(1,1)"
   ]
  },
  {
   "cell_type": "code",
   "execution_count": null,
   "id": "functioning-monroe",
   "metadata": {},
   "outputs": [],
   "source": [
    "nums = [1,2,3]   k = 2\n",
    "\n",
    "df([1,2,3], [], 0, 2)\n",
    "    df([1], 1, 1)  df([2], 2, 1)   df([3], 3, 1)\n",
    "    [1,2], 2, 0   [1,3], 3, 0    [2, 3], 3, 0.      \n",
    "    \n",
    "    \n",
    "\n"
   ]
  }
 ],
 "metadata": {
  "kernelspec": {
   "display_name": "Python 3",
   "language": "python",
   "name": "python3"
  },
  "language_info": {
   "codemirror_mode": {
    "name": "ipython",
    "version": 3
   },
   "file_extension": ".py",
   "mimetype": "text/x-python",
   "name": "python",
   "nbconvert_exporter": "python",
   "pygments_lexer": "ipython3",
   "version": "3.8.5"
  }
 },
 "nbformat": 4,
 "nbformat_minor": 5
}
