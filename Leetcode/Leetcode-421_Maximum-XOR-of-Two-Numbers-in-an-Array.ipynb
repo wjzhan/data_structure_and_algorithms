{
 "cells": [
  {
   "cell_type": "markdown",
   "id": "divided-medicine",
   "metadata": {},
   "source": [
    "Given an integer array nums, return the maximum result of nums[i] XOR nums[j], where 0 ≤ i ≤ j < n.\n",
    "\n",
    "Follow up: Could you do this in O(n) runtime?"
   ]
  },
  {
   "cell_type": "markdown",
   "id": "continental-shareware",
   "metadata": {},
   "source": [
    "## Trie Tree Method"
   ]
  },
  {
   "cell_type": "code",
   "execution_count": 19,
   "id": "attractive-quantity",
   "metadata": {},
   "outputs": [],
   "source": [
    "class Trie:\n",
    "    def __init__(self):\n",
    "        self.root = {}\n",
    "        \n",
    "    def insert(self, binary, num):\n",
    "        p = self.root\n",
    "        for char in binary:\n",
    "            if int(char) not in p:\n",
    "                p[int(char)] = {}\n",
    "            p = p[int(char)]\n",
    "        p[num] = None\n",
    "    \n",
    "    def search(self, binary, num):\n",
    "        p = self.root\n",
    "        for char in binary:\n",
    "            want = 0\n",
    "            if int(char) == 0:\n",
    "                want = 1\n",
    "            if want in p:\n",
    "                p = p[want]\n",
    "            else:\n",
    "                p = p[want^1]\n",
    "        oppose = list(p.keys())[0]\n",
    "        return oppose ^ num\n",
    "            \n",
    "        \n",
    "class Solution:\n",
    "    def findMaximumXOR(self, nums):\n",
    "        max_len = len(bin(max(nums)))-2\n",
    "        trie = Trie()\n",
    "        output = -1 * math.inf\n",
    "        for num in nums:\n",
    "            binary = bin(num)[2:].zfill(max_len)\n",
    "            trie.insert(binary, num)\n",
    "            output = max(output, trie.search(binary, num))\n",
    "        return output"
   ]
  },
  {
   "cell_type": "code",
   "execution_count": null,
   "id": "thrown-content",
   "metadata": {},
   "outputs": [],
   "source": []
  }
 ],
 "metadata": {
  "kernelspec": {
   "display_name": "Python 3",
   "language": "python",
   "name": "python3"
  },
  "language_info": {
   "codemirror_mode": {
    "name": "ipython",
    "version": 3
   },
   "file_extension": ".py",
   "mimetype": "text/x-python",
   "name": "python",
   "nbconvert_exporter": "python",
   "pygments_lexer": "ipython3",
   "version": "3.8.5"
  }
 },
 "nbformat": 4,
 "nbformat_minor": 5
}
