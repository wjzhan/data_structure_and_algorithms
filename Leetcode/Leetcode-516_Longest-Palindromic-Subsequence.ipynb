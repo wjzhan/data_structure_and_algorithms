{
 "cells": [
  {
   "cell_type": "markdown",
   "id": "unauthorized-hammer",
   "metadata": {},
   "source": [
    "Given a string s, find the longest palindromic subsequence's length in s.\n",
    "\n",
    "A subsequence is a sequence that can be derived from another sequence by deleting some or no elements without changing the order of the remaining elements."
   ]
  },
  {
   "cell_type": "markdown",
   "id": "potential-alarm",
   "metadata": {},
   "source": [
    "### Iterative"
   ]
  },
  {
   "cell_type": "code",
   "execution_count": 2,
   "id": "average-vaccine",
   "metadata": {},
   "outputs": [],
   "source": [
    "def longestPalindromeSubseq(s):\n",
    "    n = len(s)\n",
    "    sr = s[::-1]\n",
    "    \n",
    "    dp = [[0 for i in range(n+1)] for j in range(n+1)]\n",
    "    \n",
    "    for i in range(1, n+1):\n",
    "        for j in range(1, n+1):\n",
    "            if s[i-1] == sr[j-1]:\n",
    "                dp[i][j] = dp[i-1][j-1] + 1\n",
    "            else:\n",
    "                dp[i][j] = max(dp[i][j-1], dp[i-1][j])\n",
    "    return dp[-1][-1]\n",
    "    "
   ]
  },
  {
   "cell_type": "code",
   "execution_count": 4,
   "id": "collaborative-briefs",
   "metadata": {},
   "outputs": [
    {
     "data": {
      "text/plain": [
       "4"
      ]
     },
     "execution_count": 4,
     "metadata": {},
     "output_type": "execute_result"
    }
   ],
   "source": [
    "s = \"bbbab\"\n",
    "longestPalindromeSubseq(s)"
   ]
  },
  {
   "cell_type": "markdown",
   "id": "declared-preserve",
   "metadata": {},
   "source": [
    "### Recurrsion"
   ]
  },
  {
   "cell_type": "code",
   "execution_count": 7,
   "id": "knowing-belly",
   "metadata": {},
   "outputs": [],
   "source": [
    "def longestPalindromeSubseq(s):\n",
    "    n = len(s)\n",
    "    sr = s[::-1]\n",
    "    memo = [[0 for i in range(n)] for j in range(n)]\n",
    "    \n",
    "    def df(i, j):\n",
    "        if i == -1 or j == -1:\n",
    "            return 0\n",
    "        if memo[i][j] != 0:\n",
    "            return memo[i][j]\n",
    "        \n",
    "        if s[i] == sr[j]:\n",
    "            memo[i][j] = df(i-1, j-1) + 1\n",
    "        else:\n",
    "            memo[i][j] = max(df(i, j-1), df(i-1, j))\n",
    "        \n",
    "        return memo[i][j]\n",
    "    \n",
    "    return df(n-1, n-1)\n",
    "        \n",
    "        "
   ]
  },
  {
   "cell_type": "code",
   "execution_count": 8,
   "id": "fifty-elite",
   "metadata": {},
   "outputs": [
    {
     "data": {
      "text/plain": [
       "4"
      ]
     },
     "execution_count": 8,
     "metadata": {},
     "output_type": "execute_result"
    }
   ],
   "source": [
    "s = \"bbbab\"\n",
    "longestPalindromeSubseq(s)"
   ]
  },
  {
   "cell_type": "code",
   "execution_count": null,
   "id": "rental-bibliography",
   "metadata": {},
   "outputs": [],
   "source": []
  }
 ],
 "metadata": {
  "kernelspec": {
   "display_name": "Python 3",
   "language": "python",
   "name": "python3"
  },
  "language_info": {
   "codemirror_mode": {
    "name": "ipython",
    "version": 3
   },
   "file_extension": ".py",
   "mimetype": "text/x-python",
   "name": "python",
   "nbconvert_exporter": "python",
   "pygments_lexer": "ipython3",
   "version": "3.8.5"
  }
 },
 "nbformat": 4,
 "nbformat_minor": 5
}
