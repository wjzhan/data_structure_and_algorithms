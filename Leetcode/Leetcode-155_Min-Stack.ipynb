{
 "cells": [
  {
   "cell_type": "markdown",
   "id": "skilled-vacuum",
   "metadata": {},
   "source": [
    "Design a stack that supports push, pop, top, and retrieving the minimum element in constant time.\n",
    "\n",
    "Implement the MinStack class:\n",
    "\n",
    "MinStack() initializes the stack object.\n",
    "void push(val) pushes the element val onto the stack.\n",
    "void pop() removes the element on the top of the stack.\n",
    "int top() gets the top element of the stack.\n",
    "int getMin() retrieves the minimum element in the stack."
   ]
  },
  {
   "cell_type": "code",
   "execution_count": 1,
   "id": "varying-meditation",
   "metadata": {},
   "outputs": [],
   "source": [
    "class MinStack:\n",
    "\n",
    "    def __init__(self):\n",
    "        \"\"\"\n",
    "        initialize your data structure here.\n",
    "        \"\"\"\n",
    "        self.stack = []\n",
    "        self.end = 0\n",
    "        \n",
    "\n",
    "    def push(self, val):\n",
    "        self.stack.append(val)\n",
    "        self.end += 1\n",
    "\n",
    "    def pop(self):\n",
    "        elem = self.stack.pop()\n",
    "        self.end -= 1\n",
    "        return elem\n",
    "\n",
    "    def top(self):\n",
    "        return self.stack[self.end - 1]\n",
    "\n",
    "    def getMin(self):\n",
    "        return min(self.stack[:self.end])\n"
   ]
  },
  {
   "cell_type": "code",
   "execution_count": null,
   "id": "interpreted-adams",
   "metadata": {},
   "outputs": [],
   "source": []
  }
 ],
 "metadata": {
  "kernelspec": {
   "display_name": "Python 3",
   "language": "python",
   "name": "python3"
  },
  "language_info": {
   "codemirror_mode": {
    "name": "ipython",
    "version": 3
   },
   "file_extension": ".py",
   "mimetype": "text/x-python",
   "name": "python",
   "nbconvert_exporter": "python",
   "pygments_lexer": "ipython3",
   "version": "3.8.5"
  }
 },
 "nbformat": 4,
 "nbformat_minor": 5
}
