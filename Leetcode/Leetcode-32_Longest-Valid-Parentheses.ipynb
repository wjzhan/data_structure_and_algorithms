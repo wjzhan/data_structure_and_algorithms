{
 "cells": [
  {
   "cell_type": "markdown",
   "id": "separated-governor",
   "metadata": {},
   "source": [
    "Given a string containing just the characters '(' and ')', find the length of the longest valid (well-formed) parentheses substring."
   ]
  },
  {
   "cell_type": "code",
   "execution_count": 92,
   "id": "laden-vaccine",
   "metadata": {},
   "outputs": [],
   "source": [
    "import collections\n",
    "def longestValidParentheses(s):\n",
    "    if s == '' or s is None:\n",
    "        return 0\n",
    "    left = collections.deque()\n",
    "    right = collections.deque()\n",
    "    idx = 0\n",
    "    for char in s:\n",
    "        if char == '(':\n",
    "            left.append(idx)\n",
    "        if char == ')':\n",
    "            if len(left) == 0:\n",
    "                right.append(idx)\n",
    "            if len(left) > 0:\n",
    "                left.pop()\n",
    "        idx += 1\n",
    "\n",
    "    \n",
    "    # merge two list idx, sorted list\n",
    "    merged = list(left) + list(right)\n",
    "    merged.sort()\n",
    "    \n",
    "    # no invalid symbol\n",
    "    if len(merged) == 0:\n",
    "        return len(s)\n",
    "    \n",
    "    # invalid symbol untracked at the end\n",
    "    if merged[-1] < len(s)-1:\n",
    "        merged.append(len(s))\n",
    "    \n",
    "    # invalid symbol untraced at the beginning\n",
    "    if merged[0] > 0:\n",
    "        merged.insert(0, -1)\n",
    "    \n",
    "    longest = 0\n",
    "    for i in range( len(merged) - 1 ):\n",
    "        if (merged[i+1] - merged[i] - 1) > longest:\n",
    "            longest = merged[i+1] - merged[i] - 1\n",
    "    return longest\n",
    "        \n",
    "    "
   ]
  },
  {
   "cell_type": "code",
   "execution_count": 93,
   "id": "annual-flesh",
   "metadata": {},
   "outputs": [],
   "source": [
    "s = \"()\""
   ]
  },
  {
   "cell_type": "code",
   "execution_count": 94,
   "id": "buried-steam",
   "metadata": {},
   "outputs": [
    {
     "data": {
      "text/plain": [
       "2"
      ]
     },
     "execution_count": 94,
     "metadata": {},
     "output_type": "execute_result"
    }
   ],
   "source": [
    "longestValidParentheses(s)"
   ]
  },
  {
   "cell_type": "code",
   "execution_count": null,
   "id": "golden-chain",
   "metadata": {},
   "outputs": [],
   "source": []
  }
 ],
 "metadata": {
  "kernelspec": {
   "display_name": "Python 3",
   "language": "python",
   "name": "python3"
  },
  "language_info": {
   "codemirror_mode": {
    "name": "ipython",
    "version": 3
   },
   "file_extension": ".py",
   "mimetype": "text/x-python",
   "name": "python",
   "nbconvert_exporter": "python",
   "pygments_lexer": "ipython3",
   "version": "3.8.5"
  }
 },
 "nbformat": 4,
 "nbformat_minor": 5
}
