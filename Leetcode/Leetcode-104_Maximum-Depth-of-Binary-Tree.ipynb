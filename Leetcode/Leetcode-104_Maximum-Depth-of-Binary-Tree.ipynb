{
 "cells": [
  {
   "cell_type": "markdown",
   "id": "convinced-demonstration",
   "metadata": {},
   "source": [
    "Given the root of a binary tree, return its maximum depth.\n",
    "\n",
    "A binary tree's maximum depth is the number of nodes along the longest path from the root node down to the farthest leaf node."
   ]
  },
  {
   "cell_type": "code",
   "execution_count": 1,
   "id": "fundamental-softball",
   "metadata": {},
   "outputs": [],
   "source": [
    "# Definition for a binary tree node.\n",
    "# class TreeNode:\n",
    "#     def __init__(self, val=0, left=None, right=None):\n",
    "#         self.val = val\n",
    "#         self.left = left\n",
    "#         self.right = right\n",
    "class Solution:\n",
    "    def maxDepth(self, root):\n",
    "        if not root:\n",
    "            return 0\n",
    "        result = self.dps(root)\n",
    "        return result\n",
    "    \n",
    "    def dps(self, node):\n",
    "        if not node:\n",
    "            return 0\n",
    "        left_d = self.dps(node.left) + 1\n",
    "        right_d = self.dps(node.right) + 1\n",
    "        return max(left_d, right_d)"
   ]
  },
  {
   "cell_type": "code",
   "execution_count": null,
   "id": "catholic-hunger",
   "metadata": {},
   "outputs": [],
   "source": []
  }
 ],
 "metadata": {
  "kernelspec": {
   "display_name": "Python 3",
   "language": "python",
   "name": "python3"
  },
  "language_info": {
   "codemirror_mode": {
    "name": "ipython",
    "version": 3
   },
   "file_extension": ".py",
   "mimetype": "text/x-python",
   "name": "python",
   "nbconvert_exporter": "python",
   "pygments_lexer": "ipython3",
   "version": "3.8.5"
  }
 },
 "nbformat": 4,
 "nbformat_minor": 5
}
