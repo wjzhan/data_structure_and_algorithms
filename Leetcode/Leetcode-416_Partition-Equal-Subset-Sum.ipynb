{
 "cells": [
  {
   "cell_type": "markdown",
   "id": "flexible-registration",
   "metadata": {},
   "source": [
    "Given a non-empty array nums containing only positive integers, find if the array can be partitioned into two subsets such that the sum of elements in both subsets is equal."
   ]
  },
  {
   "cell_type": "code",
   "execution_count": 17,
   "id": "structured-projection",
   "metadata": {},
   "outputs": [],
   "source": [
    "def canPartition(nums):\n",
    "    if sum(nums) %2 == 1:\n",
    "        return False\n",
    "\n",
    "    target = sum(nums) //2\n",
    "    \n",
    "    #dp stores the number of all combinations \n",
    "    dp = [[0 for i in range(target + 1)] for j in range(len(nums) + 1)]\n",
    "\n",
    "    for i in range(0, len(nums) + 1):\n",
    "        dp[i][0] = 1\n",
    "\n",
    "    for i in range(1, len(nums)+1):\n",
    "        for j in range(1, target + 1):\n",
    "            if j - nums[i-1] >= 0:\n",
    "                dp[i][j] = dp[i-1][j] + dp[i-1][j - nums[i-1]]\n",
    "            else:\n",
    "                dp[i][j] = dp[i-1][j]\n",
    "    print(dp)\n",
    "    if dp[-1][-1] >= 2:\n",
    "        return True\n",
    "    else:\n",
    "        return False"
   ]
  },
  {
   "cell_type": "code",
   "execution_count": 16,
   "id": "measured-classification",
   "metadata": {},
   "outputs": [
    {
     "name": "stdout",
     "output_type": "stream",
     "text": [
      "[[1, 0, 0, 0, 0, 0, 0, 0, 0, 0, 0, 0], [1, 1, 0, 0, 0, 0, 0, 0, 0, 0, 0, 0], [1, 1, 0, 0, 0, 1, 1, 0, 0, 0, 0, 0], [1, 1, 0, 0, 0, 1, 1, 0, 0, 0, 0, 1], [1, 1, 0, 0, 0, 2, 2, 0, 0, 0, 1, 2]]\n"
     ]
    },
    {
     "data": {
      "text/plain": [
       "True"
      ]
     },
     "execution_count": 16,
     "metadata": {},
     "output_type": "execute_result"
    }
   ],
   "source": [
    "nums = [1,5,11,5]\n",
    "canPartition(nums)"
   ]
  },
  {
   "cell_type": "code",
   "execution_count": null,
   "id": "fluid-emergency",
   "metadata": {},
   "outputs": [],
   "source": []
  }
 ],
 "metadata": {
  "kernelspec": {
   "display_name": "Python 3",
   "language": "python",
   "name": "python3"
  },
  "language_info": {
   "codemirror_mode": {
    "name": "ipython",
    "version": 3
   },
   "file_extension": ".py",
   "mimetype": "text/x-python",
   "name": "python",
   "nbconvert_exporter": "python",
   "pygments_lexer": "ipython3",
   "version": "3.8.5"
  }
 },
 "nbformat": 4,
 "nbformat_minor": 5
}
