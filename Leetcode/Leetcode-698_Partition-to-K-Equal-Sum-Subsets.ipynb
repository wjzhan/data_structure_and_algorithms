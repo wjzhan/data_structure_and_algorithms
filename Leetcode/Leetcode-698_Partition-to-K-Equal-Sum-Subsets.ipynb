{
 "cells": [
  {
   "cell_type": "markdown",
   "id": "elder-infrastructure",
   "metadata": {},
   "source": [
    "Given an integer array nums and an integer k, return true if it is possible to divide this array into k non-empty subsets whose sums are all equal."
   ]
  },
  {
   "cell_type": "code",
   "execution_count": 2,
   "id": "expanded-voice",
   "metadata": {},
   "outputs": [],
   "source": [
    "def canPartitionKSubsets(nums, k):\n",
    "    if sum(nums)%k != 0 or len(nums)%k != 0:\n",
    "        return False\n",
    "    \n",
    "    bucket_val = sum(nums) // k\n",
    "    \n",
    "    def df(nums, i, keyset):\n",
    "        if i == len(nums):\n",
    "            keysum = [sum(row) for row in keyset]\n",
    "            \n",
    "            return\n",
    "        \n",
    "        for g in range(k):\n",
    "            # already full set\n",
    "            if sum(keyset[g]) + nums[i] > bucket_val\n",
    "                continue\n",
    "            \n",
    "            # take action\n",
    "            keyset[g].append(nums[i])\n",
    "            # recursion\n",
    "            df(nums, i+1, keyset)\n",
    "            # undo action\n",
    "            keyset[g].remove(nums[i])\n",
    "        \n",
    "        "
   ]
  },
  {
   "cell_type": "code",
   "execution_count": 3,
   "id": "acknowledged-bhutan",
   "metadata": {},
   "outputs": [],
   "source": [
    "a = {1:True, 2:False, 3:False}"
   ]
  },
  {
   "cell_type": "code",
   "execution_count": 9,
   "id": "geological-section",
   "metadata": {},
   "outputs": [
    {
     "data": {
      "text/plain": [
       "True"
      ]
     },
     "execution_count": 9,
     "metadata": {},
     "output_type": "execute_result"
    }
   ],
   "source": [
    "True in list(a.values())"
   ]
  },
  {
   "cell_type": "code",
   "execution_count": 16,
   "id": "sapphire-month",
   "metadata": {},
   "outputs": [],
   "source": [
    "a = [[1,5],[2,4], []]"
   ]
  },
  {
   "cell_type": "code",
   "execution_count": 17,
   "id": "earlier-abortion",
   "metadata": {},
   "outputs": [
    {
     "data": {
      "text/plain": [
       "[6, 6, 0]"
      ]
     },
     "execution_count": 17,
     "metadata": {},
     "output_type": "execute_result"
    }
   ],
   "source": [
    "[sum(row) for row in a]"
   ]
  },
  {
   "cell_type": "code",
   "execution_count": 13,
   "id": "spatial-buffalo",
   "metadata": {},
   "outputs": [
    {
     "data": {
      "text/plain": [
       "[1, 2, 3, 4, 5]"
      ]
     },
     "execution_count": 13,
     "metadata": {},
     "output_type": "execute_result"
    }
   ],
   "source": [
    "a"
   ]
  },
  {
   "cell_type": "code",
   "execution_count": null,
   "id": "dimensional-merit",
   "metadata": {},
   "outputs": [],
   "source": []
  }
 ],
 "metadata": {
  "kernelspec": {
   "display_name": "Python 3",
   "language": "python",
   "name": "python3"
  },
  "language_info": {
   "codemirror_mode": {
    "name": "ipython",
    "version": 3
   },
   "file_extension": ".py",
   "mimetype": "text/x-python",
   "name": "python",
   "nbconvert_exporter": "python",
   "pygments_lexer": "ipython3",
   "version": "3.8.5"
  }
 },
 "nbformat": 4,
 "nbformat_minor": 5
}
