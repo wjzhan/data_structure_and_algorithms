{
 "cells": [
  {
   "cell_type": "code",
   "execution_count": null,
   "id": "dress-picking",
   "metadata": {},
   "outputs": [],
   "source": []
  },
  {
   "cell_type": "markdown",
   "id": "expired-receptor",
   "metadata": {},
   "source": [
    "### Recursion"
   ]
  },
  {
   "cell_type": "code",
   "execution_count": 43,
   "id": "handed-necessity",
   "metadata": {},
   "outputs": [],
   "source": [
    "def findTargetSumWays(nums, target):    \n",
    "    memo = {}\n",
    "    \n",
    "    def df(nums, i, rest): \n",
    "        if i == len(nums):\n",
    "            if rest == target:\n",
    "                return 1\n",
    "            return 0\n",
    "        \n",
    "        key = str(i) + ',' + str(rest)\n",
    "        if key in memo:\n",
    "            return memo[key]\n",
    "        \n",
    "        tmp = 0\n",
    "        for sign in [-1, 1]:\n",
    "            tmp += df(nums, i+1, rest + nums[i] * sign)    \n",
    "        memo[key] = tmp\n",
    "        \n",
    "        return memo[key]\n",
    "    \n",
    "    result = df(nums, 0, 0)\n",
    "    \n",
    "    return result"
   ]
  },
  {
   "cell_type": "code",
   "execution_count": 44,
   "id": "occupational-patio",
   "metadata": {},
   "outputs": [
    {
     "data": {
      "text/plain": [
       "5"
      ]
     },
     "execution_count": 44,
     "metadata": {},
     "output_type": "execute_result"
    }
   ],
   "source": [
    "findTargetSumWays([1,1,1,1,1], 3)"
   ]
  },
  {
   "cell_type": "code",
   "execution_count": 45,
   "id": "medium-dress",
   "metadata": {},
   "outputs": [
    {
     "data": {
      "text/plain": [
       "1"
      ]
     },
     "execution_count": 45,
     "metadata": {},
     "output_type": "execute_result"
    }
   ],
   "source": [
    "findTargetSumWays([1], 1)"
   ]
  },
  {
   "cell_type": "markdown",
   "id": "creative-structure",
   "metadata": {},
   "source": [
    "### Dynamic Programming"
   ]
  },
  {
   "cell_type": "code",
   "execution_count": 70,
   "id": "adapted-chicken",
   "metadata": {},
   "outputs": [],
   "source": [
    "def findTargetSumWays(nums, target):  \n",
    "    if sum(nums) < target or (target + sum(nums))%2 == 1:\n",
    "        return 0\n",
    "    \n",
    "    bag = (target + sum(nums)) // 2\n",
    "\n",
    "    dp = [[0 for i in range(bag+1)] for j in range(len(nums)+1)]\n",
    "    for i in range(len(nums) + 1):\n",
    "        dp[i][0] = 1\n",
    "    \n",
    "    for i in range(1, len(nums)+1):\n",
    "        for j in range(1, bag+1):\n",
    "            # item can be included\n",
    "            if j - nums[i-1] >=0:\n",
    "                dp[i][j] = dp[i-1][j] + dp[i-1][j-nums[i-1]]\n",
    "            # item cannot be included:\n",
    "            else:\n",
    "                dp[i][j] = dp[i-1][j] \n",
    "    print(dp)\n",
    "    return dp[-1][-1]\n",
    "    "
   ]
  },
  {
   "cell_type": "code",
   "execution_count": 67,
   "id": "located-space",
   "metadata": {},
   "outputs": [
    {
     "name": "stdout",
     "output_type": "stream",
     "text": [
      "[[1, 0], [1, 1]]\n"
     ]
    },
    {
     "data": {
      "text/plain": [
       "1"
      ]
     },
     "execution_count": 67,
     "metadata": {},
     "output_type": "execute_result"
    }
   ],
   "source": [
    "findTargetSumWays([1], 1)"
   ]
  },
  {
   "cell_type": "code",
   "execution_count": 68,
   "id": "static-database",
   "metadata": {},
   "outputs": [
    {
     "name": "stdout",
     "output_type": "stream",
     "text": [
      "[[1, 0, 0, 0, 0], [1, 1, 0, 0, 0], [1, 2, 1, 0, 0], [1, 3, 3, 1, 0], [1, 4, 6, 4, 1], [1, 5, 10, 10, 5]]\n"
     ]
    },
    {
     "data": {
      "text/plain": [
       "5"
      ]
     },
     "execution_count": 68,
     "metadata": {},
     "output_type": "execute_result"
    }
   ],
   "source": [
    "findTargetSumWays([1,1,1,1,1], 3)"
   ]
  },
  {
   "cell_type": "code",
   "execution_count": 71,
   "id": "tutorial-energy",
   "metadata": {},
   "outputs": [
    {
     "name": "stdout",
     "output_type": "stream",
     "text": [
      "[[1, 0], [1, 1]]\n"
     ]
    },
    {
     "data": {
      "text/plain": [
       "1"
      ]
     },
     "execution_count": 71,
     "metadata": {},
     "output_type": "execute_result"
    }
   ],
   "source": [
    "findTargetSumWays([1], 2)"
   ]
  },
  {
   "cell_type": "code",
   "execution_count": null,
   "id": "younger-behavior",
   "metadata": {},
   "outputs": [],
   "source": []
  }
 ],
 "metadata": {
  "kernelspec": {
   "display_name": "Python 3",
   "language": "python",
   "name": "python3"
  },
  "language_info": {
   "codemirror_mode": {
    "name": "ipython",
    "version": 3
   },
   "file_extension": ".py",
   "mimetype": "text/x-python",
   "name": "python",
   "nbconvert_exporter": "python",
   "pygments_lexer": "ipython3",
   "version": "3.8.5"
  }
 },
 "nbformat": 4,
 "nbformat_minor": 5
}
