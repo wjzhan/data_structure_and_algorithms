{
 "cells": [
  {
   "cell_type": "markdown",
   "id": "harmful-smell",
   "metadata": {},
   "source": [
    "Merge two sorted linked lists and return it as a sorted list. The list should be made by splicing together the nodes of the first two lists."
   ]
  },
  {
   "cell_type": "code",
   "execution_count": 2,
   "id": "portable-gothic",
   "metadata": {},
   "outputs": [],
   "source": [
    "def mergeTwoLists(l1, l2):\n",
    "    if l1 is None:\n",
    "        return l2\n",
    "    if l2 is None:\n",
    "        return l1\n",
    "    l = None\n",
    "    itr1 = l1\n",
    "    itr2 = l2\n",
    "    if itr1.val <= itr2.val:\n",
    "        l = itr1\n",
    "        itr1 = itr1.next\n",
    "    else:\n",
    "        l = itr2\n",
    "        itr2 = itr2.next\n",
    "\n",
    "    itr = l\n",
    "\n",
    "    while itr1 is not None and itr2 is not None:\n",
    "        if itr1.val <= itr2.val:\n",
    "            itr.next = itr1\n",
    "            itr1 = itr1.next\n",
    "        else:\n",
    "            itr.next = itr2\n",
    "            itr2 = itr2.next\n",
    "        itr = itr.next\n",
    "\n",
    "    while itr1 is not None:\n",
    "        itr.next = itr1\n",
    "        itr1 = itr1.next\n",
    "        itr = itr.next\n",
    "    while itr2 is not None:\n",
    "        itr.next = itr2\n",
    "        itr2 = itr2.next\n",
    "        itr = itr.next\n",
    "    return l"
   ]
  },
  {
   "cell_type": "code",
   "execution_count": null,
   "id": "macro-working",
   "metadata": {},
   "outputs": [],
   "source": []
  }
 ],
 "metadata": {
  "kernelspec": {
   "display_name": "Python 3",
   "language": "python",
   "name": "python3"
  },
  "language_info": {
   "codemirror_mode": {
    "name": "ipython",
    "version": 3
   },
   "file_extension": ".py",
   "mimetype": "text/x-python",
   "name": "python",
   "nbconvert_exporter": "python",
   "pygments_lexer": "ipython3",
   "version": "3.8.5"
  }
 },
 "nbformat": 4,
 "nbformat_minor": 5
}
