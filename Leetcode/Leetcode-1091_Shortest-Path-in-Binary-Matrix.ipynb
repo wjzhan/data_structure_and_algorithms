{
 "cells": [
  {
   "cell_type": "markdown",
   "id": "expected-vector",
   "metadata": {},
   "source": [
    "Given an n x n binary matrix grid, return the length of the shortest clear path in the matrix. If there is no clear path, return -1.\n",
    "\n",
    "A clear path in a binary matrix is a path from the top-left cell (i.e., (0, 0)) to the bottom-right cell (i.e., (n - 1, n - 1)) such that:\n",
    "\n",
    "All the visited cells of the path are 0.\n",
    "All the adjacent cells of the path are 8-directionally connected (i.e., they are different and they share an edge or a corner).\n",
    "The length of a clear path is the number of visited cells of this path."
   ]
  },
  {
   "cell_type": "code",
   "execution_count": 37,
   "id": "forty-stopping",
   "metadata": {},
   "outputs": [],
   "source": [
    "import collections\n",
    "\n",
    "def shortestPathBinaryMatrix(grid):\n",
    "\n",
    "        # construct the graph:\n",
    "        neighbors = {}\n",
    "        row_size = len(grid)\n",
    "        col_size = len(grid[0])\n",
    "        for row in range(row_size):\n",
    "            for col in range(col_size):\n",
    "                if grid[row][col] == 0:\n",
    "                    neighbors[(row, col)] = []\n",
    "                else:\n",
    "                    continue\n",
    "                if col + 1 < col_size and grid[row][col+1] == 0:\n",
    "                    neighbors[(row, col)] += [(row, col+1)] \n",
    "                if row+1 < row_size and col+1 < col_size and grid[row+1][col+1] == 0:\n",
    "                    neighbors[(row, col)] += [(row+1, col+1)]\n",
    "                if row+1 < row_size and grid[row+1][col] == 0:\n",
    "                    neighbors[(row, col)] += [(row+1, col)]\n",
    "                if row+1 < row_size and col-1 >-1 and grid[row+1][col-1] == 0:\n",
    "                    neighbors[(row, col)] += [(row+1, col-1)]\n",
    "                if col-1 >-1 and grid[row][col-1] == 0:\n",
    "                    neighbors[(row, col)] += [(row, col-1)]    \n",
    "                if row-1 >-1 and col-1 >-1 and grid[row-1][col-1] == 0:\n",
    "                    neighbors[(row, col)] += [(row-1, col-1)]\n",
    "                if row-1 >-1 and grid[row-1][col] == 0:\n",
    "                    neighbors[(row, col)] += [(row-1, col)]\n",
    "                if row-1 >-1 and col+1 < col_size and grid[row-1][col+1] == 0:\n",
    "                    neighbors[(row, col)] += [(row-1, col+1)]\n",
    "        # BFS\n",
    "        if grid[0][0] != 0:\n",
    "            return -1\n",
    "        \n",
    "        queue = collections.deque([(0,0)])\n",
    "        distance = {(0,0): 1}\n",
    "        \n",
    "        while queue:\n",
    "            node = queue.popleft()\n",
    "            if node == (row_size-1, col_size-1):\n",
    "                if node in distance:\n",
    "                    return distance[node]\n",
    "                else:\n",
    "                    return -1\n",
    "            nextnodes = neighbors[node]\n",
    "            for nextnode in nextnodes:\n",
    "                if nextnode in distance:\n",
    "                    continue\n",
    "                queue.append(nextnode)\n",
    "                distance[nextnode] = distance[node] + 1\n",
    "        \n",
    "        if (row_size-1, col_size-1) in distance:\n",
    "            return distance[(row_size-1, col_size-1)]\n",
    "        else:\n",
    "            return -1"
   ]
  },
  {
   "cell_type": "code",
   "execution_count": 38,
   "id": "clinical-suicide",
   "metadata": {},
   "outputs": [],
   "source": [
    "grid = [[0,0,0],[1,1,0],[1,1,0]]"
   ]
  },
  {
   "cell_type": "code",
   "execution_count": 39,
   "id": "attended-genesis",
   "metadata": {},
   "outputs": [
    {
     "data": {
      "text/plain": [
       "4"
      ]
     },
     "execution_count": 39,
     "metadata": {},
     "output_type": "execute_result"
    }
   ],
   "source": [
    "shortestPathBinaryMatrix(grid)"
   ]
  },
  {
   "cell_type": "code",
   "execution_count": null,
   "id": "natural-franklin",
   "metadata": {},
   "outputs": [],
   "source": []
  }
 ],
 "metadata": {
  "kernelspec": {
   "display_name": "Python 3",
   "language": "python",
   "name": "python3"
  },
  "language_info": {
   "codemirror_mode": {
    "name": "ipython",
    "version": 3
   },
   "file_extension": ".py",
   "mimetype": "text/x-python",
   "name": "python",
   "nbconvert_exporter": "python",
   "pygments_lexer": "ipython3",
   "version": "3.8.5"
  }
 },
 "nbformat": 4,
 "nbformat_minor": 5
}
