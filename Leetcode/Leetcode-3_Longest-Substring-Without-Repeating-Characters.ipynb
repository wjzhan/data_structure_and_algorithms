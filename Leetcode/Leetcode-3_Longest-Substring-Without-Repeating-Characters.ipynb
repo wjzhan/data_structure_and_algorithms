{
 "cells": [
  {
   "cell_type": "markdown",
   "id": "digital-projector",
   "metadata": {},
   "source": [
    "Given a string s, find the length of the longest substring without repeating characters."
   ]
  },
  {
   "cell_type": "code",
   "execution_count": 38,
   "id": "finnish-subscriber",
   "metadata": {},
   "outputs": [],
   "source": [
    "def lengthOfLongestSubstring(s):\n",
    "    left, right = 0,0\n",
    "    window = {}\n",
    "    repeat = 0\n",
    "    max_len = 0\n",
    "    longest = ''\n",
    "    \n",
    "    # initialize window\n",
    "    for i in s:\n",
    "        if i not in window:\n",
    "            window[i] = 0\n",
    "            \n",
    "    while right < len(s):\n",
    "            \n",
    "        a = s[right]\n",
    "        # update window\n",
    "        if window[a] == 1:\n",
    "            repeat += 1\n",
    "        window[a] += 1\n",
    "        \n",
    "        # update longest string\n",
    "        if repeat == 0 and right - left + 1 > max_len:\n",
    "            longest = s[left:right+1]\n",
    "            max_len = right - left + 1\n",
    "        \n",
    "        right += 1    \n",
    "       \n",
    "        while repeat > 0:\n",
    "            d = s[left]\n",
    "            #update window\n",
    "            if window[d] == 2:\n",
    "                repeat -= 1\n",
    "            window[d] -= 1\n",
    "            \n",
    "            left += 1\n",
    "            \n",
    "    return max_len\n",
    "    "
   ]
  },
  {
   "cell_type": "code",
   "execution_count": 39,
   "id": "successful-parade",
   "metadata": {},
   "outputs": [
    {
     "data": {
      "text/plain": [
       "0"
      ]
     },
     "execution_count": 39,
     "metadata": {},
     "output_type": "execute_result"
    }
   ],
   "source": [
    "# s = \"abcd3f\"\n",
    "# s = \"bbbbb\"\n",
    "# s = \"pwwkew\"\n",
    "s = \"\"\n",
    "lengthOfLongestSubstring(s)"
   ]
  },
  {
   "cell_type": "code",
   "execution_count": null,
   "id": "charming-raleigh",
   "metadata": {},
   "outputs": [],
   "source": []
  }
 ],
 "metadata": {
  "kernelspec": {
   "display_name": "Python 3",
   "language": "python",
   "name": "python3"
  },
  "language_info": {
   "codemirror_mode": {
    "name": "ipython",
    "version": 3
   },
   "file_extension": ".py",
   "mimetype": "text/x-python",
   "name": "python",
   "nbconvert_exporter": "python",
   "pygments_lexer": "ipython3",
   "version": "3.8.5"
  }
 },
 "nbformat": 4,
 "nbformat_minor": 5
}
