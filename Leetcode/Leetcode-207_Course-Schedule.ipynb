{
 "cells": [
  {
   "cell_type": "markdown",
   "id": "coastal-consultancy",
   "metadata": {},
   "source": [
    "There are a total of numCourses courses you have to take, labeled from 0 to numCourses - 1. You are given an array prerequisites where prerequisites[i] = [ai, bi] indicates that you must take course bi first if you want to take course ai.\n",
    "\n",
    "For example, the pair [0, 1], indicates that to take course 0 you have to first take course 1.\n",
    "Return true if you can finish all courses. Otherwise, return false."
   ]
  },
  {
   "cell_type": "code",
   "execution_count": 2,
   "id": "controlling-fifty",
   "metadata": {},
   "outputs": [
    {
     "data": {
      "text/plain": [
       "{0: 0, 1: 0, 2: 0, 3: 0, 4: 0, 5: 0, 6: 0, 7: 0}"
      ]
     },
     "execution_count": 2,
     "metadata": {},
     "output_type": "execute_result"
    }
   ],
   "source": [
    "{node:0 for node in range(8)}"
   ]
  },
  {
   "cell_type": "code",
   "execution_count": null,
   "id": "comic-spirit",
   "metadata": {},
   "outputs": [],
   "source": [
    "def canFinish(numCourses, prerequisites):\n",
    "    # create the graph\n",
    "    neighbors = {}\n",
    "    for pair in prerequisites:\n",
    "        if pair[1] not in neighbors:\n",
    "            neighbors[pair[1]] = [pair[0]]\n",
    "        else:\n",
    "            neighbors[pair[1]] += [pair[0]]\n",
    "\n",
    "    # crate in-degrees:\n",
    "    indegrees = {node:0 for node in range(numCourses)}\n",
    "    for pair in prerequisites:\n",
    "        indegrees[pair[0]] += 1\n",
    "\n",
    "    # bfs\n",
    "    topo_order = []\n",
    "    # construct queue, initialize\n",
    "    queue = collections.deque()\n",
    "    for pre in indegrees:\n",
    "        if indegrees[pre] == 0:\n",
    "            queue.append(pre)\n",
    "\n",
    "    if len(queue) == 0:\n",
    "        return False\n",
    "\n",
    "    while len(queue) > 0:\n",
    "        node = queue.popleft()\n",
    "        topo_order.append(node)\n",
    "        if node not in neighbors:\n",
    "            continue\n",
    "        for neighbor in neighbors[node]:\n",
    "            indegrees[neighbor] -= 1\n",
    "            if indegrees[neighbor] == 0:\n",
    "                queue.append(neighbor)\n",
    "\n",
    "    if len(topo_order) == numCourses:\n",
    "        return True\n",
    "    else:\n",
    "        return False"
   ]
  }
 ],
 "metadata": {
  "kernelspec": {
   "display_name": "Python 3",
   "language": "python",
   "name": "python3"
  },
  "language_info": {
   "codemirror_mode": {
    "name": "ipython",
    "version": 3
   },
   "file_extension": ".py",
   "mimetype": "text/x-python",
   "name": "python",
   "nbconvert_exporter": "python",
   "pygments_lexer": "ipython3",
   "version": "3.8.5"
  }
 },
 "nbformat": 4,
 "nbformat_minor": 5
}
