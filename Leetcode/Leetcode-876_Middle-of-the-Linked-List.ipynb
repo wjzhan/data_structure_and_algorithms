{
 "cells": [
  {
   "cell_type": "markdown",
   "id": "dried-malta",
   "metadata": {},
   "source": [
    "Given a non-empty, singly linked list with head node head, return a middle node of linked list.\n",
    "\n",
    "If there are two middle nodes, return the second middle node.\n",
    "\n"
   ]
  },
  {
   "cell_type": "code",
   "execution_count": 1,
   "id": "continuous-basics",
   "metadata": {},
   "outputs": [],
   "source": [
    "def middleNode(head):\n",
    "    if head == None:\n",
    "        return None\n",
    "    if head.next == None:\n",
    "        return head\n",
    "\n",
    "    itr = head\n",
    "    checker = head\n",
    "\n",
    "    while checker.next and checker.next.next:\n",
    "        itr = itr.next\n",
    "        checker = checker.next.next\n",
    "\n",
    "    if checker.next:\n",
    "        return itr.next\n",
    "    else:\n",
    "        return itr"
   ]
  },
  {
   "cell_type": "code",
   "execution_count": null,
   "id": "responsible-circuit",
   "metadata": {},
   "outputs": [],
   "source": []
  }
 ],
 "metadata": {
  "kernelspec": {
   "display_name": "Python 3",
   "language": "python",
   "name": "python3"
  },
  "language_info": {
   "codemirror_mode": {
    "name": "ipython",
    "version": 3
   },
   "file_extension": ".py",
   "mimetype": "text/x-python",
   "name": "python",
   "nbconvert_exporter": "python",
   "pygments_lexer": "ipython3",
   "version": "3.8.5"
  }
 },
 "nbformat": 4,
 "nbformat_minor": 5
}
