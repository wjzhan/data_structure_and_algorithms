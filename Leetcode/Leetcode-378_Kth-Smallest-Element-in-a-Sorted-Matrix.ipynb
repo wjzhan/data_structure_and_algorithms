{
 "cells": [
  {
   "cell_type": "markdown",
   "id": "institutional-chinese",
   "metadata": {},
   "source": [
    "Given an n x n matrix where each of the rows and columns are sorted in ascending order, return the kth smallest element in the matrix.\n",
    "\n",
    "Note that it is the kth smallest element in the sorted order, not the kth distinct element."
   ]
  },
  {
   "cell_type": "code",
   "execution_count": 1,
   "id": "manufactured-workplace",
   "metadata": {},
   "outputs": [],
   "source": [
    "def kthSmallest(matrix, k):\n",
    "\n",
    "    h = []\n",
    "    for i in range(len(matrix)):\n",
    "        for elem in matrix[i]:\n",
    "            heapq.heappush(h, elem)\n",
    "\n",
    "    j = k-1\n",
    "    while j > 0:\n",
    "        heapq.heappop(h)\n",
    "        j -= 1\n",
    "\n",
    "    result = heapq.heappop(h)\n",
    "    return result"
   ]
  },
  {
   "cell_type": "code",
   "execution_count": null,
   "id": "tribal-oxide",
   "metadata": {},
   "outputs": [],
   "source": []
  }
 ],
 "metadata": {
  "kernelspec": {
   "display_name": "Python 3",
   "language": "python",
   "name": "python3"
  },
  "language_info": {
   "codemirror_mode": {
    "name": "ipython",
    "version": 3
   },
   "file_extension": ".py",
   "mimetype": "text/x-python",
   "name": "python",
   "nbconvert_exporter": "python",
   "pygments_lexer": "ipython3",
   "version": "3.8.5"
  }
 },
 "nbformat": 4,
 "nbformat_minor": 5
}
