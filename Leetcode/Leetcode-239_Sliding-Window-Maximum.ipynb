{
 "cells": [
  {
   "cell_type": "markdown",
   "id": "warming-replica",
   "metadata": {},
   "source": [
    "You are given an array of integers nums, there is a sliding window of size k which is moving from the very left of the array to the very right. You can only see the k numbers in the window. Each time the sliding window moves right by one position.\n",
    "\n",
    "Return the max sliding window."
   ]
  },
  {
   "cell_type": "code",
   "execution_count": 2,
   "id": "stuffed-citation",
   "metadata": {},
   "outputs": [
    {
     "data": {
      "text/plain": [
       "[1, 2, 3, 4, 5]"
      ]
     },
     "execution_count": 2,
     "metadata": {},
     "output_type": "execute_result"
    }
   ],
   "source": [
    "list(range(1, 8-3 + 1))"
   ]
  },
  {
   "cell_type": "code",
   "execution_count": 3,
   "id": "obvious-chance",
   "metadata": {},
   "outputs": [
    {
     "data": {
      "text/plain": [
       "3"
      ]
     },
     "execution_count": 3,
     "metadata": {},
     "output_type": "execute_result"
    }
   ],
   "source": [
    "a = [1,2,3,4,5]\n",
    "a.index(4)"
   ]
  },
  {
   "cell_type": "code",
   "execution_count": 17,
   "id": "patent-district",
   "metadata": {},
   "outputs": [],
   "source": [
    "import collections\n",
    "def maxSlidingWindow(nums, k):\n",
    "    stack = collections.deque()\n",
    "    output = []\n",
    "\n",
    "    i = 0\n",
    "    while i<len(nums):\n",
    "        while stack and nums[stack[-1]] <= nums[i]:\n",
    "            stack.pop()\n",
    "        stack.append(i)\n",
    "        \n",
    "        while stack[0] < i-k+1:\n",
    "            stack.popleft()\n",
    "        \n",
    "        if i >= k-1:\n",
    "            output.append(nums[stack[0]])\n",
    "            \n",
    "        i +=1\n",
    "\n",
    "    return output"
   ]
  },
  {
   "cell_type": "code",
   "execution_count": 18,
   "id": "wireless-wheat",
   "metadata": {},
   "outputs": [
    {
     "name": "stdout",
     "output_type": "stream",
     "text": [
      "deque([0])\n",
      "deque([0])\n",
      "---------\n",
      "deque([0, 1])\n",
      "deque([0, 1])\n",
      "---------\n",
      "deque([0, 2])\n",
      "deque([2])\n",
      "---------\n"
     ]
    },
    {
     "data": {
      "text/plain": [
       "[7, 4]"
      ]
     },
     "execution_count": 18,
     "metadata": {},
     "output_type": "execute_result"
    }
   ],
   "source": [
    "nums = [7,2,4]\n",
    "\n",
    "k = 2\n",
    "maxSlidingWindow(nums, k)"
   ]
  },
  {
   "cell_type": "code",
   "execution_count": null,
   "id": "moving-island",
   "metadata": {},
   "outputs": [],
   "source": []
  }
 ],
 "metadata": {
  "kernelspec": {
   "display_name": "Python 3",
   "language": "python",
   "name": "python3"
  },
  "language_info": {
   "codemirror_mode": {
    "name": "ipython",
    "version": 3
   },
   "file_extension": ".py",
   "mimetype": "text/x-python",
   "name": "python",
   "nbconvert_exporter": "python",
   "pygments_lexer": "ipython3",
   "version": "3.8.5"
  }
 },
 "nbformat": 4,
 "nbformat_minor": 5
}
