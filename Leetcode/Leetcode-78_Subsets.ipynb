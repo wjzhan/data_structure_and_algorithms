{
 "cells": [
  {
   "cell_type": "markdown",
   "id": "configured-budapest",
   "metadata": {},
   "source": [
    "Given an integer array nums of unique elements, return all possible subsets (the power set).\n",
    "\n",
    "The solution set must not contain duplicate subsets. Return the solution in any order.\n",
    "\n",
    "<pre><code>\n",
    "Example 1:\n",
    "\n",
    "Input: nums = [1,2,3]\n",
    "Output: [[],[1],[2],[1,2],[3],[1,3],[2,3],[1,2,3]]\n",
    "Example 2:\n",
    "\n",
    "Input: nums = [0]\n",
    "Output: [[],[0]]\n",
    " \n",
    "\n",
    "Constraints:\n",
    "\n",
    "1 <= nums.length <= 10\n",
    "-10 <= nums[i] <= 10\n",
    "All the numbers of nums are unique.\n",
    "</code></pre>"
   ]
  },
  {
   "cell_type": "code",
   "execution_count": null,
   "id": "japanese-tiger",
   "metadata": {},
   "outputs": [],
   "source": [
    "def subsets(nums):\n",
    "    #initialize\n",
    "    memos = [[]]\n",
    "\n",
    "    # every round new memos_t = memos_t-1 + memo_t-1.append(num)\n",
    "    for num in nums:\n",
    "        for memo in memos:\n",
    "            appended = memo + [num]\n",
    "            memos = memos + [appended]\n",
    "    return memos"
   ]
  },
  {
   "cell_type": "markdown",
   "id": "promotional-thursday",
   "metadata": {},
   "source": [
    "### Recursion"
   ]
  },
  {
   "cell_type": "code",
   "execution_count": 52,
   "id": "adjusted-ballet",
   "metadata": {},
   "outputs": [],
   "source": [
    "def subsets(nums):\n",
    "    memo = []\n",
    "    def df(nums, start, subset):\n",
    "        print(subset)\n",
    "        ## the append won't proceed normally if we do only memoappend(subset)\n",
    "        memo.append(subset + [])\n",
    "        if start == len(nums):\n",
    "            return \n",
    "        for i in range(start, len(nums)):\n",
    "            subset.append(nums[i])\n",
    "            df(nums, i+1, subset) \n",
    "            subset.remove(nums[i])\n",
    "        return\n",
    "    df(nums, 0, [])\n",
    "    return memo"
   ]
  },
  {
   "cell_type": "code",
   "execution_count": 53,
   "id": "impossible-decade",
   "metadata": {},
   "outputs": [
    {
     "name": "stdout",
     "output_type": "stream",
     "text": [
      "[]\n",
      "[1]\n",
      "[1, 2]\n",
      "[1, 2, 3]\n",
      "[1, 3]\n",
      "[2]\n",
      "[2, 3]\n",
      "[3]\n"
     ]
    },
    {
     "data": {
      "text/plain": [
       "[[], [1], [1, 2], [1, 2, 3], [1, 3], [2], [2, 3], [3]]"
      ]
     },
     "execution_count": 53,
     "metadata": {},
     "output_type": "execute_result"
    }
   ],
   "source": [
    "subsets([1,2,3])"
   ]
  },
  {
   "cell_type": "code",
   "execution_count": 42,
   "id": "shaped-closing",
   "metadata": {},
   "outputs": [],
   "source": [
    "a = []\n",
    "a.append([])"
   ]
  },
  {
   "cell_type": "code",
   "execution_count": 43,
   "id": "ready-lightweight",
   "metadata": {},
   "outputs": [
    {
     "data": {
      "text/plain": [
       "[[]]"
      ]
     },
     "execution_count": 43,
     "metadata": {},
     "output_type": "execute_result"
    }
   ],
   "source": [
    "a"
   ]
  },
  {
   "cell_type": "code",
   "execution_count": null,
   "id": "gentle-surface",
   "metadata": {},
   "outputs": [],
   "source": []
  }
 ],
 "metadata": {
  "kernelspec": {
   "display_name": "Python 3",
   "language": "python",
   "name": "python3"
  },
  "language_info": {
   "codemirror_mode": {
    "name": "ipython",
    "version": 3
   },
   "file_extension": ".py",
   "mimetype": "text/x-python",
   "name": "python",
   "nbconvert_exporter": "python",
   "pygments_lexer": "ipython3",
   "version": "3.8.5"
  }
 },
 "nbformat": 4,
 "nbformat_minor": 5
}
