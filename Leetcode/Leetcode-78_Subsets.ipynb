{
 "cells": [
  {
   "cell_type": "markdown",
   "id": "configured-budapest",
   "metadata": {},
   "source": [
    "Given an integer array nums of unique elements, return all possible subsets (the power set).\n",
    "\n",
    "The solution set must not contain duplicate subsets. Return the solution in any order.\n",
    "\n",
    "<pre><code>\n",
    "Example 1:\n",
    "\n",
    "Input: nums = [1,2,3]\n",
    "Output: [[],[1],[2],[1,2],[3],[1,3],[2,3],[1,2,3]]\n",
    "Example 2:\n",
    "\n",
    "Input: nums = [0]\n",
    "Output: [[],[0]]\n",
    " \n",
    "\n",
    "Constraints:\n",
    "\n",
    "1 <= nums.length <= 10\n",
    "-10 <= nums[i] <= 10\n",
    "All the numbers of nums are unique.\n",
    "</code></pre>"
   ]
  },
  {
   "cell_type": "code",
   "execution_count": 91,
   "id": "severe-monroe",
   "metadata": {},
   "outputs": [],
   "source": [
    "def recurrsion(nums, count, memos):\n",
    "    if count == len(nums):\n",
    "        print(memos)\n",
    "        return memos\n",
    "\n",
    "    # add the next num element in\n",
    "    for memo in memos:\n",
    "        appended = memo + [nums[count]]\n",
    "        memos = memos + [appended]\n",
    "\n",
    "    recurrsion(nums, count+1, memos)        "
   ]
  },
  {
   "cell_type": "code",
   "execution_count": 92,
   "id": "greater-pollution",
   "metadata": {},
   "outputs": [],
   "source": [
    "memos = [[]]\n",
    "nums = [1,2,3]"
   ]
  },
  {
   "cell_type": "code",
   "execution_count": 93,
   "id": "drawn-supplement",
   "metadata": {},
   "outputs": [
    {
     "name": "stdout",
     "output_type": "stream",
     "text": [
      "[[], [1], [2], [1, 2], [3], [1, 3], [2, 3], [1, 2, 3]]\n"
     ]
    }
   ],
   "source": [
    "recurrsion(nums, 0, memos)"
   ]
  },
  {
   "cell_type": "code",
   "execution_count": null,
   "id": "japanese-tiger",
   "metadata": {},
   "outputs": [],
   "source": [
    "def subsets(nums):\n",
    "    #initialize\n",
    "    memos = [[]]\n",
    "\n",
    "    # every round new memos_t = memos_t-1 + memo_t-1.append(num)\n",
    "    for num in nums:\n",
    "        for memo in memos:\n",
    "            appended = memo + [num]\n",
    "            memos = memos + [appended]\n",
    "    return memos"
   ]
  }
 ],
 "metadata": {
  "kernelspec": {
   "display_name": "Python 3",
   "language": "python",
   "name": "python3"
  },
  "language_info": {
   "codemirror_mode": {
    "name": "ipython",
    "version": 3
   },
   "file_extension": ".py",
   "mimetype": "text/x-python",
   "name": "python",
   "nbconvert_exporter": "python",
   "pygments_lexer": "ipython3",
   "version": "3.8.5"
  }
 },
 "nbformat": 4,
 "nbformat_minor": 5
}
