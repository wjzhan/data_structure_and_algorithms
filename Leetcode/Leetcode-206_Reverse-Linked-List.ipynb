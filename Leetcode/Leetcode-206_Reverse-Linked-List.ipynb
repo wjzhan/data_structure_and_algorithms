{
 "cells": [
  {
   "cell_type": "markdown",
   "id": "indirect-cleaner",
   "metadata": {},
   "source": [
    "Given the head of a singly linked list, reverse the list, and return the reversed list."
   ]
  },
  {
   "cell_type": "code",
   "execution_count": 19,
   "id": "fitted-convergence",
   "metadata": {},
   "outputs": [],
   "source": [
    "def reverseList(head):\n",
    "    if head is None:\n",
    "        return None\n",
    "    prev = None\n",
    "    current = head\n",
    "    while current.next is not None:\n",
    "        tmp = current.next\n",
    "        current.next = prev\n",
    "        prev = current\n",
    "        current = tmp\n",
    "    current.next = prev\n",
    "        \n",
    "    return current"
   ]
  },
  {
   "cell_type": "markdown",
   "id": "perfect-survey",
   "metadata": {},
   "source": [
    "### Test"
   ]
  },
  {
   "cell_type": "code",
   "execution_count": 20,
   "id": "dominant-hamilton",
   "metadata": {},
   "outputs": [],
   "source": [
    "class Node:\n",
    "    def __init__(self, val=0, next=None):\n",
    "        self.val = val\n",
    "        self.next = next"
   ]
  },
  {
   "cell_type": "code",
   "execution_count": 21,
   "id": "unsigned-eight",
   "metadata": {},
   "outputs": [],
   "source": [
    "head = Node(1)\n",
    "head.next = Node(2)\n",
    "head.next.next = Node(3)\n",
    "head.next.next.next = Node(4)"
   ]
  },
  {
   "cell_type": "code",
   "execution_count": 22,
   "id": "fancy-advocacy",
   "metadata": {},
   "outputs": [],
   "source": [
    "bla = reverseList(head)"
   ]
  },
  {
   "cell_type": "code",
   "execution_count": 23,
   "id": "married-processing",
   "metadata": {},
   "outputs": [
    {
     "data": {
      "text/plain": [
       "4"
      ]
     },
     "execution_count": 23,
     "metadata": {},
     "output_type": "execute_result"
    }
   ],
   "source": [
    "bla.val"
   ]
  },
  {
   "cell_type": "code",
   "execution_count": 24,
   "id": "exotic-farming",
   "metadata": {},
   "outputs": [
    {
     "data": {
      "text/plain": [
       "3"
      ]
     },
     "execution_count": 24,
     "metadata": {},
     "output_type": "execute_result"
    }
   ],
   "source": [
    "bla.next.val"
   ]
  },
  {
   "cell_type": "code",
   "execution_count": null,
   "id": "persistent-academy",
   "metadata": {},
   "outputs": [],
   "source": []
  }
 ],
 "metadata": {
  "kernelspec": {
   "display_name": "Python 3",
   "language": "python",
   "name": "python3"
  },
  "language_info": {
   "codemirror_mode": {
    "name": "ipython",
    "version": 3
   },
   "file_extension": ".py",
   "mimetype": "text/x-python",
   "name": "python",
   "nbconvert_exporter": "python",
   "pygments_lexer": "ipython3",
   "version": "3.8.5"
  }
 },
 "nbformat": 4,
 "nbformat_minor": 5
}
