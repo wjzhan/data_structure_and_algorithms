{
 "cells": [
  {
   "cell_type": "markdown",
   "id": "wanted-jumping",
   "metadata": {},
   "source": [
    "Given two strings s and p, return an array of all the start indices of p's anagrams in s. You may return the answer in any order."
   ]
  },
  {
   "cell_type": "code",
   "execution_count": 20,
   "id": "nominated-huntington",
   "metadata": {},
   "outputs": [],
   "source": [
    "def findAnagrams(s, p):\n",
    "    left, right = 0,0\n",
    "    valid = 0\n",
    "    window, need = {}, {}\n",
    "    result = []\n",
    "    \n",
    "    #intialize need and window\n",
    "    for c in p:\n",
    "        if c in need:\n",
    "            need[c] += 1\n",
    "        else:\n",
    "            need[c] = 1\n",
    "    for c in need:\n",
    "        window[c] = 0\n",
    "        \n",
    "    while right < len(s):\n",
    "        a = s[right]\n",
    "        \n",
    "        # udpate window\n",
    "        if a in need:\n",
    "            window[a] += 1\n",
    "            if window[a] == need[a]:\n",
    "                valid += 1\n",
    "        right += 1\n",
    "    \n",
    "        while right - left >= len(p):\n",
    "            # condition\n",
    "            print(window)\n",
    "            print(valid)\n",
    "            if valid == len(need):\n",
    "                result.append(left)\n",
    "            d = s[left]   \n",
    "            left += 1\n",
    "            if d in need:\n",
    "                if window[d] == need[d]:\n",
    "                    valid -= 1\n",
    "                window[d] -= 1\n",
    "                      \n",
    "    return result          \n",
    "                "
   ]
  },
  {
   "cell_type": "code",
   "execution_count": 21,
   "id": "bacterial-guest",
   "metadata": {},
   "outputs": [
    {
     "name": "stdout",
     "output_type": "stream",
     "text": [
      "{'a': 1}\n",
      "0\n",
      "{'a': 2}\n",
      "1\n"
     ]
    },
    {
     "data": {
      "text/plain": [
       "[1]"
      ]
     },
     "execution_count": 21,
     "metadata": {},
     "output_type": "execute_result"
    }
   ],
   "source": [
    "findAnagrams(s=\"baa\", p=\"aa\")"
   ]
  },
  {
   "cell_type": "code",
   "execution_count": 22,
   "id": "satellite-offering",
   "metadata": {},
   "outputs": [
    {
     "name": "stdout",
     "output_type": "stream",
     "text": [
      "{'a': 1, 'b': 1, 'c': 1}\n",
      "3\n",
      "{'a': 1, 'b': 1, 'c': 0}\n",
      "2\n",
      "{'a': 1, 'b': 1, 'c': 0}\n",
      "2\n",
      "{'a': 1, 'b': 1, 'c': 0}\n",
      "2\n",
      "{'a': 1, 'b': 2, 'c': 0}\n",
      "2\n",
      "{'a': 2, 'b': 1, 'c': 0}\n",
      "2\n",
      "{'a': 1, 'b': 1, 'c': 1}\n",
      "3\n",
      "{'a': 1, 'b': 0, 'c': 1}\n",
      "2\n"
     ]
    },
    {
     "data": {
      "text/plain": [
       "[0, 6]"
      ]
     },
     "execution_count": 22,
     "metadata": {},
     "output_type": "execute_result"
    }
   ],
   "source": [
    "findAnagrams(s = \"cbaebabacd\", p = \"abc\")"
   ]
  },
  {
   "cell_type": "code",
   "execution_count": 23,
   "id": "primary-reunion",
   "metadata": {},
   "outputs": [
    {
     "name": "stdout",
     "output_type": "stream",
     "text": [
      "{'a': 1, 'b': 1}\n",
      "2\n",
      "{'a': 1, 'b': 1}\n",
      "2\n",
      "{'a': 1, 'b': 1}\n",
      "2\n"
     ]
    },
    {
     "data": {
      "text/plain": [
       "[0, 1, 2]"
      ]
     },
     "execution_count": 23,
     "metadata": {},
     "output_type": "execute_result"
    }
   ],
   "source": [
    "findAnagrams(s = \"abab\", p = \"ab\")"
   ]
  },
  {
   "cell_type": "code",
   "execution_count": 12,
   "id": "recent-budget",
   "metadata": {},
   "outputs": [
    {
     "data": {
      "text/plain": [
       "[]"
      ]
     },
     "execution_count": 12,
     "metadata": {},
     "output_type": "execute_result"
    }
   ],
   "source": []
  },
  {
   "cell_type": "code",
   "execution_count": null,
   "id": "laden-cookbook",
   "metadata": {},
   "outputs": [],
   "source": []
  }
 ],
 "metadata": {
  "kernelspec": {
   "display_name": "Python 3",
   "language": "python",
   "name": "python3"
  },
  "language_info": {
   "codemirror_mode": {
    "name": "ipython",
    "version": 3
   },
   "file_extension": ".py",
   "mimetype": "text/x-python",
   "name": "python",
   "nbconvert_exporter": "python",
   "pygments_lexer": "ipython3",
   "version": "3.8.5"
  }
 },
 "nbformat": 4,
 "nbformat_minor": 5
}
