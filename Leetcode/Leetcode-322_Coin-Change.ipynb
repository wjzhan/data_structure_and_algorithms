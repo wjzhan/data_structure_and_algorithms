{
 "cells": [
  {
   "cell_type": "markdown",
   "id": "occupational-concentration",
   "metadata": {},
   "source": [
    "You are given an integer array coins representing coins of different denominations and an integer amount representing a total amount of money.\n",
    "\n",
    "Return the fewest number of coins that you need to make up that amount. If that amount of money cannot be made up by any combination of the coins, return -1.\n",
    "\n",
    "You may assume that you have an infinite number of each kind of coin."
   ]
  },
  {
   "cell_type": "markdown",
   "id": "covered-window",
   "metadata": {},
   "source": [
    "## Method 1 - Recurrsion\n",
    "\n",
    "- usually running out of time when in big numbers, unless use table to store"
   ]
  },
  {
   "cell_type": "code",
   "execution_count": 36,
   "id": "interim-internet",
   "metadata": {},
   "outputs": [],
   "source": [
    "import math\n",
    "def coinChange(coins, amount):\n",
    "    mem = [0] * (amount + 1)\n",
    "    \n",
    "    def dp(coins, amount):\n",
    "        if amount == 0:\n",
    "            return 0\n",
    "        if amount < 0:\n",
    "            return math.inf\n",
    "        if mem[amount] != 0:\n",
    "            return mem[amount]\n",
    "        res = math.inf\n",
    "        for coin in coins:\n",
    "            res = min(res, 1 + dp(coins, amount - coin))\n",
    "        mem[amount] = res\n",
    "        return mem[amount]\n",
    "    result = dp(coins, amount)\n",
    "    return result if result != math.inf else -1"
   ]
  },
  {
   "cell_type": "markdown",
   "id": "cooperative-collectible",
   "metadata": {},
   "source": [
    "## Method 2 - Dynamic Programming"
   ]
  },
  {
   "cell_type": "code",
   "execution_count": 37,
   "id": "personalized-suicide",
   "metadata": {},
   "outputs": [],
   "source": [
    "import math\n",
    "def coinChange(coins, amount):\n",
    "    if amount ==0 :\n",
    "        return 0\n",
    "    dp = [math.inf] * (amount + 1)\n",
    "    # base condition\n",
    "    dp[0] = 0\n",
    "    # amount change\n",
    "    for val in range(1, amount + 1):\n",
    "        # for every possible choice\n",
    "        for coin in coins:\n",
    "            if val - coin >= 0:\n",
    "                dp[val] = min(dp[val], 1+dp[val-coin]) \n",
    "    return dp[val] if dp[val] != math.inf else -1"
   ]
  },
  {
   "cell_type": "code",
   "execution_count": 38,
   "id": "swiss-receiver",
   "metadata": {},
   "outputs": [
    {
     "data": {
      "text/plain": [
       "0"
      ]
     },
     "execution_count": 38,
     "metadata": {},
     "output_type": "execute_result"
    }
   ],
   "source": [
    "coinChange([1], 0)"
   ]
  },
  {
   "cell_type": "code",
   "execution_count": null,
   "id": "colored-medium",
   "metadata": {},
   "outputs": [],
   "source": []
  }
 ],
 "metadata": {
  "kernelspec": {
   "display_name": "Python 3",
   "language": "python",
   "name": "python3"
  },
  "language_info": {
   "codemirror_mode": {
    "name": "ipython",
    "version": 3
   },
   "file_extension": ".py",
   "mimetype": "text/x-python",
   "name": "python",
   "nbconvert_exporter": "python",
   "pygments_lexer": "ipython3",
   "version": "3.8.5"
  }
 },
 "nbformat": 4,
 "nbformat_minor": 5
}
