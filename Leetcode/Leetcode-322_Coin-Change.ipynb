{
 "cells": [
  {
   "cell_type": "markdown",
   "id": "occupational-concentration",
   "metadata": {},
   "source": [
    "You are given an integer array coins representing coins of different denominations and an integer amount representing a total amount of money.\n",
    "\n",
    "Return the fewest number of coins that you need to make up that amount. If that amount of money cannot be made up by any combination of the coins, return -1.\n",
    "\n",
    "You may assume that you have an infinite number of each kind of coin."
   ]
  },
  {
   "cell_type": "markdown",
   "id": "covered-window",
   "metadata": {},
   "source": [
    "## Method 1 - Recurrsion\n",
    "\n",
    "- usually running out of time when in big numbers, unless use table to store"
   ]
  },
  {
   "cell_type": "code",
   "execution_count": 106,
   "id": "interim-internet",
   "metadata": {},
   "outputs": [],
   "source": [
    "class Solution:\n",
    "    def coinChange(self, coins: List[int], amount: int) -> int:\n",
    "        min_coins = self.change(coins, amount, 0)\n",
    "        memo = {}\n",
    "        if min_coins == math.inf:\n",
    "            return -1\n",
    "        else:\n",
    "            return min_coins\n",
    "        \n",
    "    def change(self, coins, amount, i):\n",
    "        \n",
    "        if amount < 0:\n",
    "            return math.inf\n",
    "        \n",
    "        if amount > 0 and i > len(coins) - 1:\n",
    "            return math.inf\n",
    "        \n",
    "        if amount == 0:\n",
    "            return 0\n",
    "        \n",
    "        left_return = 1 + self.change(coins, amount - coins[i] , i)\n",
    "        right_return = self.change(coins, amount, i+1)\n",
    "        return  min(left_return, right_return)"
   ]
  },
  {
   "cell_type": "markdown",
   "id": "cooperative-collectible",
   "metadata": {},
   "source": [
    "## Method 2 - Dynamic Programming"
   ]
  },
  {
   "cell_type": "code",
   "execution_count": 164,
   "id": "personalized-suicide",
   "metadata": {},
   "outputs": [],
   "source": [
    "def coinChange(coins,amount):\n",
    "    dp = [[0]* (amount + 1) ]* (len(coins)+1)\n",
    "    # initialize\n",
    "    dp[0] = [0] + [math.inf] * amount\n",
    "\n",
    "    for i in range(1, len(coins)+1):\n",
    "        for j in range(1, amount+1):\n",
    "            if coins[i-1] > j:\n",
    "                dp[i][j] = dp[i-1][j]\n",
    "            else:\n",
    "                yes = 1 + dp[i][j-coins[i-1]]\n",
    "                no = dp[i-1][j]\n",
    "                dp[i][j] = min(yes, no)\n",
    "\n",
    "    least = dp[len(coins)][amount]\n",
    "    print(dp)\n",
    "    if least == math.inf:\n",
    "        return -1\n",
    "    else:\n",
    "        return least"
   ]
  },
  {
   "cell_type": "code",
   "execution_count": 165,
   "id": "talented-virus",
   "metadata": {},
   "outputs": [
    {
     "name": "stdout",
     "output_type": "stream",
     "text": [
      "[[0, inf, inf, inf], [0, inf, 1, inf]]\n"
     ]
    },
    {
     "data": {
      "text/plain": [
       "-1"
      ]
     },
     "execution_count": 165,
     "metadata": {},
     "output_type": "execute_result"
    }
   ],
   "source": [
    "coinChange([2], 3)"
   ]
  },
  {
   "cell_type": "code",
   "execution_count": 148,
   "id": "appreciated-berlin",
   "metadata": {},
   "outputs": [],
   "source": [
    "a = [[1,2,3]]"
   ]
  },
  {
   "cell_type": "code",
   "execution_count": 157,
   "id": "careful-ability",
   "metadata": {},
   "outputs": [
    {
     "data": {
      "text/plain": [
       "6"
      ]
     },
     "execution_count": 157,
     "metadata": {},
     "output_type": "execute_result"
    }
   ],
   "source": [
    "a[1][2]"
   ]
  },
  {
   "cell_type": "code",
   "execution_count": 128,
   "id": "champion-statement",
   "metadata": {},
   "outputs": [
    {
     "name": "stdout",
     "output_type": "stream",
     "text": [
      "[1, 2, 3]\n",
      "[4, 5, 6]\n"
     ]
    }
   ],
   "source": [
    "for row in a:\n",
    "    print(row)"
   ]
  },
  {
   "cell_type": "code",
   "execution_count": 129,
   "id": "hollywood-pencil",
   "metadata": {},
   "outputs": [
    {
     "data": {
      "text/plain": [
       "[1, 2, 3]"
      ]
     },
     "execution_count": 129,
     "metadata": {},
     "output_type": "execute_result"
    }
   ],
   "source": [
    "a[:][0]"
   ]
  },
  {
   "cell_type": "code",
   "execution_count": 158,
   "id": "charitable-roots",
   "metadata": {},
   "outputs": [],
   "source": [
    "amount = 5\n",
    "coins = [1,2]\n",
    "\n",
    "dp = [[0]* (amount + 1) ]* (len(coins)+1)\n",
    "\n",
    "dp[0] = [0] + [math.inf] * amount"
   ]
  },
  {
   "cell_type": "code",
   "execution_count": 159,
   "id": "everyday-negative",
   "metadata": {},
   "outputs": [
    {
     "data": {
      "text/plain": [
       "[[0, inf, inf, inf, inf, inf], [0, 0, 0, 0, 0, 0], [0, 0, 0, 0, 0, 0]]"
      ]
     },
     "execution_count": 159,
     "metadata": {},
     "output_type": "execute_result"
    }
   ],
   "source": [
    "dp"
   ]
  },
  {
   "cell_type": "code",
   "execution_count": null,
   "id": "executive-cabinet",
   "metadata": {},
   "outputs": [],
   "source": []
  }
 ],
 "metadata": {
  "kernelspec": {
   "display_name": "Python 3",
   "language": "python",
   "name": "python3"
  },
  "language_info": {
   "codemirror_mode": {
    "name": "ipython",
    "version": 3
   },
   "file_extension": ".py",
   "mimetype": "text/x-python",
   "name": "python",
   "nbconvert_exporter": "python",
   "pygments_lexer": "ipython3",
   "version": "3.8.5"
  }
 },
 "nbformat": 4,
 "nbformat_minor": 5
}
