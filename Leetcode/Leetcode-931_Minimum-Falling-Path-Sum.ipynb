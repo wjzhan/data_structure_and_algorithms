{
 "cells": [
  {
   "cell_type": "markdown",
   "id": "national-payment",
   "metadata": {},
   "source": [
    "Given an n x n array of integers matrix, return the minimum sum of any falling path through matrix.\n",
    "\n",
    "A falling path starts at any element in the first row and chooses the element in the next row that is either directly below or diagonally left/right. Specifically, the next element from position (row, col) will be (row + 1, col - 1), (row + 1, col), or (row + 1, col + 1)."
   ]
  },
  {
   "cell_type": "markdown",
   "id": "ahead-password",
   "metadata": {},
   "source": [
    "### Dynamic Programming"
   ]
  },
  {
   "cell_type": "code",
   "execution_count": 25,
   "id": "parallel-internship",
   "metadata": {},
   "outputs": [],
   "source": [
    "def minFallingPathSum(matrix):\n",
    "    nrow = len(matrix)\n",
    "    ncol = len(matrix[0])\n",
    "\n",
    "    # initialize base\n",
    "    dp = [[math.inf for x in range(ncol)] for y in range(nrow+1)] \n",
    "    for i in range(ncol):\n",
    "        dp[0][i] = 0\n",
    "    \n",
    "    # transition matrix\n",
    "    for row in range(1, nrow+1):\n",
    "        for col in range(ncol):\n",
    "            for move in [col-1, col, col+1]:\n",
    "                if move >=0 and move <=ncol-1:\n",
    "                    \n",
    "                    dp[row][col] = min(dp[row][col], dp[row-1][move] + matrix[row-1][col])\n",
    "    return min(dp[-1])"
   ]
  },
  {
   "cell_type": "code",
   "execution_count": 31,
   "id": "chicken-valuable",
   "metadata": {},
   "outputs": [
    {
     "data": {
      "text/plain": [
       "-48"
      ]
     },
     "execution_count": 31,
     "metadata": {},
     "output_type": "execute_result"
    }
   ],
   "source": [
    "matrix = [[-48]]\n",
    "minFallingPathSum(matrix)"
   ]
  },
  {
   "cell_type": "markdown",
   "id": "judicial-system",
   "metadata": {},
   "source": [
    "### Recurrsion"
   ]
  },
  {
   "cell_type": "code",
   "execution_count": 65,
   "id": "sunset-arthur",
   "metadata": {},
   "outputs": [],
   "source": [
    "def minFallingPathSum(matrix):\n",
    "    nrow = len(matrix)\n",
    "    ncol = len(matrix[0])\n",
    "\n",
    "    # initialize base\n",
    "    memo = [[math.inf for x in range(ncol)] for y in range(nrow)] \n",
    "        \n",
    "    def dp(matrix, row, col): \n",
    "        #corner case\n",
    "        if row<0 or row >= nrow:\n",
    "            return math.inf\n",
    "        if col <0 or col >= ncol:\n",
    "            return math.inf\n",
    "        \n",
    "        if row == 0:\n",
    "            return matrix[row][col]\n",
    "        \n",
    "        if memo[row][col] != math.inf:\n",
    "            return memo[row][col]\n",
    "        \n",
    "        res = math.inf\n",
    "        for move in [col-1, col, col+1]:\n",
    "            res = min(res, matrix[row][col] + dp(matrix, row-1, move))\n",
    "        memo[row][col] = res\n",
    "        return memo[row][col]\n",
    "        \n",
    "   \n",
    "    res = math.inf\n",
    "    for j in range(ncol):\n",
    "        res = min(res, dp(matrix, nrow-1, j))\n",
    "    return res\n"
   ]
  },
  {
   "cell_type": "code",
   "execution_count": 68,
   "id": "living-summit",
   "metadata": {},
   "outputs": [
    {
     "data": {
      "text/plain": [
       "-48"
      ]
     },
     "execution_count": 68,
     "metadata": {},
     "output_type": "execute_result"
    }
   ],
   "source": [
    "matrix = [[-48]]\n",
    "minFallingPathSum(matrix)"
   ]
  },
  {
   "cell_type": "code",
   "execution_count": null,
   "id": "governing-culture",
   "metadata": {},
   "outputs": [],
   "source": []
  }
 ],
 "metadata": {
  "kernelspec": {
   "display_name": "Python 3",
   "language": "python",
   "name": "python3"
  },
  "language_info": {
   "codemirror_mode": {
    "name": "ipython",
    "version": 3
   },
   "file_extension": ".py",
   "mimetype": "text/x-python",
   "name": "python",
   "nbconvert_exporter": "python",
   "pygments_lexer": "ipython3",
   "version": "3.8.5"
  }
 },
 "nbformat": 4,
 "nbformat_minor": 5
}
