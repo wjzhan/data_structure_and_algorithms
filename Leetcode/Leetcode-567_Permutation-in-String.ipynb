{
 "cells": [
  {
   "cell_type": "markdown",
   "id": "tracked-bouquet",
   "metadata": {},
   "source": [
    "Given two strings s1 and s2, return true if s2 contains the permutation of s1.\n",
    "\n",
    "In other words, one of s1's permutations is the substring of s2."
   ]
  },
  {
   "cell_type": "code",
   "execution_count": 156,
   "id": "detailed-listing",
   "metadata": {},
   "outputs": [],
   "source": [
    "def checkInclusion(s1, s2):\n",
    "    window, need = {}, {}\n",
    "    left, right = 0, 0\n",
    "    valid = 0\n",
    "    \n",
    "    # intialize need\n",
    "    for c in s1:\n",
    "        if c in need:\n",
    "            need[c] += 1\n",
    "        else:\n",
    "            need[c] = 1\n",
    "    for c in need:\n",
    "        window[c] = 0\n",
    "    \n",
    "        \n",
    "    while right < len(s2):\n",
    "        added = s2[right]\n",
    "        \n",
    "        # update the window\n",
    "        if added in window:\n",
    "            window[added] += 1\n",
    "            if window[added] == need[added]:\n",
    "                valid += 1\n",
    "        right += 1\n",
    "\n",
    "        while (right - left) >= len(s1):\n",
    "            if valid == len(need):\n",
    "                return True\n",
    "            \n",
    "            delete = s2[left]\n",
    "            if delete in need:\n",
    "                if window[delete] == need[delete]:\n",
    "                    valid -= 1       \n",
    "                window[delete]-= 1\n",
    "                \n",
    "            left += 1\n",
    "           \n",
    "    return False\n",
    "    \n",
    "    \n",
    "    "
   ]
  },
  {
   "cell_type": "code",
   "execution_count": 157,
   "id": "everyday-mixer",
   "metadata": {},
   "outputs": [
    {
     "data": {
      "text/plain": [
       "True"
      ]
     },
     "execution_count": 157,
     "metadata": {},
     "output_type": "execute_result"
    }
   ],
   "source": [
    "checkInclusion(s1=\"abc\", s2=\"bbbca\")"
   ]
  },
  {
   "cell_type": "code",
   "execution_count": 158,
   "id": "strategic-excess",
   "metadata": {},
   "outputs": [
    {
     "data": {
      "text/plain": [
       "True"
      ]
     },
     "execution_count": 158,
     "metadata": {},
     "output_type": "execute_result"
    }
   ],
   "source": [
    "checkInclusion(s1 = \"adc\", s2 = \"dcda\")"
   ]
  },
  {
   "cell_type": "code",
   "execution_count": 159,
   "id": "corrected-planning",
   "metadata": {},
   "outputs": [
    {
     "data": {
      "text/plain": [
       "False"
      ]
     },
     "execution_count": 159,
     "metadata": {},
     "output_type": "execute_result"
    }
   ],
   "source": [
    "checkInclusion(s1 = \"hello\", s2 = \"ooolleoooleh\")"
   ]
  },
  {
   "cell_type": "code",
   "execution_count": 160,
   "id": "pressed-technology",
   "metadata": {},
   "outputs": [
    {
     "data": {
      "text/plain": [
       "True"
      ]
     },
     "execution_count": 160,
     "metadata": {},
     "output_type": "execute_result"
    }
   ],
   "source": [
    "checkInclusion(s1 = \"a\", s2 = \"ab\")"
   ]
  },
  {
   "cell_type": "code",
   "execution_count": 161,
   "id": "recovered-hughes",
   "metadata": {},
   "outputs": [
    {
     "data": {
      "text/plain": [
       "True"
      ]
     },
     "execution_count": 161,
     "metadata": {},
     "output_type": "execute_result"
    }
   ],
   "source": [
    "checkInclusion(s1 = \"ab\", s2 = \"eidbaooo\")"
   ]
  },
  {
   "cell_type": "code",
   "execution_count": 162,
   "id": "headed-thousand",
   "metadata": {},
   "outputs": [
    {
     "data": {
      "text/plain": [
       "False"
      ]
     },
     "execution_count": 162,
     "metadata": {},
     "output_type": "execute_result"
    }
   ],
   "source": [
    "checkInclusion(s1 = \"ab\", s2 = \"eidboaoo\")"
   ]
  },
  {
   "cell_type": "code",
   "execution_count": null,
   "id": "nasty-maker",
   "metadata": {},
   "outputs": [],
   "source": []
  }
 ],
 "metadata": {
  "kernelspec": {
   "display_name": "Python 3",
   "language": "python",
   "name": "python3"
  },
  "language_info": {
   "codemirror_mode": {
    "name": "ipython",
    "version": 3
   },
   "file_extension": ".py",
   "mimetype": "text/x-python",
   "name": "python",
   "nbconvert_exporter": "python",
   "pygments_lexer": "ipython3",
   "version": "3.8.5"
  }
 },
 "nbformat": 4,
 "nbformat_minor": 5
}
