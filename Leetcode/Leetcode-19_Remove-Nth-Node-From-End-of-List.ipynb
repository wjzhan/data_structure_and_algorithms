{
 "cells": [
  {
   "cell_type": "markdown",
   "id": "reserved-gnome",
   "metadata": {},
   "source": [
    "Given the head of a linked list, remove the nth node from the end of the list and return its head.\n",
    "\n",
    "Follow up: Could you do this in one pass?"
   ]
  },
  {
   "cell_type": "code",
   "execution_count": 1,
   "id": "severe-oxygen",
   "metadata": {},
   "outputs": [],
   "source": [
    "def removeNthFromEnd(head, n):\n",
    "    if head.next == None:\n",
    "        return None\n",
    "    # Maintain two pointers and update one with a delay of n steps.\n",
    "    itr = head\n",
    "    checker = head\n",
    "    count = n \n",
    "    while count > 0:\n",
    "        checker = checker.next\n",
    "        count -=1\n",
    "    # extreme case\n",
    "    if checker is None:\n",
    "        return head.next\n",
    "\n",
    "    while checker.next is not None:\n",
    "        checker = checker.next\n",
    "        itr = itr.next\n",
    "    if n == 1:\n",
    "        itr.next = None\n",
    "    else:\n",
    "        itr.next = itr.next.next\n",
    "\n",
    "    return head"
   ]
  },
  {
   "cell_type": "code",
   "execution_count": null,
   "id": "united-committee",
   "metadata": {},
   "outputs": [],
   "source": []
  }
 ],
 "metadata": {
  "kernelspec": {
   "display_name": "Python 3",
   "language": "python",
   "name": "python3"
  },
  "language_info": {
   "codemirror_mode": {
    "name": "ipython",
    "version": 3
   },
   "file_extension": ".py",
   "mimetype": "text/x-python",
   "name": "python",
   "nbconvert_exporter": "python",
   "pygments_lexer": "ipython3",
   "version": "3.8.5"
  }
 },
 "nbformat": 4,
 "nbformat_minor": 5
}
