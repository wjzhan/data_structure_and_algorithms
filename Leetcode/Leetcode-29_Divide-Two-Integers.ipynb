{
 "cells": [
  {
   "cell_type": "markdown",
   "id": "ignored-excess",
   "metadata": {},
   "source": [
    "Given two integers dividend and divisor, divide two integers without using multiplication, division, and mod operator.\n",
    "\n",
    "Return the quotient after dividing dividend by divisor.\n",
    "\n",
    "The integer division should truncate toward zero, which means losing its fractional part. For example, truncate(8.345) = 8 and truncate(-2.7335) = -2.\n",
    "\n",
    "Note: Assume we are dealing with an environment that could only store integers within the 32-bit signed integer range: [−2^31, 2^31 − 1]. For this problem, assume that your function returns 2^31 − 1 when the division result overflows."
   ]
  },
  {
   "cell_type": "markdown",
   "id": "theoretical-tunnel",
   "metadata": {},
   "source": [
    "### Method 1 : O(log(n))"
   ]
  },
  {
   "cell_type": "code",
   "execution_count": 55,
   "id": "worldwide-wellington",
   "metadata": {},
   "outputs": [],
   "source": [
    "def binarySearch(dividend, divisor):\n",
    "    sign = 1\n",
    "    if dividend * divisor < 0:\n",
    "        sign = -1\n",
    "\n",
    "    dividend = abs(dividend)\n",
    "    divisor = abs(divisor)\n",
    "    l = 0\n",
    "    r = pow(2, 31)\n",
    "\n",
    "    while l <= r:\n",
    "        mid = (l + r) // 2\n",
    "\n",
    "        if  dividend - mid * divisor < 0:\n",
    "            r = mid - 1\n",
    "        else:\n",
    "            if dividend - (mid+1)*divisor < 0:\n",
    "                if sign == 1:\n",
    "                    ## check overflow\n",
    "                    if mid > pow(2, 31) - 1:\n",
    "                        return pow(2, 31) - 1\n",
    "                    else:\n",
    "                        return mid\n",
    "                else:\n",
    "                    return mid * -1\n",
    "            else:\n",
    "                l = mid + 1\n",
    "\n",
    "\n",
    "    return None "
   ]
  },
  {
   "cell_type": "code",
   "execution_count": 54,
   "id": "decreased-soviet",
   "metadata": {},
   "outputs": [
    {
     "data": {
      "text/plain": [
       "3"
      ]
     },
     "execution_count": 54,
     "metadata": {},
     "output_type": "execute_result"
    }
   ],
   "source": [
    "binarySearch(10, 3)"
   ]
  }
 ],
 "metadata": {
  "kernelspec": {
   "display_name": "Python 3",
   "language": "python",
   "name": "python3"
  },
  "language_info": {
   "codemirror_mode": {
    "name": "ipython",
    "version": 3
   },
   "file_extension": ".py",
   "mimetype": "text/x-python",
   "name": "python",
   "nbconvert_exporter": "python",
   "pygments_lexer": "ipython3",
   "version": "3.8.5"
  }
 },
 "nbformat": 4,
 "nbformat_minor": 5
}
