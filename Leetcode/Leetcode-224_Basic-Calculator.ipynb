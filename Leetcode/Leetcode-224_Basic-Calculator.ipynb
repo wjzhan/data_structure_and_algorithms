{
 "cells": [
  {
   "cell_type": "markdown",
   "id": "intended-defendant",
   "metadata": {},
   "source": [
    "Given a string s representing an expression, implement a basic calculator to evaluate it"
   ]
  },
  {
   "cell_type": "markdown",
   "id": "intensive-orange",
   "metadata": {},
   "source": [
    "### Method\n",
    "\n",
    "- Clean input s to remove unformal format first such as \"1-(+1+1)\"\n",
    "- ( replace as 0 + for num and op\n",
    "- whenever encounter a ), pop the top op and previous two nums"
   ]
  },
  {
   "cell_type": "code",
   "execution_count": 162,
   "id": "hundred-edmonton",
   "metadata": {},
   "outputs": [],
   "source": [
    "import collections\n",
    "def calculate(s):\n",
    "    #clean s for unformal expression\n",
    "    s = s.replace(' ', '')\n",
    "    s = s.replace('(+', '(')\n",
    "    \n",
    "    calc = {\n",
    "        '+': lambda x,y:x+y,\n",
    "        '-': lambda x,y:x-y\n",
    "    }\n",
    "    ops = collections.deque()\n",
    "    nums = collections.deque()\n",
    "    i = 0\n",
    "    while i < len(s):\n",
    "        # in case of negative sign first\n",
    "        if s[i] in '+-':\n",
    "            if len(ops) > 0 and (ops[-1] in '+-'):\n",
    "                if len(nums) < 2:\n",
    "                    nums.appendleft(0)\n",
    "                right = nums.pop()\n",
    "                left = nums.pop()\n",
    "                op = ops.pop()\n",
    "                nums.append( calc[op](left, right))\n",
    "            ops.append(s[i])\n",
    "            \n",
    "        elif s[i].isdigit():\n",
    "            j = i\n",
    "            while j<len(s) and s[j].isdigit():\n",
    "                j += 1\n",
    "            nums.append(int(s[i:j]))\n",
    "            i = j-1\n",
    "        elif s[i] == '(':\n",
    "            nums.append(0)\n",
    "            ops.append('+')\n",
    "            \n",
    "        elif s[i] == ')':\n",
    "            if len(ops) > 0:\n",
    "                op = ops.pop()\n",
    "                if len(nums) < 2:\n",
    "                    nums.appendleft(0)\n",
    "                right = nums.pop()\n",
    "                left = nums.pop()\n",
    "                nums.append( calc[op](left, right))\n",
    "            else:\n",
    "                return nums[0]   \n",
    "        i += 1\n",
    "    print(nums)\n",
    "    print(ops)\n",
    "    if len(ops) == len(nums):\n",
    "        nums.appendleft(0)\n",
    "    \n",
    "    while len(ops) > 0:\n",
    "        op = ops.pop()\n",
    "        right = nums.pop()\n",
    "        left = nums.pop()\n",
    "        nums.append(calc[op](left, right))\n",
    "    return nums[0]"
   ]
  },
  {
   "cell_type": "code",
   "execution_count": 163,
   "id": "structured-surge",
   "metadata": {},
   "outputs": [
    {
     "name": "stdout",
     "output_type": "stream",
     "text": [
      "deque([1, 2])\n",
      "deque(['-'])\n"
     ]
    },
    {
     "data": {
      "text/plain": [
       "-1"
      ]
     },
     "execution_count": 163,
     "metadata": {},
     "output_type": "execute_result"
    }
   ],
   "source": [
    "s = \"(1+(4+5+2)-3)+(6+8)\"\n",
    "s = \"- (3 + (4 + 5))\"\n",
    "s = \"1+1\"\n",
    "s = \" 2-1 + 2 \"\n",
    "s = '0'\n",
    "s = \"(1)\"\n",
    "s = \"-2+ 1\"\n",
    "s = \"1-(+1+1)\"\n",
    "calculate(s)"
   ]
  },
  {
   "cell_type": "code",
   "execution_count": null,
   "id": "forward-stupid",
   "metadata": {},
   "outputs": [],
   "source": []
  }
 ],
 "metadata": {
  "kernelspec": {
   "display_name": "Python 3",
   "language": "python",
   "name": "python3"
  },
  "language_info": {
   "codemirror_mode": {
    "name": "ipython",
    "version": 3
   },
   "file_extension": ".py",
   "mimetype": "text/x-python",
   "name": "python",
   "nbconvert_exporter": "python",
   "pygments_lexer": "ipython3",
   "version": "3.8.5"
  }
 },
 "nbformat": 4,
 "nbformat_minor": 5
}
