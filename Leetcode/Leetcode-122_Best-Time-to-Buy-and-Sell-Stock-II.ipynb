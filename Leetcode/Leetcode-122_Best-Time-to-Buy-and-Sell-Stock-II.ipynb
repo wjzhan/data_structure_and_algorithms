{
 "cells": [
  {
   "cell_type": "markdown",
   "id": "asian-chain",
   "metadata": {},
   "source": [
    "You are given an array prices where prices[i] is the price of a given stock on the ith day.\n",
    "\n",
    "Find the maximum profit you can achieve. You may complete as many transactions as you like (i.e., buy one and sell one share of the stock multiple times).\n",
    "\n",
    "Note: You may not engage in multiple transactions simultaneously (i.e., you must sell the stock before you buy again)."
   ]
  },
  {
   "cell_type": "markdown",
   "id": "romance-minnesota",
   "metadata": {},
   "source": [
    "## Greedy Algorithm"
   ]
  },
  {
   "cell_type": "code",
   "execution_count": 13,
   "id": "offensive-cycling",
   "metadata": {},
   "outputs": [],
   "source": [
    "import math\n",
    "\n",
    "def maxProfit(prices):\n",
    "        prices.insert(0, math.pow(2, 16))\n",
    "        prices.append(-1 * math.pow(2, 16))\n",
    "      \n",
    "        total = 0\n",
    "        buy = sell = -1\n",
    "        total = 0\n",
    "        for i in range(1, len(prices)-1):\n",
    "            prev = prices[i-1]\n",
    "            curr = prices[i]\n",
    "            future = prices[i+1]\n",
    "            if curr < future and curr <= prev:\n",
    "                buy = curr      \n",
    "            if curr > prev and curr >= future:\n",
    "                sell = curr\n",
    "            \n",
    "            if buy > -1 and sell > -1:\n",
    "                \n",
    "                total += sell - buy\n",
    "                buy = sell = -1\n",
    "        return total"
   ]
  },
  {
   "cell_type": "code",
   "execution_count": null,
   "id": "sacred-princess",
   "metadata": {},
   "outputs": [],
   "source": []
  }
 ],
 "metadata": {
  "kernelspec": {
   "display_name": "Python 3",
   "language": "python",
   "name": "python3"
  },
  "language_info": {
   "codemirror_mode": {
    "name": "ipython",
    "version": 3
   },
   "file_extension": ".py",
   "mimetype": "text/x-python",
   "name": "python",
   "nbconvert_exporter": "python",
   "pygments_lexer": "ipython3",
   "version": "3.8.5"
  }
 },
 "nbformat": 4,
 "nbformat_minor": 5
}
