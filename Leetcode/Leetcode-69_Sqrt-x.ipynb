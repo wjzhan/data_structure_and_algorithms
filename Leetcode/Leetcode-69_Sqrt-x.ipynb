{
 "cells": [
  {
   "cell_type": "markdown",
   "id": "becoming-effectiveness",
   "metadata": {},
   "source": [
    "Given a non-negative integer x, compute and return the square root of x.\n",
    "\n",
    "Since the return type is an integer, the decimal digits are truncated, and only the integer part of the result is returned."
   ]
  },
  {
   "cell_type": "code",
   "execution_count": 3,
   "id": "racial-maker",
   "metadata": {},
   "outputs": [],
   "source": [
    "def mySqrt(x):\n",
    "    if x == 0:\n",
    "        return 0\n",
    "    low = 1\n",
    "    high = x\n",
    "    \n",
    "    while low <= high:\n",
    "        mid = (low + high) // 2\n",
    "        if mid * mid <= x:\n",
    "            if (mid+1) * (mid+1) > x:\n",
    "                return mid\n",
    "            else:\n",
    "                low = mid + 1       \n",
    "        else:\n",
    "            high = mid-1\n",
    "\n",
    "    return -1"
   ]
  },
  {
   "cell_type": "code",
   "execution_count": 4,
   "id": "limited-january",
   "metadata": {},
   "outputs": [
    {
     "data": {
      "text/plain": [
       "2"
      ]
     },
     "execution_count": 4,
     "metadata": {},
     "output_type": "execute_result"
    }
   ],
   "source": [
    "mySqrt(8)"
   ]
  },
  {
   "cell_type": "code",
   "execution_count": null,
   "id": "prompt-shade",
   "metadata": {},
   "outputs": [],
   "source": []
  }
 ],
 "metadata": {
  "kernelspec": {
   "display_name": "Python 3",
   "language": "python",
   "name": "python3"
  },
  "language_info": {
   "codemirror_mode": {
    "name": "ipython",
    "version": 3
   },
   "file_extension": ".py",
   "mimetype": "text/x-python",
   "name": "python",
   "nbconvert_exporter": "python",
   "pygments_lexer": "ipython3",
   "version": "3.8.5"
  }
 },
 "nbformat": 4,
 "nbformat_minor": 5
}
