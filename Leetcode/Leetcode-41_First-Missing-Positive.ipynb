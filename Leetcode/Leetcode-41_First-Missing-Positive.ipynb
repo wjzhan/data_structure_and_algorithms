{
 "cells": [
  {
   "cell_type": "markdown",
   "id": "laden-fifteen",
   "metadata": {},
   "source": [
    "Given an unsorted integer array nums, find the smallest missing positive integer."
   ]
  },
  {
   "cell_type": "markdown",
   "id": "sexual-agent",
   "metadata": {},
   "source": [
    "### Naive Method"
   ]
  },
  {
   "cell_type": "code",
   "execution_count": 1,
   "id": "developed-alias",
   "metadata": {},
   "outputs": [],
   "source": [
    "def firstMissingPositive(nums):\n",
    "    nums.sort()\n",
    "    i = 0\n",
    "    while i < len(nums) and nums[i] < 1:\n",
    "        i +=1\n",
    "\n",
    "    # when i == len(nums) no positive\n",
    "    if i == len(nums):\n",
    "        return 1\n",
    "\n",
    "    if i == 0:\n",
    "        if nums[i] > 1:\n",
    "            return 1\n",
    "\n",
    "    if nums[i] > 1:\n",
    "        return 1\n",
    "\n",
    "    j = i+1\n",
    "    while j < len(nums):\n",
    "        if nums[j] - nums[j-1] >1:\n",
    "            return nums[j-1]+1\n",
    "        else:\n",
    "            j+=1\n",
    "    return nums[len(nums)-1] + 1"
   ]
  },
  {
   "cell_type": "code",
   "execution_count": null,
   "id": "nominated-aruba",
   "metadata": {},
   "outputs": [],
   "source": []
  }
 ],
 "metadata": {
  "kernelspec": {
   "display_name": "Python 3",
   "language": "python",
   "name": "python3"
  },
  "language_info": {
   "codemirror_mode": {
    "name": "ipython",
    "version": 3
   },
   "file_extension": ".py",
   "mimetype": "text/x-python",
   "name": "python",
   "nbconvert_exporter": "python",
   "pygments_lexer": "ipython3",
   "version": "3.8.5"
  }
 },
 "nbformat": 4,
 "nbformat_minor": 5
}
