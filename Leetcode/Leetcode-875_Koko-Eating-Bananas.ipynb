{
 "cells": [
  {
   "cell_type": "markdown",
   "id": "informal-argument",
   "metadata": {},
   "source": [
    "Koko loves to eat bananas. There are n piles of bananas, the ith pile has piles[i] bananas. The guards have gone and will come back in h hours.\n",
    "\n",
    "Koko can decide her bananas-per-hour eating speed of k. Each hour, she chooses some pile of bananas and eats k bananas from that pile. If the pile has less than k bananas, she eats all of them instead and will not eat any more bananas during this hour.\n",
    "\n",
    "Koko likes to eat slowly but still wants to finish eating all the bananas before the guards return.\n",
    "\n",
    "Return the minimum integer k such that she can eat all the bananas within h hours.\n",
    "\n",
    " "
   ]
  },
  {
   "cell_type": "code",
   "execution_count": 33,
   "id": "noble-commercial",
   "metadata": {},
   "outputs": [],
   "source": [
    "def minEatingSpeed(piles, h):\n",
    "    if len(piles) > h:\n",
    "        return None\n",
    "\n",
    "    if len(piles) == 1:\n",
    "        return math.ceil(piles[0]/h)\n",
    "\n",
    "    if len(piles) == h:\n",
    "        return max(piles)\n",
    "\n",
    "    return self.binary(piles, h)\n",
    "\n",
    "\n",
    "\n",
    "def binary(self, piles, h):\n",
    "    # binary search\n",
    "    low = 1\n",
    "    high = max(piles)\n",
    "\n",
    "    while low<=high:\n",
    "        mid = low + (high - low)//2\n",
    "        if self.consumedTime(piles, mid) <= h:\n",
    "            if mid == 0 or self.consumedTime(piles, mid-1) > h:\n",
    "                return mid\n",
    "            else:\n",
    "                high = mid - 1\n",
    "        else:\n",
    "            low = mid + 1\n",
    "    return -1\n",
    "\n",
    "\n",
    "def consumedTime(self, piles, k):\n",
    "    h = 0\n",
    "    for pile in piles:\n",
    "        h += math.ceil(pile/k)\n",
    "    return h"
   ]
  },
  {
   "cell_type": "code",
   "execution_count": 34,
   "id": "assisted-conflict",
   "metadata": {},
   "outputs": [],
   "source": [
    "piles = [3,6,7,11]\n",
    "h = 8"
   ]
  },
  {
   "cell_type": "code",
   "execution_count": 35,
   "id": "miniature-isaac",
   "metadata": {},
   "outputs": [
    {
     "name": "stdout",
     "output_type": "stream",
     "text": [
      "[1, 2, 3, 4, 5, 6, 7, 8, 9, 10, 11]\n",
      "0\n",
      "10\n",
      "0\n",
      "4\n",
      "3\n",
      "4\n"
     ]
    },
    {
     "data": {
      "text/plain": [
       "4"
      ]
     },
     "execution_count": 35,
     "metadata": {},
     "output_type": "execute_result"
    }
   ],
   "source": [
    "minEatingSpeed(piles, h)"
   ]
  },
  {
   "cell_type": "code",
   "execution_count": null,
   "id": "confirmed-equipment",
   "metadata": {},
   "outputs": [],
   "source": []
  }
 ],
 "metadata": {
  "kernelspec": {
   "display_name": "Python 3",
   "language": "python",
   "name": "python3"
  },
  "language_info": {
   "codemirror_mode": {
    "name": "ipython",
    "version": 3
   },
   "file_extension": ".py",
   "mimetype": "text/x-python",
   "name": "python",
   "nbconvert_exporter": "python",
   "pygments_lexer": "ipython3",
   "version": "3.8.5"
  }
 },
 "nbformat": 4,
 "nbformat_minor": 5
}
