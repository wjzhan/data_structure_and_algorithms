{
 "cells": [
  {
   "cell_type": "markdown",
   "id": "plain-arena",
   "metadata": {},
   "source": [
    "You are given the root of a binary tree containing digits from 0 to 9 only.\n",
    "\n",
    "Each root-to-leaf path in the tree represents a number.\n",
    "\n",
    "For example, the root-to-leaf path 1 -> 2 -> 3 represents the number 123.\n",
    "Return the total sum of all root-to-leaf numbers.\n",
    "\n",
    "A leaf node is a node with no children."
   ]
  },
  {
   "cell_type": "code",
   "execution_count": 7,
   "id": "assured-journal",
   "metadata": {},
   "outputs": [],
   "source": [
    "# Definition for a binary tree node.\n",
    "# class TreeNode:\n",
    "#     def __init__(self, val=0, left=None, right=None):\n",
    "#         self.val = val\n",
    "#         self.left = left\n",
    "#         self.right = right\n",
    "class Solution:\n",
    "    def sumNumbers(self, root):\n",
    "        m_path = self.dfs(root)\n",
    "        sum = 0\n",
    "        for path in m_path:\n",
    "            if path:\n",
    "                for i in range(len(path)):\n",
    "                    sum += path[i] * math.pow(10, i)\n",
    "        return int(sum)\n",
    "        \n",
    "    def dfs(self, node):\n",
    "        if not node.left and not node.right:\n",
    "            return [[node.val]]\n",
    "        \n",
    "        l_path = [[]]\n",
    "        r_path = [[]]\n",
    "        if node.left:\n",
    "            l_path = self.dfs(node.left)\n",
    "            \n",
    "            for path in l_path:\n",
    "                path.append(node.val)\n",
    "            \n",
    "        if node.right:\n",
    "            r_path = self.dfs(node.right)\n",
    "            for path in r_path:\n",
    "                path.append(node.val)\n",
    "        if l_path == [[]]:    \n",
    "            return r_path\n",
    "        elif r_path == [[]]:\n",
    "            return l_path\n",
    "        else:\n",
    "            return (l_path + r_path)"
   ]
  },
  {
   "cell_type": "code",
   "execution_count": null,
   "id": "mental-illness",
   "metadata": {},
   "outputs": [],
   "source": []
  }
 ],
 "metadata": {
  "kernelspec": {
   "display_name": "Python 3",
   "language": "python",
   "name": "python3"
  },
  "language_info": {
   "codemirror_mode": {
    "name": "ipython",
    "version": 3
   },
   "file_extension": ".py",
   "mimetype": "text/x-python",
   "name": "python",
   "nbconvert_exporter": "python",
   "pygments_lexer": "ipython3",
   "version": "3.8.5"
  }
 },
 "nbformat": 4,
 "nbformat_minor": 5
}
