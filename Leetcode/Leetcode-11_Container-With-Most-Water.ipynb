{
 "cells": [
  {
   "cell_type": "markdown",
   "id": "atlantic-force",
   "metadata": {},
   "source": [
    "Given n non-negative integers a1, a2, ..., an , where each represents a point at coordinate (i, ai). n vertical lines are drawn such that the two endpoints of the line i is at (i, ai) and (i, 0). Find two lines, which, together with the x-axis forms a container, such that the container contains the most water.\n",
    "\n",
    "Notice that you may not slant the container."
   ]
  },
  {
   "cell_type": "markdown",
   "id": "affecting-landing",
   "metadata": {},
   "source": [
    "### Method 1: Brute Force"
   ]
  },
  {
   "cell_type": "code",
   "execution_count": 39,
   "id": "north-passport",
   "metadata": {},
   "outputs": [],
   "source": [
    "def maxArea(height):\n",
    "    result = 0\n",
    "    for i in range(len(height)):\n",
    "        result = findArea(height, i, result)\n",
    "    return result\n",
    "\n",
    "def findArea(height, idx, prior_area):\n",
    "    max_area = prior_area\n",
    "    for j in range(idx+1, len(height)):\n",
    "        h = min(height[idx], height[j])\n",
    "        w = j - idx\n",
    "        if h*w > max_area:\n",
    "            max_area = h*w\n",
    "    return max_area"
   ]
  },
  {
   "cell_type": "code",
   "execution_count": 40,
   "id": "based-recording",
   "metadata": {},
   "outputs": [
    {
     "data": {
      "text/plain": [
       "2"
      ]
     },
     "execution_count": 40,
     "metadata": {},
     "output_type": "execute_result"
    }
   ],
   "source": [
    "maxArea([1,2,1])"
   ]
  },
  {
   "cell_type": "code",
   "execution_count": 41,
   "id": "fossil-photography",
   "metadata": {},
   "outputs": [
    {
     "data": {
      "text/plain": [
       "25"
      ]
     },
     "execution_count": 41,
     "metadata": {},
     "output_type": "execute_result"
    }
   ],
   "source": [
    "maxArea([10,9,8,7,6,5,4,3,2,1])"
   ]
  },
  {
   "cell_type": "markdown",
   "id": "fallen-softball",
   "metadata": {},
   "source": [
    "### Method 2: Two Pointer"
   ]
  },
  {
   "cell_type": "code",
   "execution_count": 42,
   "id": "sealed-hughes",
   "metadata": {},
   "outputs": [],
   "source": [
    "def maxArea(height):\n",
    "    l, r = 0, len(height)-1\n",
    "    max_area = 0\n",
    "    \n",
    "    while l < r:\n",
    "        area = min(height[l], height[r]) * (r-l)\n",
    "        max_area = max(area, max_area)\n",
    "        \n",
    "        if height[l] < height[r]:\n",
    "            l += 1x\n",
    "        else:\n",
    "            r -= 1\n",
    "    return max_area\n",
    "            \n",
    "    "
   ]
  },
  {
   "cell_type": "code",
   "execution_count": 43,
   "id": "limited-slide",
   "metadata": {},
   "outputs": [
    {
     "data": {
      "text/plain": [
       "25"
      ]
     },
     "execution_count": 43,
     "metadata": {},
     "output_type": "execute_result"
    }
   ],
   "source": [
    "maxArea([10,9,8,7,6,5,4,3,2,1])"
   ]
  },
  {
   "cell_type": "code",
   "execution_count": 44,
   "id": "respected-vertex",
   "metadata": {},
   "outputs": [
    {
     "data": {
      "text/plain": [
       "2"
      ]
     },
     "execution_count": 44,
     "metadata": {},
     "output_type": "execute_result"
    }
   ],
   "source": [
    "maxArea([1,2,1])"
   ]
  },
  {
   "cell_type": "code",
   "execution_count": 45,
   "id": "alpha-element",
   "metadata": {},
   "outputs": [
    {
     "data": {
      "text/plain": [
       "49"
      ]
     },
     "execution_count": 45,
     "metadata": {},
     "output_type": "execute_result"
    }
   ],
   "source": [
    "maxArea([1,8,6,2,5,4,8,3,7])"
   ]
  },
  {
   "cell_type": "code",
   "execution_count": 46,
   "id": "reserved-diagnosis",
   "metadata": {},
   "outputs": [
    {
     "data": {
      "text/plain": [
       "16"
      ]
     },
     "execution_count": 46,
     "metadata": {},
     "output_type": "execute_result"
    }
   ],
   "source": [
    "maxArea([4,3,2,1,4])"
   ]
  },
  {
   "cell_type": "code",
   "execution_count": 47,
   "id": "loaded-powder",
   "metadata": {},
   "outputs": [
    {
     "data": {
      "text/plain": [
       "1"
      ]
     },
     "execution_count": 47,
     "metadata": {},
     "output_type": "execute_result"
    }
   ],
   "source": [
    "maxArea([1,1])"
   ]
  },
  {
   "cell_type": "code",
   "execution_count": 48,
   "id": "typical-atlas",
   "metadata": {},
   "outputs": [
    {
     "data": {
      "text/plain": [
       "17"
      ]
     },
     "execution_count": 48,
     "metadata": {},
     "output_type": "execute_result"
    }
   ],
   "source": [
    "maxArea([2,3,4,5,18,17,6])"
   ]
  },
  {
   "cell_type": "code",
   "execution_count": null,
   "id": "renewable-departure",
   "metadata": {},
   "outputs": [],
   "source": []
  }
 ],
 "metadata": {
  "kernelspec": {
   "display_name": "Python 3",
   "language": "python",
   "name": "python3"
  },
  "language_info": {
   "codemirror_mode": {
    "name": "ipython",
    "version": 3
   },
   "file_extension": ".py",
   "mimetype": "text/x-python",
   "name": "python",
   "nbconvert_exporter": "python",
   "pygments_lexer": "ipython3",
   "version": "3.8.5"
  }
 },
 "nbformat": 4,
 "nbformat_minor": 5
}
