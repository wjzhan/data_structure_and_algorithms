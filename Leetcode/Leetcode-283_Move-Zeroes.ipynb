{
 "cells": [
  {
   "cell_type": "markdown",
   "id": "naval-orange",
   "metadata": {},
   "source": [
    "Given an integer array nums, move all 0's to the end of it while maintaining the relative order of the non-zero elements.\n",
    "\n",
    "Note that you must do this in-place without making a copy of the array."
   ]
  },
  {
   "cell_type": "code",
   "execution_count": 92,
   "id": "unauthorized-toddler",
   "metadata": {},
   "outputs": [],
   "source": [
    "def moveZeroes(nums):\n",
    "    \"\"\"\n",
    "    Do not return anything, modify nums in-place instead.\n",
    "    \"\"\"\n",
    "    finder, keeper = 0, 0\n",
    "    while finder < len(nums):\n",
    "        if nums[finder] != 0:\n",
    "            nums[finder], nums[keeper] = nums[keeper], nums[finder]\n",
    "            keeper += 1\n",
    "        finder += 1\n",
    "    return nums"
   ]
  },
  {
   "cell_type": "code",
   "execution_count": 93,
   "id": "marked-reservation",
   "metadata": {},
   "outputs": [
    {
     "data": {
      "text/plain": [
       "[1, 3, 12, 0, 0]"
      ]
     },
     "execution_count": 93,
     "metadata": {},
     "output_type": "execute_result"
    }
   ],
   "source": [
    "moveZeroes([0,1,0,3,12])"
   ]
  },
  {
   "cell_type": "code",
   "execution_count": null,
   "id": "unknown-solid",
   "metadata": {},
   "outputs": [],
   "source": []
  }
 ],
 "metadata": {
  "kernelspec": {
   "display_name": "Python 3",
   "language": "python",
   "name": "python3"
  },
  "language_info": {
   "codemirror_mode": {
    "name": "ipython",
    "version": 3
   },
   "file_extension": ".py",
   "mimetype": "text/x-python",
   "name": "python",
   "nbconvert_exporter": "python",
   "pygments_lexer": "ipython3",
   "version": "3.8.5"
  }
 },
 "nbformat": 4,
 "nbformat_minor": 5
}
