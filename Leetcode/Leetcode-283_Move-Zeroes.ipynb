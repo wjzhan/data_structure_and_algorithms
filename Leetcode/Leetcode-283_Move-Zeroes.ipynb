{
 "cells": [
  {
   "cell_type": "markdown",
   "id": "naval-orange",
   "metadata": {},
   "source": [
    "Given an integer array nums, move all 0's to the end of it while maintaining the relative order of the non-zero elements.\n",
    "\n",
    "Note that you must do this in-place without making a copy of the array."
   ]
  },
  {
   "cell_type": "code",
   "execution_count": 17,
   "id": "unauthorized-toddler",
   "metadata": {},
   "outputs": [],
   "source": [
    "def moveZeroes(nums):\n",
    "    \"\"\"\n",
    "    Do not return anything, modify nums in-place instead.\n",
    "    \"\"\"\n",
    "    finder, keeper = 0, 0\n",
    "    while finder < len(nums):\n",
    "        if nums[finder] != 0:\n",
    "            print('swap : ' + str(keeper) + \" : \" + str(finder))\n",
    "            nums[finder], nums[keeper] = nums[keeper], nums[finder]\n",
    "            keeper += 1\n",
    "        finder += 1\n",
    "        print(str(keeper) + \" : \" + str(finder))\n",
    "        print(nums)\n",
    "    return nums"
   ]
  },
  {
   "cell_type": "code",
   "execution_count": 19,
   "id": "marked-reservation",
   "metadata": {},
   "outputs": [
    {
     "name": "stdout",
     "output_type": "stream",
     "text": [
      "swap : 0 : 0\n",
      "1 : 1\n",
      "[4, 0, 2, 11, 1, 3, 12]\n",
      "1 : 2\n",
      "[4, 0, 2, 11, 1, 3, 12]\n",
      "swap : 1 : 2\n",
      "2 : 3\n",
      "[4, 2, 0, 11, 1, 3, 12]\n",
      "swap : 2 : 3\n",
      "3 : 4\n",
      "[4, 2, 11, 0, 1, 3, 12]\n",
      "swap : 3 : 4\n",
      "4 : 5\n",
      "[4, 2, 11, 1, 0, 3, 12]\n",
      "swap : 4 : 5\n",
      "5 : 6\n",
      "[4, 2, 11, 1, 3, 0, 12]\n",
      "swap : 5 : 6\n",
      "6 : 7\n",
      "[4, 2, 11, 1, 3, 12, 0]\n"
     ]
    },
    {
     "data": {
      "text/plain": [
       "[4, 2, 11, 1, 3, 12, 0]"
      ]
     },
     "execution_count": 19,
     "metadata": {},
     "output_type": "execute_result"
    }
   ],
   "source": [
    "moveZeroes([4, 0,2, 11, 1,3,12])"
   ]
  },
  {
   "cell_type": "code",
   "execution_count": null,
   "id": "unknown-solid",
   "metadata": {},
   "outputs": [],
   "source": []
  },
  {
   "cell_type": "code",
   "execution_count": null,
   "id": "optimum-variance",
   "metadata": {},
   "outputs": [],
   "source": []
  }
 ],
 "metadata": {
  "kernelspec": {
   "display_name": "Python 3",
   "language": "python",
   "name": "python3"
  },
  "language_info": {
   "codemirror_mode": {
    "name": "ipython",
    "version": 3
   },
   "file_extension": ".py",
   "mimetype": "text/x-python",
   "name": "python",
   "nbconvert_exporter": "python",
   "pygments_lexer": "ipython3",
   "version": "3.8.5"
  }
 },
 "nbformat": 4,
 "nbformat_minor": 5
}
