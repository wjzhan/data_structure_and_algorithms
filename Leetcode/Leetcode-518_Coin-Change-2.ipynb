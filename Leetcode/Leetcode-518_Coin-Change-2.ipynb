{
 "cells": [
  {
   "cell_type": "markdown",
   "id": "outside-paraguay",
   "metadata": {},
   "source": [
    "You are given coins of different denominations and a total amount of money. Write a function to compute the number of combinations that make up that amount. You may assume that you have infinite number of each kind of coin.\n",
    "\n",
    "<pre><code>\n",
    "Example 1:\n",
    "\n",
    "Input: amount = 5, coins = [1, 2, 5]\n",
    "Output: 4\n",
    "Explanation: there are four ways to make up the amount:\n",
    "5=5\n",
    "5=2+2+1\n",
    "5=2+1+1+1\n",
    "5=1+1+1+1+1\n",
    "Example 2:\n",
    "\n",
    "Input: amount = 3, coins = [2]\n",
    "Output: 0\n",
    "Explanation: the amount of 3 cannot be made up just with coins of 2.\n",
    "Example 3:\n",
    "\n",
    "Input: amount = 10, coins = [10] \n",
    "Output: 1\n",
    "\n",
    "\n",
    "Note:\n",
    "\n",
    "You can assume that\n",
    "\n",
    "0 <= amount <= 5000\n",
    "1 <= coin <= 5000\n",
    "the number of coins is less than 500\n",
    "the answer is guaranteed to fit into signed 32-bit integer\n",
    "</code></pre>"
   ]
  },
  {
   "cell_type": "markdown",
   "id": "naked-evolution",
   "metadata": {},
   "source": [
    "## Recusion Method"
   ]
  },
  {
   "cell_type": "code",
   "execution_count": 17,
   "id": "departmental-origin",
   "metadata": {},
   "outputs": [],
   "source": [
    "def change(amount, coins):\n",
    "    memos = {}\n",
    "    result = helper(amount, coins, 0, memos)\n",
    "    return result\n",
    "\n",
    "def helper(amount, coins, i, memos):\n",
    "    if (amount, i) in memos:\n",
    "        return memos[(amount, i)]\n",
    "    \n",
    "    if amount == 0:\n",
    "        return 1\n",
    "    if amount < 0 or i>= len(coins):\n",
    "        return 0\n",
    "    \n",
    "    left = helper(amount - coins[i], coins, i, memos)\n",
    "    right = helper(amount, coins, i+1, memos)\n",
    "    total_count = left + right\n",
    "    memos[(amount, i)] = total_count\n",
    "    \n",
    "    return total_count\n",
    "        "
   ]
  },
  {
   "cell_type": "code",
   "execution_count": 19,
   "id": "preliminary-pleasure",
   "metadata": {},
   "outputs": [
    {
     "data": {
      "text/plain": [
       "4"
      ]
     },
     "execution_count": 19,
     "metadata": {},
     "output_type": "execute_result"
    }
   ],
   "source": [
    "change(5, [1,2,5])"
   ]
  },
  {
   "cell_type": "markdown",
   "id": "opening-brush",
   "metadata": {},
   "source": [
    "## Dynamic Programming"
   ]
  },
  {
   "cell_type": "code",
   "execution_count": 20,
   "id": "powered-chest",
   "metadata": {},
   "outputs": [],
   "source": [
    "coins = [1,2,5]\n",
    "amount = 5"
   ]
  },
  {
   "cell_type": "code",
   "execution_count": 23,
   "id": "corresponding-purchase",
   "metadata": {},
   "outputs": [],
   "source": [
    "def change(amount, coins):\n",
    "    # initialize\n",
    "    dp = [[0] * (amount + 1)] * (len(coins) + 1)\n",
    "\n",
    "    # leave node\n",
    "    for i in range(len(coins) + 1):\n",
    "        dp[i][0] = 1\n",
    "\n",
    "    for i in range(1, len(coins)+1):\n",
    "        for j in range(1, amount + 1):\n",
    "            if coins[i-1] > j:\n",
    "                dp[i][j] = dp[i-1][j]\n",
    "            else:\n",
    "                dp[i][j] = dp[i-1][j] + dp[i][j-coins[i-1]]\n",
    "    return dp[-1][-1]"
   ]
  },
  {
   "cell_type": "code",
   "execution_count": 24,
   "id": "exotic-europe",
   "metadata": {},
   "outputs": [
    {
     "data": {
      "text/plain": [
       "[[0, 0, 0, 0, 0, 0],\n",
       " [0, 0, 0, 0, 0, 0],\n",
       " [0, 0, 0, 0, 0, 0],\n",
       " [0, 0, 0, 0, 0, 0]]"
      ]
     },
     "execution_count": 24,
     "metadata": {},
     "output_type": "execute_result"
    }
   ],
   "source": [
    "a"
   ]
  },
  {
   "cell_type": "code",
   "execution_count": 28,
   "id": "anticipated-silicon",
   "metadata": {},
   "outputs": [],
   "source": [
    "for i in range(len(coins) + 1):\n",
    "    a[i][0] = 1"
   ]
  },
  {
   "cell_type": "code",
   "execution_count": 29,
   "id": "ranking-patch",
   "metadata": {},
   "outputs": [
    {
     "data": {
      "text/plain": [
       "[[1, 0, 0, 0, 0, 0],\n",
       " [1, 0, 0, 0, 0, 0],\n",
       " [1, 0, 0, 0, 0, 0],\n",
       " [1, 0, 0, 0, 0, 0]]"
      ]
     },
     "execution_count": 29,
     "metadata": {},
     "output_type": "execute_result"
    }
   ],
   "source": [
    "a"
   ]
  },
  {
   "cell_type": "code",
   "execution_count": null,
   "id": "literary-sound",
   "metadata": {},
   "outputs": [],
   "source": []
  }
 ],
 "metadata": {
  "kernelspec": {
   "display_name": "Python 3",
   "language": "python",
   "name": "python3"
  },
  "language_info": {
   "codemirror_mode": {
    "name": "ipython",
    "version": 3
   },
   "file_extension": ".py",
   "mimetype": "text/x-python",
   "name": "python",
   "nbconvert_exporter": "python",
   "pygments_lexer": "ipython3",
   "version": "3.8.5"
  }
 },
 "nbformat": 4,
 "nbformat_minor": 5
}
