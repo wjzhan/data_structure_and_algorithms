{
 "cells": [
  {
   "cell_type": "markdown",
   "id": "corporate-greensboro",
   "metadata": {},
   "source": [
    "## Two Sum\n",
    "Given an array of integers nums and an integer target, return indices of the two numbers such that they add up to target.\n",
    "\n",
    "You may assume that each input would have exactly one solution, and you may not use the same element twice.\n",
    "\n",
    "You can return the answer in any order.\n",
    "\n"
   ]
  },
  {
   "cell_type": "markdown",
   "id": "computational-spine",
   "metadata": {},
   "source": [
    "### Use Dictionary to store the occurance"
   ]
  },
  {
   "cell_type": "code",
   "execution_count": 4,
   "id": "amended-lithuania",
   "metadata": {},
   "outputs": [],
   "source": [
    "def twoSum(nums, target):\n",
    "    num_idx_map = {}\n",
    "    for idx in range(len(nums)):\n",
    "        elem = nums[idx]\n",
    "        if elem in num_idx_map:\n",
    "            num_idx_map[elem].append(idx)\n",
    "        else:\n",
    "            num_idx_map[elem] = [idx]\n",
    "\n",
    "    # iterate through arr to find all k - elem in above dict\n",
    "    output = []\n",
    "    for idx in range(len(nums)):\n",
    "        elem = nums[idx]\n",
    "        diff = target - elem\n",
    "        if diff in num_idx_map and len(num_idx_map[diff]) > 0:\n",
    "            if diff != elem:\n",
    "                idx_diff = num_idx_map[diff][0]\n",
    "                output = output + [idx, idx_diff]\n",
    "                break\n",
    "            else:\n",
    "                if len(num_idx_map[diff]) > 1:\n",
    "                    idx_diff = num_idx_map[diff][1]\n",
    "                    output = output + [idx, idx_diff]\n",
    "                    break\n",
    "        num_idx_map[elem].pop(0)\n",
    "\n",
    "    return output"
   ]
  },
  {
   "cell_type": "code",
   "execution_count": 5,
   "id": "canadian-nickel",
   "metadata": {},
   "outputs": [
    {
     "data": {
      "text/plain": [
       "[0, 1]"
      ]
     },
     "execution_count": 5,
     "metadata": {},
     "output_type": "execute_result"
    }
   ],
   "source": [
    "twoSum([2,7,11,15], 9)"
   ]
  },
  {
   "cell_type": "markdown",
   "id": "anonymous-utilization",
   "metadata": {},
   "source": [
    "### Use two pointers"
   ]
  },
  {
   "cell_type": "code",
   "execution_count": 7,
   "id": "following-expansion",
   "metadata": {},
   "outputs": [],
   "source": [
    "def twoSum(nums, target):\n",
    "    for i in range(len(nums)):\n",
    "        j=i+1\n",
    "        while j < len(nums):\n",
    "            if nums[i] + nums[j] == target:\n",
    "                return [i,j]\n",
    "            else:\n",
    "                j += 1\n",
    "    return []      "
   ]
  },
  {
   "cell_type": "code",
   "execution_count": 8,
   "id": "static-integral",
   "metadata": {},
   "outputs": [
    {
     "data": {
      "text/plain": [
       "[0, 1]"
      ]
     },
     "execution_count": 8,
     "metadata": {},
     "output_type": "execute_result"
    }
   ],
   "source": [
    "twoSum([2,7,11,15], 9)"
   ]
  },
  {
   "cell_type": "markdown",
   "id": "legitimate-seafood",
   "metadata": {},
   "source": [
    "## Three Sum"
   ]
  },
  {
   "cell_type": "markdown",
   "id": "familiar-triumph",
   "metadata": {},
   "source": [
    "### Two Pointers"
   ]
  },
  {
   "cell_type": "code",
   "execution_count": 22,
   "id": "interesting-preparation",
   "metadata": {},
   "outputs": [],
   "source": [
    "def threeSum(nums):\n",
    "    if len(nums) <3:\n",
    "        return []\n",
    "    uniques = set()\n",
    "    nums.sort()\n",
    "\n",
    "    for i in range(len(nums)-2):\n",
    "        j = i + 1\n",
    "        k = len(nums) - 1\n",
    "        # find a + b = -c\n",
    "\n",
    "        while j < k:\n",
    "            if nums[i] + nums[j] + nums[k] == 0 :\n",
    "                uniques.add( (nums[i], nums[j], nums[k]) )\n",
    "                j+=1\n",
    "                k-=1\n",
    "            if nums[i] + nums[j] + nums[k] < 0:\n",
    "                j += 1\n",
    "            if nums[i] + nums[j] + nums[k] > 0:\n",
    "                k -= 1\n",
    "\n",
    "    return [list(item) for item in uniques]"
   ]
  },
  {
   "cell_type": "code",
   "execution_count": 23,
   "id": "lesser-thesis",
   "metadata": {},
   "outputs": [
    {
     "data": {
      "text/plain": [
       "[[-1, 0, 1], [-1, -1, 2]]"
      ]
     },
     "execution_count": 23,
     "metadata": {},
     "output_type": "execute_result"
    }
   ],
   "source": [
    "threeSum([-1,0,1,2,-1,-4])"
   ]
  },
  {
   "cell_type": "markdown",
   "id": "thirty-remainder",
   "metadata": {},
   "source": [
    "## 4Sum\n",
    "\n",
    "Given an array nums of n integers and an integer target, are there elements a, b, c, and d in nums such that a + b + c + d = target? Find all unique quadruplets in the array which gives the sum of target.\n",
    "\n",
    "Notice that the solution set must not contain duplicate quadruplets."
   ]
  },
  {
   "cell_type": "markdown",
   "id": "official-layer",
   "metadata": {},
   "source": [
    "### Two Pointers"
   ]
  },
  {
   "cell_type": "code",
   "execution_count": 20,
   "id": "dominant-novel",
   "metadata": {},
   "outputs": [],
   "source": [
    "def fourSum(nums, target):\n",
    "    if len(nums) < 4:\n",
    "        print('bla')\n",
    "        return []\n",
    "    nums.sort()\n",
    "    uniques = set()\n",
    "\n",
    "    for i in range(0, len(nums)-3):\n",
    "        for j in range(i+1, len(nums)-2):\n",
    "            k = j + 1\n",
    "            p = len(nums) - 1\n",
    "            print(str(i) + str(j) + str(k) + str(p))\n",
    "            while k<p:\n",
    "                if nums[i] + nums[j] + nums[k] + nums[p] == target :\n",
    "                    uniques.add( (nums[i], nums[j], nums[k], nums[p]) )\n",
    "                    k+=1\n",
    "                    p-=1\n",
    "                if nums[i] + nums[j] + nums[k] + nums[p]  < target:\n",
    "                    k += 1\n",
    "                if nums[i] + nums[j] + nums[k] + nums[p]  > target:\n",
    "                    p -= 1\n",
    "    return [list(item) for item in uniques]"
   ]
  },
  {
   "cell_type": "code",
   "execution_count": null,
   "id": "intensive-brunswick",
   "metadata": {},
   "outputs": [],
   "source": []
  }
 ],
 "metadata": {
  "kernelspec": {
   "display_name": "Python 3",
   "language": "python",
   "name": "python3"
  },
  "language_info": {
   "codemirror_mode": {
    "name": "ipython",
    "version": 3
   },
   "file_extension": ".py",
   "mimetype": "text/x-python",
   "name": "python",
   "nbconvert_exporter": "python",
   "pygments_lexer": "ipython3",
   "version": "3.8.5"
  }
 },
 "nbformat": 4,
 "nbformat_minor": 5
}
