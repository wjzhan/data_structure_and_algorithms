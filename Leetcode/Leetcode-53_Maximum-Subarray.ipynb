{
 "cells": [
  {
   "cell_type": "markdown",
   "id": "global-florence",
   "metadata": {},
   "source": [
    "Given an integer array nums, find the contiguous subarray (containing at least one number) which has the largest sum and return its sum.\n",
    "\n",
    "A subarray is a contiguous part of an array.\n",
    "\n"
   ]
  },
  {
   "cell_type": "markdown",
   "id": "virgin-dollar",
   "metadata": {},
   "source": [
    "### Dynamic Programming"
   ]
  },
  {
   "cell_type": "code",
   "execution_count": 1,
   "id": "corrected-cartridge",
   "metadata": {},
   "outputs": [],
   "source": [
    "def maxSubArray(nums):\n",
    "    #dp will be the maximum subarray including itself at ith position\n",
    "    dp = nums\n",
    "\n",
    "    for i in range(1, len(nums)):\n",
    "        #nums[i] must always be counted. Then we can check if we should start all over from i\n",
    "        # or append to previous subarray\n",
    "        if (dp[i-1] + nums[i]) > nums[i]:\n",
    "            dp[i] = dp[i-1] + nums[i]\n",
    "        else:\n",
    "            dp[i] = nums[i]\n",
    "\n",
    "    return max(dp)"
   ]
  },
  {
   "cell_type": "code",
   "execution_count": 2,
   "id": "compact-inside",
   "metadata": {},
   "outputs": [
    {
     "data": {
      "text/plain": [
       "6"
      ]
     },
     "execution_count": 2,
     "metadata": {},
     "output_type": "execute_result"
    }
   ],
   "source": [
    "nums = [-2,1,-3,4,-1,2,1,-5,4]\n",
    "maxSubArray(nums)"
   ]
  },
  {
   "cell_type": "markdown",
   "id": "brutal-thread",
   "metadata": {},
   "source": [
    "### Sliding Window"
   ]
  },
  {
   "cell_type": "code",
   "execution_count": null,
   "id": "insured-bristol",
   "metadata": {},
   "outputs": [],
   "source": []
  }
 ],
 "metadata": {
  "kernelspec": {
   "display_name": "Python 3",
   "language": "python",
   "name": "python3"
  },
  "language_info": {
   "codemirror_mode": {
    "name": "ipython",
    "version": 3
   },
   "file_extension": ".py",
   "mimetype": "text/x-python",
   "name": "python",
   "nbconvert_exporter": "python",
   "pygments_lexer": "ipython3",
   "version": "3.8.5"
  }
 },
 "nbformat": 4,
 "nbformat_minor": 5
}
