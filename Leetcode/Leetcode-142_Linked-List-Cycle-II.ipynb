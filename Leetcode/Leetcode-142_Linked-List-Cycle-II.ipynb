{
 "cells": [
  {
   "cell_type": "markdown",
   "id": "cloudy-enhancement",
   "metadata": {},
   "source": [
    "Given a linked list, return the node where the cycle begins. If there is no cycle, return null.\n",
    "\n",
    "There is a cycle in a linked list if there is some node in the list that can be reached again by continuously following the next pointer. Internally, pos is used to denote the index of the node that tail's next pointer is connected to. Note that pos is not passed as a parameter.\n",
    "\n",
    "Notice that you should not modify the linked list."
   ]
  },
  {
   "cell_type": "code",
   "execution_count": 1,
   "id": "desirable-england",
   "metadata": {},
   "outputs": [],
   "source": [
    "def detectCycle(head):\n",
    "    fast, slow = head, head\n",
    "    while fast != None and fast.next != None:\n",
    "        fast = fast.next.next\n",
    "        slow = slow.next\n",
    "        if fast == slow:\n",
    "            break\n",
    "\n",
    "    if fast == None or fast.next == None:\n",
    "        return None\n",
    "\n",
    "    fast = head\n",
    "    while fast != slow:\n",
    "        fast = fast.next\n",
    "        slow = slow.next\n",
    "    return fast"
   ]
  },
  {
   "cell_type": "code",
   "execution_count": null,
   "id": "veterinary-mortality",
   "metadata": {},
   "outputs": [],
   "source": []
  }
 ],
 "metadata": {
  "kernelspec": {
   "display_name": "Python 3",
   "language": "python",
   "name": "python3"
  },
  "language_info": {
   "codemirror_mode": {
    "name": "ipython",
    "version": 3
   },
   "file_extension": ".py",
   "mimetype": "text/x-python",
   "name": "python",
   "nbconvert_exporter": "python",
   "pygments_lexer": "ipython3",
   "version": "3.8.5"
  }
 },
 "nbformat": 4,
 "nbformat_minor": 5
}
