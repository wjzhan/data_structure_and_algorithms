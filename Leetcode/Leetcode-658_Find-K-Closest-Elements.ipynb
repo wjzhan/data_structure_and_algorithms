{
 "cells": [
  {
   "cell_type": "markdown",
   "id": "driving-there",
   "metadata": {},
   "source": [
    "Given a sorted integer array arr, two integers k and x, return the k closest integers to x in the array. The result should also be sorted in ascending order.\n",
    "\n",
    "An integer a is closer to x than an integer b if:\n",
    "\n",
    "|a - x| < |b - x|, or\n",
    "|a - x| == |b - x| and a < b"
   ]
  },
  {
   "cell_type": "code",
   "execution_count": 1,
   "id": "engaged-terrace",
   "metadata": {},
   "outputs": [],
   "source": [
    "def findFirst(nums, target):\n",
    "    l, r = 0, len(nums) - 1\n",
    "    while l <= r:\n",
    "        m = l + (r-l)//2\n",
    "        if nums[m] < target:\n",
    "            l = m + 1\n",
    "        else:\n",
    "            if m==0 or nums[m-1] < target:\n",
    "                return m\n",
    "            else:\n",
    "                r = m-1\n",
    "    return None"
   ]
  },
  {
   "cell_type": "code",
   "execution_count": 38,
   "id": "adult-affect",
   "metadata": {},
   "outputs": [],
   "source": [
    "def findClosestElements(arr, k, x):\n",
    "    result = []\n",
    "    m = findFirst(arr, x)\n",
    "\n",
    "    if m == 0:\n",
    "        return arr[:k]\n",
    "    if m == None:\n",
    "        return arr[len(arr)-k:]\n",
    "    \n",
    "    l = m-1\n",
    "    r = m\n",
    "    while k > 0:\n",
    "        print(l)\n",
    "        print(r)\n",
    "        print(result)\n",
    "        if l >= 0 and r< len(arr):\n",
    "            a, b = abs(arr[l]-x), abs(arr[r]-x)\n",
    "            if a<=b:\n",
    "                result.insert(0, arr[l])\n",
    "                l -= 1\n",
    "            else:\n",
    "                result.append(arr[r])\n",
    "                r += 1\n",
    "        elif l>= 0:\n",
    "            result.insert(0, arr[l])\n",
    "            l -= 1   \n",
    "        else:\n",
    "            result.append(arr[r])\n",
    "            r += 1\n",
    "\n",
    "        k -= 1\n",
    "    return result"
   ]
  },
  {
   "cell_type": "code",
   "execution_count": 39,
   "id": "alternative-christianity",
   "metadata": {},
   "outputs": [
    {
     "name": "stdout",
     "output_type": "stream",
     "text": [
      "1\n",
      "2\n",
      "[]\n",
      "1\n",
      "3\n",
      "[3]\n",
      "0\n",
      "3\n",
      "[2, 3]\n",
      "0\n",
      "4\n",
      "[2, 3, 4]\n"
     ]
    },
    {
     "data": {
      "text/plain": [
       "[1, 2, 3, 4]"
      ]
     },
     "execution_count": 39,
     "metadata": {},
     "output_type": "execute_result"
    }
   ],
   "source": [
    "findClosestElements([1,2,3,4,5], k = 4, x = 3)"
   ]
  },
  {
   "cell_type": "code",
   "execution_count": null,
   "id": "together-principal",
   "metadata": {},
   "outputs": [],
   "source": []
  }
 ],
 "metadata": {
  "kernelspec": {
   "display_name": "Python 3",
   "language": "python",
   "name": "python3"
  },
  "language_info": {
   "codemirror_mode": {
    "name": "ipython",
    "version": 3
   },
   "file_extension": ".py",
   "mimetype": "text/x-python",
   "name": "python",
   "nbconvert_exporter": "python",
   "pygments_lexer": "ipython3",
   "version": "3.8.5"
  }
 },
 "nbformat": 4,
 "nbformat_minor": 5
}
