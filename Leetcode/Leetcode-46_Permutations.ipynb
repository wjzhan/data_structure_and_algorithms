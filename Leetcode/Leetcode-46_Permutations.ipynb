{
 "cells": [
  {
   "cell_type": "markdown",
   "id": "packed-participation",
   "metadata": {},
   "source": [
    "Given an array nums of distinct integers, return all the possible permutations. You can return the answer in any order.\n",
    "\n"
   ]
  },
  {
   "cell_type": "code",
   "execution_count": 20,
   "id": "identical-sharing",
   "metadata": {},
   "outputs": [],
   "source": [
    "def permute(nums):\n",
    "    memos = []\n",
    "    def df(sub, candid):\n",
    "        if len(candid) == 0:\n",
    "            memos.append(sub + [])\n",
    "            return\n",
    "        for num in candid:\n",
    "            sub.append(num)\n",
    "            candid.remove(num)\n",
    "            df(sub, candid)\n",
    "            sub.remove(num)\n",
    "            candid.append(num)\n",
    "            candid.sort()\n",
    "        return\n",
    "    nums.sort()    \n",
    "    df([], nums)\n",
    "    return memos    "
   ]
  },
  {
   "cell_type": "code",
   "execution_count": 21,
   "id": "undefined-nylon",
   "metadata": {},
   "outputs": [
    {
     "data": {
      "text/plain": [
       "[[1, 2, 3], [1, 3, 2], [2, 1, 3], [2, 3, 1], [3, 1, 2], [3, 2, 1]]"
      ]
     },
     "execution_count": 21,
     "metadata": {},
     "output_type": "execute_result"
    }
   ],
   "source": [
    "nums = [1,2,3]\n",
    "permute(nums)"
   ]
  },
  {
   "cell_type": "code",
   "execution_count": 22,
   "id": "happy-solid",
   "metadata": {},
   "outputs": [
    {
     "data": {
      "text/plain": [
       "[[0, 1], [1, 0]]"
      ]
     },
     "execution_count": 22,
     "metadata": {},
     "output_type": "execute_result"
    }
   ],
   "source": [
    "nums = [0,1]\n",
    "permute(nums)"
   ]
  },
  {
   "cell_type": "code",
   "execution_count": 23,
   "id": "equal-henry",
   "metadata": {},
   "outputs": [
    {
     "data": {
      "text/plain": [
       "[[1]]"
      ]
     },
     "execution_count": 23,
     "metadata": {},
     "output_type": "execute_result"
    }
   ],
   "source": [
    "nums = [1]\n",
    "permute(nums)"
   ]
  },
  {
   "cell_type": "code",
   "execution_count": null,
   "id": "previous-rebate",
   "metadata": {},
   "outputs": [],
   "source": []
  }
 ],
 "metadata": {
  "kernelspec": {
   "display_name": "Python 3",
   "language": "python",
   "name": "python3"
  },
  "language_info": {
   "codemirror_mode": {
    "name": "ipython",
    "version": 3
   },
   "file_extension": ".py",
   "mimetype": "text/x-python",
   "name": "python",
   "nbconvert_exporter": "python",
   "pygments_lexer": "ipython3",
   "version": "3.8.5"
  }
 },
 "nbformat": 4,
 "nbformat_minor": 5
}
