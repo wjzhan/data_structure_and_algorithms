{
 "cells": [
  {
   "cell_type": "markdown",
   "id": "split-optics",
   "metadata": {},
   "source": [
    "Given the root of a binary tree, invert the tree, and return its root.\n",
    "\n"
   ]
  },
  {
   "cell_type": "code",
   "execution_count": null,
   "id": "sufficient-humor",
   "metadata": {},
   "outputs": [],
   "source": [
    "# Definition for a binary tree node.\n",
    "# class TreeNode:\n",
    "#     def __init__(self, val=0, left=None, right=None):\n",
    "#         self.val = val\n",
    "#         self.left = left\n",
    "#         self.right = right\n",
    "class Solution:\n",
    "    def invertTree(self, root):\n",
    "        if not root:\n",
    "            return None\n",
    "        node = self.invert(root)\n",
    "        return node\n",
    "        \n",
    "    def invert(self, node):\n",
    "        if not node:\n",
    "            return\n",
    "        \n",
    "        tmp = node.left\n",
    "        node.left = node.right\n",
    "        node.right = tmp\n",
    "        \n",
    "        self.invert(node.left)\n",
    "        self.invert(node.right)\n",
    "        \n",
    "        return node"
   ]
  }
 ],
 "metadata": {
  "kernelspec": {
   "display_name": "Python 3",
   "language": "python",
   "name": "python3"
  },
  "language_info": {
   "codemirror_mode": {
    "name": "ipython",
    "version": 3
   },
   "file_extension": ".py",
   "mimetype": "text/x-python",
   "name": "python",
   "nbconvert_exporter": "python",
   "pygments_lexer": "ipython3",
   "version": "3.8.5"
  }
 },
 "nbformat": 4,
 "nbformat_minor": 5
}
