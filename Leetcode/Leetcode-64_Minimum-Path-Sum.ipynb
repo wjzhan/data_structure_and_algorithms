{
 "cells": [
  {
   "cell_type": "markdown",
   "id": "developmental-workplace",
   "metadata": {},
   "source": [
    "Given a m x n grid filled with non-negative numbers, find a path from top left to bottom right, which minimizes the sum of all numbers along its path.\n",
    "\n",
    "Note: You can only move either down or right at any point in time."
   ]
  },
  {
   "cell_type": "code",
   "execution_count": 17,
   "id": "noble-writing",
   "metadata": {},
   "outputs": [],
   "source": [
    "def minPathSum(grid):\n",
    "    nrow = len(grid)\n",
    "    ncol = len(grid[0])\n",
    "    dp = [[math.inf for i in range(ncol+1)] for j in range(nrow+1)]\n",
    "    dp[0][1] = 0\n",
    "    dp[1][0] = 0\n",
    "    for i in range(1, nrow+1):\n",
    "        for j in range(1, ncol+1):\n",
    "            dp[i][j] = min( dp[i-1][j], dp[i][j-1] ) + grid[i-1][j-1]\n",
    "    \n",
    "    return dp[-1][-1]"
   ]
  },
  {
   "cell_type": "code",
   "execution_count": 15,
   "id": "breeding-theater",
   "metadata": {},
   "outputs": [],
   "source": [
    "# grid = [[1,2,3],[4,5,6]]\n",
    "grid = [[1,3,1],[1,5,1],[4,2,1]]"
   ]
  },
  {
   "cell_type": "code",
   "execution_count": 16,
   "id": "ignored-bacon",
   "metadata": {},
   "outputs": [
    {
     "name": "stdout",
     "output_type": "stream",
     "text": [
      "[[inf, 0, inf, inf], [0, 1, 4, 5], [inf, 2, 7, 6], [inf, 6, 8, 7]]\n"
     ]
    }
   ],
   "source": [
    "minPathSum(grid)"
   ]
  },
  {
   "cell_type": "code",
   "execution_count": null,
   "id": "bronze-colombia",
   "metadata": {},
   "outputs": [],
   "source": []
  }
 ],
 "metadata": {
  "kernelspec": {
   "display_name": "Python 3",
   "language": "python",
   "name": "python3"
  },
  "language_info": {
   "codemirror_mode": {
    "name": "ipython",
    "version": 3
   },
   "file_extension": ".py",
   "mimetype": "text/x-python",
   "name": "python",
   "nbconvert_exporter": "python",
   "pygments_lexer": "ipython3",
   "version": "3.8.5"
  }
 },
 "nbformat": 4,
 "nbformat_minor": 5
}
