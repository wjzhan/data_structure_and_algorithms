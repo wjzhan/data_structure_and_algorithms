{
 "cells": [
  {
   "cell_type": "markdown",
   "id": "going-break",
   "metadata": {},
   "source": [
    "Given an integer array nums and an integer k, return the kth largest element in the array.\n",
    "\n",
    "Note that it is the kth largest element in the sorted order, not the kth distinct element."
   ]
  },
  {
   "cell_type": "code",
   "execution_count": 60,
   "id": "assured-enemy",
   "metadata": {},
   "outputs": [],
   "source": [
    "import heapq"
   ]
  },
  {
   "cell_type": "code",
   "execution_count": 73,
   "id": "wireless-rebecca",
   "metadata": {},
   "outputs": [],
   "source": [
    "def findKthLargest(nums, k):\n",
    "    h = []\n",
    "    if k > len(nums)//2:\n",
    "        new_ = len(nums) - k + 1\n",
    "        [heapq.heappush(h, i) for i in nums]\n",
    "        print('-------')\n",
    "    else:\n",
    "        [heapq.heappush(h, -1*i) for i in nums]\n",
    "    print(h)\n",
    "    print(k)\n",
    "    j = k-1\n",
    "    while j > 0:\n",
    "        heapq.heappop(h)\n",
    "        j -= 1\n",
    "    result = heapq.heappop(h)\n",
    "    print(result)\n",
    "    if k > len(nums)//2:\n",
    "        return result\n",
    "    else:\n",
    "        return result * -1"
   ]
  },
  {
   "cell_type": "code",
   "execution_count": 74,
   "id": "japanese-velvet",
   "metadata": {},
   "outputs": [],
   "source": [
    "nums=[2,1]\n",
    "k = 2"
   ]
  },
  {
   "cell_type": "code",
   "execution_count": 75,
   "id": "surgical-assistant",
   "metadata": {},
   "outputs": [
    {
     "name": "stdout",
     "output_type": "stream",
     "text": [
      "-------\n",
      "[1, 2]\n",
      "1\n",
      "1\n"
     ]
    },
    {
     "data": {
      "text/plain": [
       "-1"
      ]
     },
     "execution_count": 75,
     "metadata": {},
     "output_type": "execute_result"
    }
   ],
   "source": [
    "findKthLargest(nums, k)"
   ]
  },
  {
   "cell_type": "code",
   "execution_count": null,
   "id": "stunning-collector",
   "metadata": {},
   "outputs": [],
   "source": []
  }
 ],
 "metadata": {
  "kernelspec": {
   "display_name": "Python 3",
   "language": "python",
   "name": "python3"
  },
  "language_info": {
   "codemirror_mode": {
    "name": "ipython",
    "version": 3
   },
   "file_extension": ".py",
   "mimetype": "text/x-python",
   "name": "python",
   "nbconvert_exporter": "python",
   "pygments_lexer": "ipython3",
   "version": "3.8.5"
  }
 },
 "nbformat": 4,
 "nbformat_minor": 5
}
