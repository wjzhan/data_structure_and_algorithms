{
 "cells": [
  {
   "cell_type": "markdown",
   "id": "inner-positive",
   "metadata": {},
   "source": [
    "Given the root of a binary tree, determine if it is a valid binary search tree (BST).\n",
    "\n",
    "A valid BST is defined as follows:\n",
    "\n",
    "The left subtree of a node contains only nodes with keys less than the node's key.\n",
    "The right subtree of a node contains only nodes with keys greater than the node's key.\n",
    "Both the left and right subtrees must also be binary search trees."
   ]
  },
  {
   "cell_type": "markdown",
   "id": "identified-means",
   "metadata": {},
   "source": [
    "## Method 1\n",
    "In-order-traverse and check the returning array in ascending order"
   ]
  },
  {
   "cell_type": "code",
   "execution_count": 3,
   "id": "happy-vanilla",
   "metadata": {},
   "outputs": [],
   "source": [
    "# Definition for a binary tree node.\n",
    "# class TreeNode:\n",
    "#     def __init__(self, val=0, left=None, right=None):\n",
    "#         self.val = val\n",
    "#         self.left = left\n",
    "#         self.right = right\n",
    "class Solution:\n",
    "        \n",
    "    def isValidBST(self, root):\n",
    "        # greater than max of left tree\n",
    "        # smaller than min of right tree\n",
    "        elems = self.printTree(root, [])\n",
    "        for i in range(len(elems)-1):\n",
    "            if elems[i] >= elems[i+1]:\n",
    "                return False\n",
    "        return True\n",
    "            \n",
    "        \n",
    "    def printTree(self, node, elems):\n",
    "        if node.left:\n",
    "            self.printTree(node.left, elems)\n",
    "        elems.append(node.val)\n",
    "        if node.right:\n",
    "            self.printTree(node.right, elems)\n",
    "        \n",
    "        return elems"
   ]
  },
  {
   "cell_type": "markdown",
   "id": "municipal-republican",
   "metadata": {},
   "source": [
    "## Method 2\n",
    "Check if subtree is BST"
   ]
  },
  {
   "cell_type": "code",
   "execution_count": 7,
   "id": "structural-passion",
   "metadata": {},
   "outputs": [
    {
     "ename": "AttributeError",
     "evalue": "module 'sys' has no attribute 'maxint'",
     "output_type": "error",
     "traceback": [
      "\u001b[0;31m---------------------------------------------------------------------------\u001b[0m",
      "\u001b[0;31mAttributeError\u001b[0m                            Traceback (most recent call last)",
      "\u001b[0;32m<ipython-input-7-13e258614c35>\u001b[0m in \u001b[0;36m<module>\u001b[0;34m\u001b[0m\n\u001b[1;32m      1\u001b[0m \u001b[0;32mimport\u001b[0m \u001b[0msys\u001b[0m\u001b[0;34m\u001b[0m\u001b[0;34m\u001b[0m\u001b[0m\n\u001b[0;32m----> 2\u001b[0;31m \u001b[0msys\u001b[0m\u001b[0;34m.\u001b[0m\u001b[0mmaxint\u001b[0m\u001b[0;34m\u001b[0m\u001b[0;34m\u001b[0m\u001b[0m\n\u001b[0m",
      "\u001b[0;31mAttributeError\u001b[0m: module 'sys' has no attribute 'maxint'"
     ]
    }
   ],
   "source": [
    "import sys\n",
    "sys.maxint"
   ]
  },
  {
   "cell_type": "code",
   "execution_count": 9,
   "id": "exceptional-strand",
   "metadata": {},
   "outputs": [
    {
     "data": {
      "text/plain": [
       "2147483647.0"
      ]
     },
     "execution_count": 9,
     "metadata": {},
     "output_type": "execute_result"
    }
   ],
   "source": [
    "import math\n",
    "math.pow(2, 31) - 1"
   ]
  },
  {
   "cell_type": "code",
   "execution_count": null,
   "id": "political-danish",
   "metadata": {},
   "outputs": [],
   "source": []
  }
 ],
 "metadata": {
  "kernelspec": {
   "display_name": "Python 3",
   "language": "python",
   "name": "python3"
  },
  "language_info": {
   "codemirror_mode": {
    "name": "ipython",
    "version": 3
   },
   "file_extension": ".py",
   "mimetype": "text/x-python",
   "name": "python",
   "nbconvert_exporter": "python",
   "pygments_lexer": "ipython3",
   "version": "3.8.5"
  }
 },
 "nbformat": 4,
 "nbformat_minor": 5
}
