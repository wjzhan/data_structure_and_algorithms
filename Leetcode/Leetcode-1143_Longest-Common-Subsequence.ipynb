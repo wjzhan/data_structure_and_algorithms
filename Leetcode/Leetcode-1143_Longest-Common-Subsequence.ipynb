{
 "cells": [
  {
   "cell_type": "markdown",
   "id": "special-hometown",
   "metadata": {},
   "source": [
    "Given two strings text1 and text2, return the length of their longest common subsequence. If there is no common subsequence, return 0.\n",
    "\n",
    "A subsequence of a string is a new string generated from the original string with some characters (can be none) deleted without changing the relative order of the remaining characters.\n",
    "\n",
    "For example, \"ace\" is a subsequence of \"abcde\".\n",
    "A common subsequence of two strings is a subsequence that is common to both strings.\n",
    "\n",
    " \n",
    "\n"
   ]
  },
  {
   "cell_type": "markdown",
   "id": "polar-ladder",
   "metadata": {},
   "source": [
    "### Iteration"
   ]
  },
  {
   "cell_type": "code",
   "execution_count": 6,
   "id": "native-chorus",
   "metadata": {},
   "outputs": [],
   "source": [
    "def longestCommonSubsequence(text1, text2):\n",
    "    n1, n2 = len(text1), len(text2)\n",
    "    # initialize dp array\n",
    "    dp = [[0 for i in range(n2+1)] for j in range(n1+1)]\n",
    "    # state idx of s\n",
    "    for i in range(1, n1 + 1):\n",
    "        for j in range(1, n2 + 1):\n",
    "            if text1[i-1] == text2[j-1]:\n",
    "                dp[i][j] = dp[i-1][j-1] + 1\n",
    "            else:\n",
    "                dp[i][j] = max( dp[i-1][j], dp[i][j-1])\n",
    "    return dp[-1][-1]\n",
    "                \n",
    "    \n",
    "    # choice add delete\n",
    "    "
   ]
  },
  {
   "cell_type": "code",
   "execution_count": 7,
   "id": "plastic-essence",
   "metadata": {},
   "outputs": [
    {
     "data": {
      "text/plain": [
       "[[0, 0, 0, 0],\n",
       " [0, 1, 1, 1],\n",
       " [0, 1, 1, 1],\n",
       " [0, 1, 2, 2],\n",
       " [0, 1, 2, 2],\n",
       " [0, 1, 2, 3]]"
      ]
     },
     "execution_count": 7,
     "metadata": {},
     "output_type": "execute_result"
    }
   ],
   "source": [
    "text1 = \"abcde\"\n",
    "text2 = \"ace\" \n",
    "longestCommonSubsequence(text1, text2)"
   ]
  },
  {
   "cell_type": "markdown",
   "id": "liked-spray",
   "metadata": {},
   "source": [
    "### Recurrsion"
   ]
  },
  {
   "cell_type": "code",
   "execution_count": 10,
   "id": "thrown-wednesday",
   "metadata": {},
   "outputs": [],
   "source": [
    "def longestCommonSubsequence(text1, text2):\n",
    "    n1, n2 = len(text1), len(text2)\n",
    "    memo = [[0 for i in range(n2)] for j in range(n1)]\n",
    "    \n",
    "    def dp(i, j):\n",
    "        #base and out of boundary\n",
    "        if i == -1 or j == -1:\n",
    "            return 0\n",
    "        if memo[i][j] != 0:\n",
    "            return memo[i][j]\n",
    "        # transision\n",
    "        if text1[i] == text2[j]:\n",
    "            memo[i][j] = dp(i-1, j-1) + 1\n",
    "        else:\n",
    "            memo[i][j] = max(dp(i-1, j), dp(i, j-1))\n",
    "        return memo[i][j]\n",
    "    \n",
    "    return dp(n1-1, n2-1)  "
   ]
  },
  {
   "cell_type": "code",
   "execution_count": 11,
   "id": "exotic-syndicate",
   "metadata": {},
   "outputs": [
    {
     "data": {
      "text/plain": [
       "3"
      ]
     },
     "execution_count": 11,
     "metadata": {},
     "output_type": "execute_result"
    }
   ],
   "source": [
    "text1 = \"abcde\"\n",
    "text2 = \"ace\" \n",
    "longestCommonSubsequence(text1, text2)"
   ]
  },
  {
   "cell_type": "code",
   "execution_count": null,
   "id": "empirical-motor",
   "metadata": {},
   "outputs": [],
   "source": []
  }
 ],
 "metadata": {
  "kernelspec": {
   "display_name": "Python 3",
   "language": "python",
   "name": "python3"
  },
  "language_info": {
   "codemirror_mode": {
    "name": "ipython",
    "version": 3
   },
   "file_extension": ".py",
   "mimetype": "text/x-python",
   "name": "python",
   "nbconvert_exporter": "python",
   "pygments_lexer": "ipython3",
   "version": "3.8.5"
  }
 },
 "nbformat": 4,
 "nbformat_minor": 5
}
