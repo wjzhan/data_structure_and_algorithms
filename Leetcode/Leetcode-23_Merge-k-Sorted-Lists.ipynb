{
 "cells": [
  {
   "cell_type": "markdown",
   "id": "pleased-organ",
   "metadata": {},
   "source": [
    "You are given an array of k linked-lists lists, each linked-list is sorted in ascending order.\n",
    "\n",
    "Merge all the linked-lists into one sorted linked-list and return it."
   ]
  },
  {
   "cell_type": "code",
   "execution_count": 64,
   "id": "right-diversity",
   "metadata": {},
   "outputs": [],
   "source": [
    "def mergeKLists(lists):\n",
    "    ## use merge sort\n",
    "    if len(lists) == 0:\n",
    "        return None\n",
    "    \n",
    "    if len(lists) == 1 and lists[0] == None:\n",
    "        return None\n",
    "\n",
    "    if len(lists) == 1:\n",
    "        return lists[0]\n",
    "\n",
    "    mid = len(lists)//2\n",
    "    left = mergeKLists(lists[:mid])\n",
    "    right = mergeKLists(lists[mid:])\n",
    "\n",
    "    return merge(left, right)\n",
    "\n",
    "\n",
    "def merge(left, right):\n",
    "    merged = None\n",
    "    if left is None:\n",
    "        return right\n",
    "    if right is None:\n",
    "        return left    \n",
    "    \n",
    "    if left.val <= right.val:\n",
    "        merged = left\n",
    "        left = left.next\n",
    "    else:\n",
    "        merged = right\n",
    "        right = right.next\n",
    "\n",
    "    l = left\n",
    "    r = right\n",
    "    node = merged\n",
    "    \n",
    "    while l is not None and r is not None:\n",
    "        if l.val <= r.val:\n",
    "            node.next = l\n",
    "            l = l.next\n",
    "        else:\n",
    "            node.next = r\n",
    "            r = r.next\n",
    "        node = node.next\n",
    "    \n",
    "    while l is not None:\n",
    "        node.next = l\n",
    "        l = l.next\n",
    "        node = node.next\n",
    "    while r is not None:\n",
    "        node.next = r\n",
    "        r = r.next\n",
    "        node = node.next\n",
    "    return merged\n"
   ]
  },
  {
   "cell_type": "markdown",
   "id": "frank-dancing",
   "metadata": {},
   "source": [
    "### Test Result\n",
    "\n",
    "input [[],[1]]\n",
    "expected [1]"
   ]
  },
  {
   "cell_type": "code",
   "execution_count": 65,
   "id": "native-roommate",
   "metadata": {},
   "outputs": [],
   "source": [
    "class Node:\n",
    "    def __init__(self, val=0, next=None):\n",
    "        self.val = val\n",
    "        self.next = next"
   ]
  },
  {
   "cell_type": "code",
   "execution_count": 90,
   "id": "level-communication",
   "metadata": {},
   "outputs": [],
   "source": [
    "a = Node(1)\n",
    "a.next = Node(2)\n",
    "a.next.next = Node(3)\n",
    "\n",
    "b = Node(4)\n",
    "b.next = Node(5)\n",
    "b.next.next = Node(6)\n",
    "b.next.next.next = Node(7)"
   ]
  },
  {
   "cell_type": "code",
   "execution_count": 84,
   "id": "compressed-tiger",
   "metadata": {},
   "outputs": [],
   "source": [
    "bla = mergeKLists([a,b])"
   ]
  },
  {
   "cell_type": "code",
   "execution_count": 85,
   "id": "pleasant-heaven",
   "metadata": {},
   "outputs": [
    {
     "data": {
      "text/plain": [
       "7"
      ]
     },
     "execution_count": 85,
     "metadata": {},
     "output_type": "execute_result"
    }
   ],
   "source": [
    "bla.next.next.next.next.next.next.val"
   ]
  },
  {
   "cell_type": "code",
   "execution_count": 91,
   "id": "induced-balloon",
   "metadata": {},
   "outputs": [],
   "source": [
    "blaa = merge(a,b)"
   ]
  },
  {
   "cell_type": "code",
   "execution_count": 93,
   "id": "initial-pitch",
   "metadata": {},
   "outputs": [
    {
     "data": {
      "text/plain": [
       "2"
      ]
     },
     "execution_count": 93,
     "metadata": {},
     "output_type": "execute_result"
    }
   ],
   "source": [
    "blaa.next.val"
   ]
  },
  {
   "cell_type": "code",
   "execution_count": null,
   "id": "designing-crisis",
   "metadata": {},
   "outputs": [],
   "source": []
  }
 ],
 "metadata": {
  "kernelspec": {
   "display_name": "Python 3",
   "language": "python",
   "name": "python3"
  },
  "language_info": {
   "codemirror_mode": {
    "name": "ipython",
    "version": 3
   },
   "file_extension": ".py",
   "mimetype": "text/x-python",
   "name": "python",
   "nbconvert_exporter": "python",
   "pygments_lexer": "ipython3",
   "version": "3.8.5"
  }
 },
 "nbformat": 4,
 "nbformat_minor": 5
}
