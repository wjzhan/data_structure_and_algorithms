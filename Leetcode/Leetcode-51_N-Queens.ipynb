{
 "cells": [
  {
   "cell_type": "markdown",
   "id": "european-optimization",
   "metadata": {},
   "source": [
    "The n-queens puzzle is the problem of placing n queens on an n x n chessboard such that no two queens attack each other.\n",
    "\n",
    "Given an integer n, return all distinct solutions to the n-queens puzzle. You may return the answer in any order.\n",
    "\n",
    "Each solution contains a distinct board configuration of the n-queens' placement, where 'Q' and '.' both indicate a queen and an empty space, respectively."
   ]
  },
  {
   "cell_type": "code",
   "execution_count": 128,
   "id": "outstanding-election",
   "metadata": {},
   "outputs": [],
   "source": [
    "def solveNQueens(n):\n",
    "    board = [['.' for i in range(n)] for j in range(n)]\n",
    "    paths = []\n",
    "        \n",
    "    def isNewValid(board, row, col, n): \n",
    "        #check prev row\n",
    "        for i in range(row-1, -1, -1):\n",
    "            # check col\n",
    "            if board[i][col] == 'Q':\n",
    "                return False\n",
    "            #check left triangle\n",
    "            left_shift = col-(row-i)\n",
    "            if left_shift >=0 and board[i][left_shift] == 'Q':\n",
    "                return False\n",
    "            # check right triangle\n",
    "\n",
    "            right_shift = col+(row-i)\n",
    "            if right_shift <= n-1 and board[i][right_shift] == 'Q':\n",
    "                return False\n",
    "\n",
    "        return True\n",
    "    \n",
    "    def df(board, row):\n",
    "        if row == n:\n",
    "            paths.append([''.join(row) for row in board])\n",
    "            print(paths)\n",
    "            return \n",
    "        \n",
    "        for col in range(0, n):\n",
    "            if isNewValid(board, row, col, n):\n",
    "                board[row][col] = 'Q'\n",
    "                df(board, row + 1)\n",
    "                board[row][col] = '.'\n",
    "        return\n",
    "                \n",
    "    output = df(board, 0)  \n",
    "    \n",
    "    return paths"
   ]
  },
  {
   "cell_type": "code",
   "execution_count": 129,
   "id": "consistent-morning",
   "metadata": {},
   "outputs": [
    {
     "name": "stdout",
     "output_type": "stream",
     "text": [
      "[['.Q..', '...Q', 'Q...', '..Q.']]\n",
      "[['.Q..', '...Q', 'Q...', '..Q.'], ['..Q.', 'Q...', '...Q', '.Q..']]\n"
     ]
    },
    {
     "data": {
      "text/plain": [
       "[['.Q..', '...Q', 'Q...', '..Q.'], ['..Q.', 'Q...', '...Q', '.Q..']]"
      ]
     },
     "execution_count": 129,
     "metadata": {},
     "output_type": "execute_result"
    }
   ],
   "source": [
    "solveNQueens(4)"
   ]
  },
  {
   "cell_type": "code",
   "execution_count": 118,
   "id": "nasty-toyota",
   "metadata": {},
   "outputs": [],
   "source": [
    "n = 4\n",
    "board = [['.' for i in range(n)] for j in range(n)]\n",
    "board[0][1] = 'Q'\n",
    "# board[1][3] = 'Q'\n",
    "# board[2][0] = 'Q'"
   ]
  },
  {
   "cell_type": "code",
   "execution_count": 120,
   "id": "surface-jerusalem",
   "metadata": {},
   "outputs": [
    {
     "data": {
      "text/plain": [
       "[['.', 'Q', '.', '.'],\n",
       " ['.', '.', '.', '.'],\n",
       " ['.', '.', '.', '.'],\n",
       " ['.', '.', '.', '.']]"
      ]
     },
     "execution_count": 120,
     "metadata": {},
     "output_type": "execute_result"
    }
   ],
   "source": [
    "board"
   ]
  },
  {
   "cell_type": "code",
   "execution_count": 121,
   "id": "virtual-glucose",
   "metadata": {},
   "outputs": [
    {
     "data": {
      "text/plain": [
       "['.Q..', '....', '....', '....']"
      ]
     },
     "execution_count": 121,
     "metadata": {},
     "output_type": "execute_result"
    }
   ],
   "source": [
    "[''.join(row) for row in board]"
   ]
  },
  {
   "cell_type": "code",
   "execution_count": 62,
   "id": "backed-canon",
   "metadata": {},
   "outputs": [
    {
     "data": {
      "text/plain": [
       "False"
      ]
     },
     "execution_count": 62,
     "metadata": {},
     "output_type": "execute_result"
    }
   ],
   "source": [
    "isNewValid(board, 2, 3, 4)"
   ]
  },
  {
   "cell_type": "code",
   "execution_count": 5,
   "id": "christian-participation",
   "metadata": {},
   "outputs": [
    {
     "data": {
      "text/plain": [
       "[2, 1, 0]"
      ]
     },
     "execution_count": 5,
     "metadata": {},
     "output_type": "execute_result"
    }
   ],
   "source": [
    "list(range(2, -1, -1))"
   ]
  },
  {
   "cell_type": "code",
   "execution_count": 101,
   "id": "negative-wallet",
   "metadata": {},
   "outputs": [
    {
     "ename": "SyntaxError",
     "evalue": "invalid syntax (<ipython-input-101-e6d8b69d949f>, line 1)",
     "output_type": "error",
     "traceback": [
      "\u001b[0;36m  File \u001b[0;32m\"<ipython-input-101-e6d8b69d949f>\"\u001b[0;36m, line \u001b[0;32m1\u001b[0m\n\u001b[0;31m    joint(',').(['1', '2'])\u001b[0m\n\u001b[0m               ^\u001b[0m\n\u001b[0;31mSyntaxError\u001b[0m\u001b[0;31m:\u001b[0m invalid syntax\n"
     ]
    }
   ],
   "source": [
    "joint(',').(['1', '2'])"
   ]
  },
  {
   "cell_type": "code",
   "execution_count": null,
   "id": "psychological-transformation",
   "metadata": {},
   "outputs": [],
   "source": []
  }
 ],
 "metadata": {
  "kernelspec": {
   "display_name": "Python 3",
   "language": "python",
   "name": "python3"
  },
  "language_info": {
   "codemirror_mode": {
    "name": "ipython",
    "version": 3
   },
   "file_extension": ".py",
   "mimetype": "text/x-python",
   "name": "python",
   "nbconvert_exporter": "python",
   "pygments_lexer": "ipython3",
   "version": "3.8.5"
  }
 },
 "nbformat": 4,
 "nbformat_minor": 5
}
