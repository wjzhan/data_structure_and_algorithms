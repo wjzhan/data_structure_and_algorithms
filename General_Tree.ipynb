{
 "cells": [
  {
   "cell_type": "markdown",
   "id": "listed-advance",
   "metadata": {},
   "source": [
    "### Question\n",
    "\n",
    "\n",
    "Extent tree class built in our main tutorial so that it takes name and designation in data part of TreeNode class. Now extend print_tree function such that it can print either name tree, designation tree or name and designation tree. As shown below,\n",
    "\n",
    "Here is how your main function should will look like,\n",
    "\n",
    "<pre><code>\n",
    "if __name__ == '__main__':\n",
    "    root_node = build_management_tree()\n",
    "    root_node.print_tree(\"name\") # prints only name hierarchy\n",
    "    root_node.print_tree(\"designation\") # prints only designation hierarchy\n",
    "    root_node.print_tree(\"both\") # prints both (name and designation) hierarchy\n",
    "</code></pre>"
   ]
  },
  {
   "cell_type": "code",
   "execution_count": 2,
   "id": "manual-simulation",
   "metadata": {},
   "outputs": [],
   "source": [
    "class TreeNode:\n",
    "    def __init__(self, name, designation):\n",
    "        self.name = name\n",
    "        self.designation = designation\n",
    "        self.children = []\n",
    "        self.parent = None\n",
    "\n",
    "    def get_level(self):\n",
    "        level = 0\n",
    "        p = self.parent\n",
    "        while p:\n",
    "            level += 1\n",
    "            p = p.parent\n",
    "\n",
    "        return level\n",
    "\n",
    "    def print_tree(self, style):\n",
    "        spaces = ' ' * self.get_level() * 3\n",
    "        prefix = spaces + \"|__\" if self.parent else \"\"\n",
    "        if style == \"name\":\n",
    "            print(prefix + self.name)\n",
    "        if style == \"designation\":\n",
    "            print(prefix + self.designation)\n",
    "        if style == \"both\":\n",
    "            print(prefix + self.name + \" (\" + self.designation + \")\")\n",
    "        if self.children:\n",
    "            for child in self.children:\n",
    "                child.print_tree(style)\n",
    "\n",
    "    def add_child(self, child):\n",
    "        child.parent = self\n",
    "        self.children.append(child)"
   ]
  },
  {
   "cell_type": "code",
   "execution_count": 3,
   "id": "multiple-advertising",
   "metadata": {},
   "outputs": [],
   "source": [
    "def build_management_tree():\n",
    "    # CTO Hierarchy\n",
    "    infra_head = TreeNode(\"Vishwa\",\"Infrastructure Head\")\n",
    "    infra_head.add_child(TreeNode(\"Dhaval\",\"Cloud Manager\"))\n",
    "    infra_head.add_child(TreeNode(\"Abhijit\", \"App Manager\"))\n",
    "\n",
    "    cto = TreeNode(\"Chinmay\", \"CTO\")\n",
    "    cto.add_child(infra_head)\n",
    "    cto.add_child(TreeNode(\"Aamir\", \"Application Head\"))\n",
    "\n",
    "    # HR hierarchy\n",
    "    hr_head = TreeNode(\"Gels\",\"HR Head\")\n",
    "\n",
    "    hr_head.add_child(TreeNode(\"Peter\",\"Recruitment Manager\"))\n",
    "    hr_head.add_child(TreeNode(\"Waqas\", \"Policy Manager\"))\n",
    "\n",
    "    ceo = TreeNode(\"Nilupul\", \"CEO\")\n",
    "    ceo.add_child(cto)\n",
    "    ceo.add_child(hr_head)\n",
    "\n",
    "    return ceo"
   ]
  },
  {
   "cell_type": "code",
   "execution_count": 4,
   "id": "described-vacation",
   "metadata": {},
   "outputs": [],
   "source": [
    "root_node = build_management_tree()"
   ]
  },
  {
   "cell_type": "code",
   "execution_count": 5,
   "id": "capital-blues",
   "metadata": {},
   "outputs": [
    {
     "name": "stdout",
     "output_type": "stream",
     "text": [
      "Nilupul\n",
      "   |__Chinmay\n",
      "      |__Vishwa\n",
      "         |__Dhaval\n",
      "         |__Abhijit\n",
      "      |__Aamir\n",
      "   |__Gels\n",
      "      |__Peter\n",
      "      |__Waqas\n"
     ]
    }
   ],
   "source": [
    "root_node.print_tree(\"name\")"
   ]
  },
  {
   "cell_type": "code",
   "execution_count": 6,
   "id": "verbal-thermal",
   "metadata": {},
   "outputs": [
    {
     "name": "stdout",
     "output_type": "stream",
     "text": [
      "CEO\n",
      "   |__CTO\n",
      "      |__Infrastructure Head\n",
      "         |__Cloud Manager\n",
      "         |__App Manager\n",
      "      |__Application Head\n",
      "   |__HR Head\n",
      "      |__Recruitment Manager\n",
      "      |__Policy Manager\n"
     ]
    }
   ],
   "source": [
    "root_node.print_tree(\"designation\")"
   ]
  },
  {
   "cell_type": "code",
   "execution_count": 7,
   "id": "finite-witch",
   "metadata": {},
   "outputs": [
    {
     "name": "stdout",
     "output_type": "stream",
     "text": [
      "Nilupul (CEO)\n",
      "   |__Chinmay (CTO)\n",
      "      |__Vishwa (Infrastructure Head)\n",
      "         |__Dhaval (Cloud Manager)\n",
      "         |__Abhijit (App Manager)\n",
      "      |__Aamir (Application Head)\n",
      "   |__Gels (HR Head)\n",
      "      |__Peter (Recruitment Manager)\n",
      "      |__Waqas (Policy Manager)\n"
     ]
    }
   ],
   "source": [
    "root_node.print_tree(\"both\")"
   ]
  },
  {
   "cell_type": "markdown",
   "id": "outside-marketplace",
   "metadata": {},
   "source": [
    "### Question\n",
    "Now modify print_tree method to take tree level as input"
   ]
  },
  {
   "cell_type": "code",
   "execution_count": 15,
   "id": "handy-packaging",
   "metadata": {},
   "outputs": [],
   "source": [
    "class TreeNode:\n",
    "    def __init__(self, data):\n",
    "        self.data = data\n",
    "        self.children = []\n",
    "        self.parent = None\n",
    "\n",
    "    def get_level(self):\n",
    "        level = 0\n",
    "        p = self.parent\n",
    "        while p:\n",
    "            level += 1\n",
    "            p = p.parent\n",
    "\n",
    "        return level\n",
    "\n",
    "    def print_tree(self, level):\n",
    "        spaces = ' ' * self.get_level() * 3\n",
    "        prefix = spaces + \"|__\" if self.parent else \"\"\n",
    "        print(prefix + self.data)\n",
    "        if self.children and level > 0:\n",
    "            level -= 1\n",
    "            for child in self.children:\n",
    "                child.print_tree(level)\n",
    "            \n",
    "\n",
    "    def add_child(self, child):\n",
    "        child.parent = self\n",
    "        self.children.append(child)"
   ]
  },
  {
   "cell_type": "code",
   "execution_count": 16,
   "id": "supposed-inflation",
   "metadata": {},
   "outputs": [],
   "source": [
    "def build_location_tree():\n",
    "    root = TreeNode(\"Global\")\n",
    "\n",
    "    india = TreeNode(\"India\")\n",
    "\n",
    "    gujarat = TreeNode(\"Gujarat\")\n",
    "    gujarat.add_child(TreeNode(\"Ahmedabad\"))\n",
    "    gujarat.add_child(TreeNode(\"Baroda\"))\n",
    "\n",
    "    karnataka = TreeNode(\"Karnataka\")\n",
    "    karnataka.add_child(TreeNode(\"Bangluru\"))\n",
    "    karnataka.add_child(TreeNode(\"Mysore\"))\n",
    "\n",
    "    india.add_child(gujarat)\n",
    "    india.add_child(karnataka)\n",
    "\n",
    "    usa = TreeNode(\"USA\")\n",
    "\n",
    "    nj = TreeNode(\"New Jersey\")\n",
    "    nj.add_child(TreeNode(\"Princeton\"))\n",
    "    nj.add_child(TreeNode(\"Trenton\"))\n",
    "\n",
    "    california = TreeNode(\"California\")\n",
    "    california.add_child(TreeNode(\"San Francisco\"))\n",
    "    california.add_child(TreeNode(\"Mountain View\"))\n",
    "    california.add_child(TreeNode(\"Palo Alto\"))\n",
    "\n",
    "    usa.add_child(nj)\n",
    "    usa.add_child(california)\n",
    "\n",
    "    root.add_child(india)\n",
    "    root.add_child(usa)\n",
    "\n",
    "    return root"
   ]
  },
  {
   "cell_type": "code",
   "execution_count": 17,
   "id": "unexpected-attachment",
   "metadata": {},
   "outputs": [],
   "source": [
    "root_node = build_location_tree()"
   ]
  },
  {
   "cell_type": "code",
   "execution_count": 18,
   "id": "joint-bleeding",
   "metadata": {},
   "outputs": [
    {
     "name": "stdout",
     "output_type": "stream",
     "text": [
      "Global\n",
      "   |__India\n",
      "   |__USA\n"
     ]
    }
   ],
   "source": [
    "root_node.print_tree(1)"
   ]
  },
  {
   "cell_type": "code",
   "execution_count": 19,
   "id": "dirty-oxide",
   "metadata": {},
   "outputs": [
    {
     "name": "stdout",
     "output_type": "stream",
     "text": [
      "Global\n",
      "   |__India\n",
      "      |__Gujarat\n",
      "      |__Karnataka\n",
      "   |__USA\n",
      "      |__New Jersey\n",
      "      |__California\n"
     ]
    }
   ],
   "source": [
    "root_node.print_tree(2)"
   ]
  },
  {
   "cell_type": "code",
   "execution_count": 20,
   "id": "dietary-fraction",
   "metadata": {},
   "outputs": [
    {
     "name": "stdout",
     "output_type": "stream",
     "text": [
      "Global\n",
      "   |__India\n",
      "      |__Gujarat\n",
      "         |__Ahmedabad\n",
      "         |__Baroda\n",
      "      |__Karnataka\n",
      "         |__Bangluru\n",
      "         |__Mysore\n",
      "   |__USA\n",
      "      |__New Jersey\n",
      "         |__Princeton\n",
      "         |__Trenton\n",
      "      |__California\n",
      "         |__San Francisco\n",
      "         |__Mountain View\n",
      "         |__Palo Alto\n"
     ]
    }
   ],
   "source": [
    "root_node.print_tree(3)"
   ]
  },
  {
   "cell_type": "code",
   "execution_count": null,
   "id": "atmospheric-ethics",
   "metadata": {},
   "outputs": [],
   "source": []
  }
 ],
 "metadata": {
  "kernelspec": {
   "display_name": "Python 3",
   "language": "python",
   "name": "python3"
  },
  "language_info": {
   "codemirror_mode": {
    "name": "ipython",
    "version": 3
   },
   "file_extension": ".py",
   "mimetype": "text/x-python",
   "name": "python",
   "nbconvert_exporter": "python",
   "pygments_lexer": "ipython3",
   "version": "3.8.5"
  }
 },
 "nbformat": 4,
 "nbformat_minor": 5
}
