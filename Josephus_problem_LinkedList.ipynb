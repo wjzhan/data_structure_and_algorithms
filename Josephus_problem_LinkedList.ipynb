{
 "cells": [
  {
   "cell_type": "markdown",
   "id": "lonely-studio",
   "metadata": {},
   "source": [
    "In computer science and mathematics, the Josephus problem (or Josephus permutation) is a theoretical problem related to a certain counting-out game.\n",
    "\n",
    "\n",
    "A drawing for the Josephus problem sequence for 500 people and skipping value of 6. The horizontal axis is the number of the person. The vertical axis (top to bottom) is time (the number of cycle). A live person is drawn as green, a dead one is drawn as black.[1]\n",
    "People are standing in a circle waiting to be executed. Counting begins at a specified point in the circle and proceeds around the circle in a specified direction. After a specified number of people are skipped, the next person is executed. The procedure is repeated with the remaining people, starting with the next person, going in the same direction and skipping the same number of people, until only one person remains, and is freed.\n",
    "\n",
    "The problem — given the number of people, starting point, direction, and number to be skipped — is to choose the position in the initial circle to avoid execution"
   ]
  },
  {
   "cell_type": "markdown",
   "id": "subsequent-bacteria",
   "metadata": {},
   "source": [
    "### Recurrsive Linked List  "
   ]
  },
  {
   "cell_type": "code",
   "execution_count": 36,
   "id": "mediterranean-banks",
   "metadata": {},
   "outputs": [],
   "source": [
    "class Node:\n",
    "    def __init__(self, data, next=None):\n",
    "        self.val = data\n",
    "        self.next = next\n",
    "\n",
    "class CLinkedList:\n",
    "    def __init__(self):\n",
    "        self.head = None\n",
    "        \n",
    "    def build_list(self, N=1):\n",
    "        if not N or N == 0:\n",
    "            return\n",
    "        \n",
    "        self.head = Node(1)\n",
    "        prev = self.head\n",
    "        j = 2\n",
    "        while j<N+1:\n",
    "            curr = Node(j)\n",
    "            prev.next = curr\n",
    "            prev = curr \n",
    "            j+=1\n",
    "        prev.next = self.head\n",
    "        "
   ]
  },
  {
   "cell_type": "code",
   "execution_count": 37,
   "id": "palestinian-vacation",
   "metadata": {},
   "outputs": [],
   "source": [
    "def josephus_problem(N, kth): \n",
    "    cll = CLinkedList()\n",
    "    cll.build_list(N)\n",
    "    \n",
    "    prev = None\n",
    "    curr = cll.head\n",
    "    # keep updating the head until there is only one node\n",
    "    while curr.next is not curr:\n",
    "        for i in range(kth-1):\n",
    "            prev = curr\n",
    "            curr = curr.next\n",
    "        print(curr.val)\n",
    "        prev.next = curr.next\n",
    "        curr.next = None\n",
    "        curr = prev.next\n",
    "        \n",
    "    return curr.val"
   ]
  },
  {
   "cell_type": "code",
   "execution_count": 38,
   "id": "velvet-yukon",
   "metadata": {},
   "outputs": [
    {
     "name": "stdout",
     "output_type": "stream",
     "text": [
      "2\n",
      "4\n",
      "1\n",
      "5\n"
     ]
    },
    {
     "data": {
      "text/plain": [
       "3"
      ]
     },
     "execution_count": 38,
     "metadata": {},
     "output_type": "execute_result"
    }
   ],
   "source": [
    "josephus_problem(5, 2)"
   ]
  },
  {
   "cell_type": "code",
   "execution_count": null,
   "id": "applied-clause",
   "metadata": {},
   "outputs": [],
   "source": []
  }
 ],
 "metadata": {
  "kernelspec": {
   "display_name": "Python 3",
   "language": "python",
   "name": "python3"
  },
  "language_info": {
   "codemirror_mode": {
    "name": "ipython",
    "version": 3
   },
   "file_extension": ".py",
   "mimetype": "text/x-python",
   "name": "python",
   "nbconvert_exporter": "python",
   "pygments_lexer": "ipython3",
   "version": "3.8.5"
  }
 },
 "nbformat": 4,
 "nbformat_minor": 5
}
