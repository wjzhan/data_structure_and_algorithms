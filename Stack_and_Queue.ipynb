{
 "cells": [
  {
   "cell_type": "markdown",
   "id": "israeli-survival",
   "metadata": {},
   "source": [
    "### Question\n",
    "Write a function in python that checks if paranthesis in the string are balanced or not. Possible parantheses are \"{}',\"()\" or \"[]\"\n",
    "\n",
    "With Stack data structure"
   ]
  },
  {
   "cell_type": "code",
   "execution_count": 4,
   "id": "assumed-hepatitis",
   "metadata": {},
   "outputs": [],
   "source": [
    "from collections import deque"
   ]
  },
  {
   "cell_type": "code",
   "execution_count": 23,
   "id": "exempt-directory",
   "metadata": {},
   "outputs": [],
   "source": [
    "class Stack:\n",
    "    def __init__(self):\n",
    "        self.container = deque()\n",
    "    \n",
    "    def push(self,val):\n",
    "        self.container.append(val)\n",
    "        \n",
    "    def pop(self):\n",
    "        return self.container.pop()\n",
    "    \n",
    "    def peek(self):\n",
    "        return  self.container[-1]\n",
    "    \n",
    "    def is_empty(self):\n",
    "        return len(self.container)==0\n",
    "    \n",
    "    def size(self):\n",
    "        return len(self.container)"
   ]
  },
  {
   "cell_type": "code",
   "execution_count": 26,
   "id": "isolated-consistency",
   "metadata": {},
   "outputs": [],
   "source": [
    "def is_match(ch1, ch2):\n",
    "    match_dict = {\n",
    "        ')': '(',\n",
    "        ']': '[',\n",
    "        '}': '{'\n",
    "    }\n",
    "    return match_dict[ch1] == ch2\n",
    "\n",
    "def is_balanced(s):\n",
    "    stack = Stack()\n",
    "    \n",
    "    for ch in s:\n",
    "        if ch == '{' or ch == '[' or ch == '(':\n",
    "            stack.push(ch)\n",
    "        if ch == '}' or ch == ']' or ch == ')':\n",
    "            if stack.size() == 0:\n",
    "                return False\n",
    "            if not is_match(ch, stack.pop()):\n",
    "                return False\n",
    "    return True    "
   ]
  },
  {
   "cell_type": "code",
   "execution_count": 27,
   "id": "alike-render",
   "metadata": {},
   "outputs": [
    {
     "data": {
      "text/plain": [
       "True"
      ]
     },
     "execution_count": 27,
     "metadata": {},
     "output_type": "execute_result"
    }
   ],
   "source": [
    "is_balanced(\"({a+b})\")"
   ]
  },
  {
   "cell_type": "code",
   "execution_count": 28,
   "id": "assigned-paintball",
   "metadata": {},
   "outputs": [
    {
     "data": {
      "text/plain": [
       "False"
      ]
     },
     "execution_count": 28,
     "metadata": {},
     "output_type": "execute_result"
    }
   ],
   "source": [
    "is_balanced(\"))((a+b}{\")"
   ]
  },
  {
   "cell_type": "code",
   "execution_count": 29,
   "id": "hollow-terrorist",
   "metadata": {},
   "outputs": [
    {
     "data": {
      "text/plain": [
       "True"
      ]
     },
     "execution_count": 29,
     "metadata": {},
     "output_type": "execute_result"
    }
   ],
   "source": [
    "is_balanced(\"[a+b]*(x+2y)*{gg+kk}\")"
   ]
  },
  {
   "cell_type": "markdown",
   "id": "smart-audio",
   "metadata": {},
   "source": [
    "### Question\n",
    "Design a food ordering system where your python program will run two threads,\n",
    "\n",
    "Place Order: This thread will be placing an order and inserting that into a queue. This thread places new order every 0.5 second. (hint: use time.sleep(0.5) function)\n",
    "\n",
    "Serve Order: This thread will server the order. All you need to do is pop the order out of the queue and print it. This thread serves an order every 2 seconds. Also start this thread 1 second after place order thread is started.\n",
    "\n",
    "orders = ['pizza','samosa','pasta','biryani','burger']"
   ]
  },
  {
   "cell_type": "code",
   "execution_count": 5,
   "id": "still-romania",
   "metadata": {},
   "outputs": [],
   "source": [
    "from collections import deque\n",
    "import threading\n",
    "import time"
   ]
  },
  {
   "cell_type": "code",
   "execution_count": 6,
   "id": "seventh-tension",
   "metadata": {},
   "outputs": [],
   "source": [
    "class Queue:\n",
    "    def __init__(self):\n",
    "        self.buffer = deque()\n",
    "    \n",
    "    def enqueue(self,val):\n",
    "        self.buffer.appendleft(val)\n",
    "        \n",
    "    def dequeue(self):\n",
    "        if len(self.buffer) == 0:\n",
    "            print(\"Queue is empty\")\n",
    "            return\n",
    "        return self.buffer.pop()\n",
    "    \n",
    "    def front(self):\n",
    "        return  self.buffer[-1]\n",
    "    \n",
    "    def is_empty(self):\n",
    "        return len(self.buffer)==0\n",
    "    \n",
    "    def size(self):\n",
    "        return len(self.buffer)"
   ]
  },
  {
   "cell_type": "code",
   "execution_count": 13,
   "id": "adolescent-swaziland",
   "metadata": {},
   "outputs": [],
   "source": [
    "queue = Queue()\n",
    "\n",
    "def place_order(orders):\n",
    "    for order in orders:\n",
    "        queue.enqueue(order)\n",
    "        print(\"placing : {}\".format(order))\n",
    "        time.sleep(0.5)\n",
    "\n",
    "def serve_order():\n",
    "    while queue.size() > 0:\n",
    "        print(\"serving : {}\".format(queue.dequeue()))\n",
    "        time.sleep(2)   "
   ]
  },
  {
   "cell_type": "code",
   "execution_count": 12,
   "id": "future-clock",
   "metadata": {},
   "outputs": [
    {
     "name": "stdout",
     "output_type": "stream",
     "text": [
      "placing : pizza\n",
      "placing : samosa\n",
      "serving : pizza\n",
      "placing : pasta\n",
      "placing : biryani\n",
      "placing : burger\n",
      "serving : samosa\n",
      "serving : pasta\n",
      "serving : biryani\n",
      "serving : burger\n",
      "total time : 11.019661903381348\n"
     ]
    }
   ],
   "source": [
    "orders = ['pizza','samosa','pasta','biryani','burger']\n",
    "start_t = time.time()\n",
    "t1 = threading.Thread(target=place_order , args=(orders,))\n",
    "t2 = threading.Thread(target=serve_order)\n",
    "\n",
    "t1.start()\n",
    "time.sleep(1)\n",
    "t2.start()\n",
    "\n",
    "t1.join()\n",
    "t2.join()\n",
    "\n",
    "print(\"total time : {}\".format(time.time() - start_t))"
   ]
  },
  {
   "cell_type": "markdown",
   "id": "native-cycling",
   "metadata": {},
   "source": [
    "### Question\n",
    "\n",
    "Write a program to print binary numbers from 1 to 10 using Queue. Use Queue class implemented in main tutorial. Binary sequence should look like,\n",
    "\n",
    "    1\n",
    "    10\n",
    "    11\n",
    "    100\n",
    "    101\n",
    "    110\n",
    "    111\n",
    "    1000\n",
    "    1001\n",
    "    1010\n",
    "Hint: Notice a pattern above. After 1 second and third number is 1+0 and 1+1. 4th and 5th number are second number (i.e. 10) + 0 and second number (i.e. 10) + 1.\n",
    "\n",
    "You also need to add front() function in queue class that can return the front element in the queue."
   ]
  },
  {
   "cell_type": "code",
   "execution_count": 17,
   "id": "committed-chemistry",
   "metadata": {},
   "outputs": [],
   "source": [
    "class Queue:\n",
    "    def __init__(self):\n",
    "        self.buffer = deque()\n",
    "    \n",
    "    def enqueue(self,val):\n",
    "        self.buffer.appendleft(val)\n",
    "        \n",
    "    def dequeue(self):\n",
    "        if len(self.buffer) == 0:\n",
    "            print(\"Queue is empty\")\n",
    "            return\n",
    "        return self.buffer.pop()\n",
    "    \n",
    "    def front(self):\n",
    "        return  self.buffer[-1]\n",
    "    \n",
    "    def is_empty(self):\n",
    "        return len(self.buffer)==0\n",
    "    \n",
    "    def size(self):\n",
    "        return len(self.buffer)\n",
    "    \n",
    "\n",
    "def gen_binary(n):\n",
    "    q = Queue()\n",
    "    q.enqueue('1')\n",
    "    \n",
    "    for i in range(0,n):\n",
    "        head = q.front()\n",
    "        print(\" \", head)\n",
    "        q.enqueue(head + '0' )\n",
    "        q.enqueue(head + '1' )\n",
    "        \n",
    "        q.dequeue()\n",
    "    "
   ]
  },
  {
   "cell_type": "code",
   "execution_count": 19,
   "id": "statutory-chapter",
   "metadata": {},
   "outputs": [
    {
     "name": "stdout",
     "output_type": "stream",
     "text": [
      "  1\n",
      "  10\n",
      "  11\n",
      "  100\n",
      "  101\n",
      "  110\n",
      "  111\n",
      "  1000\n",
      "  1001\n",
      "  1010\n"
     ]
    }
   ],
   "source": [
    "gen_binary(10)"
   ]
  },
  {
   "cell_type": "code",
   "execution_count": null,
   "id": "alien-queue",
   "metadata": {},
   "outputs": [],
   "source": []
  }
 ],
 "metadata": {
  "kernelspec": {
   "display_name": "Python 3",
   "language": "python",
   "name": "python3"
  },
  "language_info": {
   "codemirror_mode": {
    "name": "ipython",
    "version": 3
   },
   "file_extension": ".py",
   "mimetype": "text/x-python",
   "name": "python",
   "nbconvert_exporter": "python",
   "pygments_lexer": "ipython3",
   "version": "3.8.5"
  }
 },
 "nbformat": 4,
 "nbformat_minor": 5
}
