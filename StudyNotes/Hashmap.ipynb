{
 "cells": [
  {
   "cell_type": "code",
   "execution_count": 1,
   "id": "juvenile-serial",
   "metadata": {},
   "outputs": [],
   "source": [
    "# https://leetcode.com/problems/valid-anagram/\n",
    "\n",
    "class Solution:\n",
    "    def isAnagram(self, s, t):\n",
    "        books = {}\n",
    "        bookt = {}\n",
    "        for e in s:\n",
    "            if e in books:\n",
    "                books[e] += 1\n",
    "            else:\n",
    "                books[e] = 1\n",
    "        for e in t:\n",
    "            if e in bookt:\n",
    "                bookt[e] += 1\n",
    "            else:\n",
    "                bookt[e] = 1\n",
    "        if books == bookt:\n",
    "            return True\n",
    "        else:\n",
    "            return False"
   ]
  },
  {
   "cell_type": "code",
   "execution_count": 5,
   "id": "saving-elizabeth",
   "metadata": {},
   "outputs": [],
   "source": [
    "# https://leetcode.com/problems/group-anagrams/\n",
    "class Solution:\n",
    "    def groupAnagrams(self, strs):\n",
    "        dicts = {}\n",
    "        output = []\n",
    "        for s in strs:\n",
    "            key = ''.join(sorted(s))\n",
    "            if key in dicts:\n",
    "                dicts[key].append(s)\n",
    "            else:\n",
    "                dicts[key] = [s]\n",
    "        for key in dicts:\n",
    "            output.append(dicts[key])\n",
    "        return output"
   ]
  },
  {
   "cell_type": "code",
   "execution_count": 24,
   "id": "yellow-throat",
   "metadata": {},
   "outputs": [],
   "source": [
    "# https://leetcode.com/problems/two-sum/\n",
    "class Solution:\n",
    "    def twoSum(self, nums, target):\n",
    "        dicts = {}\n",
    "        output = []\n",
    "        for i in range(len(nums)):\n",
    "            if nums[i] in dicts:\n",
    "                dicts[nums[i]].append(i)\n",
    "            else:\n",
    "                dicts[nums[i]] = [i]\n",
    "\n",
    "        for j in range(len(nums)):\n",
    "            deduct = target - nums[j]\n",
    "            if deduct not in dicts:\n",
    "                continue\n",
    "            else:\n",
    "                if deduct == nums[j]:\n",
    "                    if len(dicts[deduct]) < 2:\n",
    "                        continue\n",
    "                output = [j, dicts[deduct][-1]]\n",
    "                break\n",
    "        return output"
   ]
  },
  {
   "cell_type": "code",
   "execution_count": null,
   "id": "suburban-subdivision",
   "metadata": {},
   "outputs": [],
   "source": []
  }
 ],
 "metadata": {
  "kernelspec": {
   "display_name": "Python 3",
   "language": "python",
   "name": "python3"
  },
  "language_info": {
   "codemirror_mode": {
    "name": "ipython",
    "version": 3
   },
   "file_extension": ".py",
   "mimetype": "text/x-python",
   "name": "python",
   "nbconvert_exporter": "python",
   "pygments_lexer": "ipython3",
   "version": "3.8.5"
  }
 },
 "nbformat": 4,
 "nbformat_minor": 5
}
