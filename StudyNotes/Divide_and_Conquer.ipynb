{
 "cells": [
  {
   "cell_type": "markdown",
   "id": "emotional-harbor",
   "metadata": {},
   "source": [
    "Divide and Conquer is a special case of Recursion. The difference is, it adds one more step for processing and generating final result based on subresults.\n",
    "\n",
    "The typical framework is as below\n",
    "\n",
    "\n",
    "\n",
    "\n",
    "```python\n",
    "\n",
    "def devide_conquer(level, param1, param2,...):\n",
    "    # recursion terminator\n",
    "    if problem is None\n",
    "        process_result\n",
    "        return\n",
    "    \n",
    "    # prepare data\n",
    "    data = prepare_data(problem)\n",
    "    subproblems = split_problem(problem, data)\n",
    "    # conquer subproblems\n",
    "    subresult1 = self.divide_conquer(subproblems[0], p1...)\n",
    "    subresult2 = self.divide_conquer(subproblems[1], p1...)\n",
    "    subresult3 = self.divide_conquer(subproblems[2], p1...)\n",
    "    \n",
    "    \n",
    "    # process and generate the final result\n",
    "    result = process_presult(subresult1, subresult2, subresult3)\n",
    "    \n",
    "    # revert the current level states\n",
    "```"
   ]
  },
  {
   "cell_type": "code",
   "execution_count": 1,
   "id": "acquired-quantum",
   "metadata": {},
   "outputs": [],
   "source": [
    "# https://leetcode.com/problems/powx-n/submissions/\n",
    "class Solution:\n",
    "    def myPow(self, x: float, n: int):\n",
    "        if n < 0:\n",
    "            return 1/self.myPow(x, -n)\n",
    "        \n",
    "        if n == 0:\n",
    "            return 1\n",
    "        \n",
    "        p = self.myPow(x , int(n/2))\n",
    "              \n",
    "        if n % 2 == 0:\n",
    "            return p*p\n",
    "        else:\n",
    "            return p*p*x"
   ]
  },
  {
   "cell_type": "code",
   "execution_count": 3,
   "id": "square-welcome",
   "metadata": {},
   "outputs": [],
   "source": [
    "# https://leetcode.com/problems/subsets\n",
    "class Solution:\n",
    "    def subsets(self, nums):\n",
    "        memos = []\n",
    "        def helper(subset, candidates):\n",
    "            memos.append(subset)\n",
    "            if len(candidates) == 0:\n",
    "                return\n",
    "            \n",
    "            for i in range(len(candidates)):    \n",
    "                helper(subset + [candidates[i]], candidates[i+1:])     \n",
    "            return\n",
    "        \n",
    "        nums.sort()\n",
    "        helper([], nums)\n",
    "        return memos"
   ]
  },
  {
   "cell_type": "code",
   "execution_count": null,
   "id": "pediatric-superior",
   "metadata": {},
   "outputs": [],
   "source": [
    "# https://leetcode.com/problems/letter-combinations-of-a-phone-number/\n",
    "class Solution:\n",
    "    def letterCombinations(self, digits: str) -> List[str]:\n",
    "        if digits == '':\n",
    "            return []\n",
    "        \n",
    "        dial = {'2':'abc',\n",
    "                '3':'def',\n",
    "                '4':'ghi',\n",
    "                '5':'jkl',\n",
    "                '6':'mno',\n",
    "                '7':'pqrs',\n",
    "                '8':'tuv',\n",
    "                '9':'wxyz'}\n",
    "        \n",
    "        collects = []\n",
    "        def helper(digits, pos, comb):\n",
    "            # terminator\n",
    "            if pos >= len(digits):\n",
    "                collects.append(comb)\n",
    "                return\n",
    "            \n",
    "            # dive in\n",
    "            for elem in dial.get(digits[pos]):\n",
    "                helper(digits, (pos + 1), comb+elem)\n",
    "            \n",
    "            return\n",
    "        \n",
    "        helper(digits, 0, '')\n",
    "        return collects"
   ]
  },
  {
   "cell_type": "code",
   "execution_count": null,
   "id": "czech-contrast",
   "metadata": {},
   "outputs": [],
   "source": []
  }
 ],
 "metadata": {
  "kernelspec": {
   "display_name": "Python 3",
   "language": "python",
   "name": "python3"
  },
  "language_info": {
   "codemirror_mode": {
    "name": "ipython",
    "version": 3
   },
   "file_extension": ".py",
   "mimetype": "text/x-python",
   "name": "python",
   "nbconvert_exporter": "python",
   "pygments_lexer": "ipython3",
   "version": "3.8.5"
  }
 },
 "nbformat": 4,
 "nbformat_minor": 5
}
