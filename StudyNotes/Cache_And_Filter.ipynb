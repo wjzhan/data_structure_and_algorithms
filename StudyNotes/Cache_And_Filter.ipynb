{
 "cells": [
  {
   "cell_type": "markdown",
   "id": "straight-juice",
   "metadata": {},
   "source": [
    "### LRU Cache"
   ]
  },
  {
   "cell_type": "code",
   "execution_count": null,
   "id": "absent-academy",
   "metadata": {},
   "outputs": [],
   "source": [
    "# https://leetcode.com/problems/lru-cache/\n",
    "class DoubleLinkedNode:\n",
    "    def __init__(self, key, value):\n",
    "        self.key = key\n",
    "        self.val = value\n",
    "        self.prevp = None\n",
    "        self.nextp = None\n",
    "\n",
    "class LRUCache:\n",
    "    def _add_node(self, node):\n",
    "        node.prevp = self.head\n",
    "        node.nextp = self.head.nextp\n",
    "        self.head.nextp.prevp = node\n",
    "        self.head.nextp = node\n",
    "        \n",
    "    def _remove_node(self, node):\n",
    "        prevn = node.prevp\n",
    "        nextn = node.nextp\n",
    "        prevn.nextp = nextn\n",
    "        nextn.prevp = prevn\n",
    "        \n",
    "    def _move_to_head(self, node):\n",
    "        self._remove_node(node)\n",
    "        self._add_node(node)\n",
    "        \n",
    "    def _pop_tail(self):\n",
    "        node = self.tail.prevp\n",
    "        self._remove_node(node)\n",
    "        return node\n",
    "        \n",
    "    def __init__(self, capacity: int):\n",
    "        self.capacity = capacity\n",
    "        self.size = 0\n",
    "        self.keyset = {}\n",
    "        self.head, self.tail = DoubleLinkedNode(0,0), DoubleLinkedNode(0,0)\n",
    "        self.head.nextp = self.tail\n",
    "        self.tail.prevp = self.head\n",
    "        \n",
    "        \n",
    "    def get(self, key: int) -> int:\n",
    "        node = self.keyset.get(key, None)\n",
    "        if node:\n",
    "            self._move_to_head(node)\n",
    "            return node.val\n",
    "        else:\n",
    "            return -1\n",
    "        \n",
    "\n",
    "    def put(self, key: int, value: int) -> None:\n",
    "        node = self.keyset.get(key)\n",
    "        if node:\n",
    "            node.val = value\n",
    "            self._move_to_head(node)\n",
    "        else:\n",
    "            newnode = DoubleLinkedNode(key, value)\n",
    "            self.keyset[key] = newnode\n",
    "            if self.size < self.capacity:\n",
    "                self._add_node(newnode)\n",
    "            else:\n",
    "                tail = self._pop_tail()\n",
    "                del self.keyset[tail.key]\n",
    "                self._add_node(newnode)\n",
    "                self.size -= 1\n",
    "            self.size += 1\n",
    "        \n",
    "\n",
    "\n",
    "# Your LRUCache object will be instantiated and called as such:\n",
    "# obj = LRUCache(capacity)\n",
    "# param_1 = obj.get(key)\n",
    "# obj.put(key,value)"
   ]
  },
  {
   "cell_type": "code",
   "execution_count": 5,
   "id": "musical-funds",
   "metadata": {},
   "outputs": [],
   "source": [
    "class LRUCache:\n",
    "        \n",
    "    def __init__(self, capacity: int):\n",
    "        self.dic = collections.OrderedDict()\n",
    "        self.remain = capacity\n",
    " \n",
    "    def get(self, key: int) -> int:\n",
    "        if key not in self.dic:\n",
    "            return -1\n",
    "        v = self.dic.pop(key)\n",
    "        self.dic[key] = v  \n",
    "        return v\n",
    "\n",
    "    def put(self, key: int, value: int) -> None:\n",
    "        if key in self.dic:\n",
    "            self.dic.pop(key)\n",
    "        else:\n",
    "            if self.remain > 0:\n",
    "                self.remain -= 1\n",
    "            else:   # self.dic is full\n",
    "                self.dic.popitem(last=False)\n",
    "        self.dic[key] = value\n",
    "        \n",
    "\n",
    "\n",
    "# Your LRUCache object will be instantiated and called as such:\n",
    "# obj = LRUCache(capacity)\n",
    "# param_1 = obj.get(key)\n",
    "# obj.put(key,value)"
   ]
  },
  {
   "cell_type": "markdown",
   "id": "naval-deployment",
   "metadata": {},
   "source": [
    "### Bloom Filter"
   ]
  },
  {
   "cell_type": "code",
   "execution_count": 18,
   "id": "responsible-antibody",
   "metadata": {},
   "outputs": [
    {
     "name": "stdout",
     "output_type": "stream",
     "text": [
      "Probably\n",
      "Nope\n"
     ]
    }
   ],
   "source": [
    "from bitarray import bitarray\n",
    "import mmh3\n",
    "\n",
    "class BloomFilter:\n",
    "    def __init__(self, size, hash_num):\n",
    "        self.size = size\n",
    "        self.hash_num = hash_num\n",
    "        self.bit_array = bitarray(size)\n",
    "        self.bit_array.setall(0)\n",
    "    def add(self, s):\n",
    "        for seed in range(self.hash_num):\n",
    "            result = mmh3.hash(s, seed) % self.size\n",
    "            self.bit_array[result] = 1\n",
    "    def lookup(self, s):\n",
    "        for seed in range(self.hash_num):\n",
    "            result = mmh3.hash(s, seed) % self.size\n",
    "            if self.bit_array[result] == 0:\n",
    "                return \"Nope\"\n",
    "        return \"Probably\"\n",
    "bf = BloomFilter(500000, 7)\n",
    "bf.add(\"dantezhao\")\n",
    "print (bf.lookup(\"dantezhao\"))\n",
    "print (bf.lookup(\"yyj\"))"
   ]
  },
  {
   "cell_type": "code",
   "execution_count": null,
   "id": "maritime-belarus",
   "metadata": {},
   "outputs": [],
   "source": []
  }
 ],
 "metadata": {
  "kernelspec": {
   "display_name": "Python 3",
   "language": "python",
   "name": "python3"
  },
  "language_info": {
   "codemirror_mode": {
    "name": "ipython",
    "version": 3
   },
   "file_extension": ".py",
   "mimetype": "text/x-python",
   "name": "python",
   "nbconvert_exporter": "python",
   "pygments_lexer": "ipython3",
   "version": "3.8.5"
  }
 },
 "nbformat": 4,
 "nbformat_minor": 5
}
