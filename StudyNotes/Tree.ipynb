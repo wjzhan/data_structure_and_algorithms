{
 "cells": [
  {
   "cell_type": "markdown",
   "id": "super-maker",
   "metadata": {},
   "source": [
    "\n",
    "```python\n",
    "class TreeNode:\n",
    "    def __init__(self, val):\n",
    "        self.val = val\n",
    "        self.left, self.right = None, None\n",
    "```\n",
    "### Tree Traverse\n",
    "\n",
    "```python\n",
    "def preorder(self, root):\n",
    "  if root:\n",
    "    self.traverse_path.append(root.val)\n",
    "    self.preorder(root.left)\n",
    "    self.preorder(root.right)\n",
    "def inorder(self, root):\n",
    "  if root:\n",
    "    self.inorder(root.left)\n",
    "    self.traverse_path.append(root.val)\n",
    "    self.inorder(root.right)\n",
    "def postorder(self, root):\n",
    "  if root:\n",
    "    self.postorder(root.left)\n",
    "    self.postorder(root.right)\n",
    "    self.traverse_path.append(root.val)\n",
    "```"
   ]
  },
  {
   "cell_type": "code",
   "execution_count": 1,
   "id": "designed-chuck",
   "metadata": {},
   "outputs": [],
   "source": [
    "# https://leetcode.com/problems/binary-tree-inorder-traversal/\n",
    "class Solution:\n",
    "    \n",
    "    def inorderTraversal(self, root):\n",
    "        output = []\n",
    "        self.dfs(root, output)\n",
    "        return output\n",
    "        \n",
    "    def dfs(self, node, output):\n",
    "        if not node:\n",
    "            return\n",
    "        self.dfs(node.left, output)\n",
    "        output.append(node.val)\n",
    "        self.dfs(node.right, output)\n",
    "        return"
   ]
  },
  {
   "cell_type": "code",
   "execution_count": 2,
   "id": "acknowledged-ivory",
   "metadata": {},
   "outputs": [],
   "source": [
    "# https://leetcode.com/problems/binary-tree-preorder-traversal/\n",
    "\n",
    "class Solution:\n",
    "    def preorderTraversal(self, root):\n",
    "        output = []\n",
    "        self.dfs(root, output)\n",
    "        return output\n",
    "        \n",
    "    def dfs(self, node, output):\n",
    "        if not node:\n",
    "            return\n",
    "        output.append(node.val)\n",
    "        self.dfs(node.left, output)\n",
    "        self.dfs(node.right, output)\n",
    "        return"
   ]
  },
  {
   "cell_type": "code",
   "execution_count": 3,
   "id": "equivalent-today",
   "metadata": {},
   "outputs": [],
   "source": [
    "# https://leetcode.com/problems/n-ary-tree-postorder-traversal/\n",
    "\n",
    "class Solution:\n",
    "    def postorder(self, root):\n",
    "        output = []\n",
    "        self.dfs(root, output)\n",
    "        return output\n",
    "        \n",
    "    def dfs(self, node, output):\n",
    "        if not node:\n",
    "            return\n",
    "        childrens = node.children\n",
    "        for child in childrens:\n",
    "            self.dfs(child, output)\n",
    "        output.append(node.val)\n",
    "        return"
   ]
  },
  {
   "cell_type": "code",
   "execution_count": 4,
   "id": "entire-tribute",
   "metadata": {},
   "outputs": [],
   "source": [
    "# https://leetcode.com/problems/n-ary-tree-preorder-traversal/\n",
    "class Solution:\n",
    "    def preorder(self, root):\n",
    "        output = []\n",
    "        self.dfs(root, output)\n",
    "        return output\n",
    "        \n",
    "    def dfs(self, node, output):\n",
    "        if not node:\n",
    "            return\n",
    "        output.append(node.val)\n",
    "        childrens = node.children\n",
    "        for child in childrens:\n",
    "            self.dfs(child, output)\n",
    "        return"
   ]
  },
  {
   "cell_type": "code",
   "execution_count": 6,
   "id": "laden-fellow",
   "metadata": {},
   "outputs": [],
   "source": [
    "# https://leetcode.com/problems/n-ary-tree-level-order-traversal\n",
    "class Solution:\n",
    "    def levelOrder(self, root):\n",
    "        if not root:\n",
    "            return []\n",
    "        output = []\n",
    "        q = [root]\n",
    "        while q:\n",
    "            level = []\n",
    "            n = len(q)\n",
    "            for i in range(n):\n",
    "                elem = q.pop(0)  \n",
    "                if elem:\n",
    "                    children = elem.children\n",
    "                    level.append(elem.val)\n",
    "                    if children:\n",
    "                        q += children\n",
    "            output.append(level)\n",
    "        return output"
   ]
  },
  {
   "cell_type": "code",
   "execution_count": null,
   "id": "direct-physics",
   "metadata": {},
   "outputs": [],
   "source": []
  }
 ],
 "metadata": {
  "kernelspec": {
   "display_name": "Python 3",
   "language": "python",
   "name": "python3"
  },
  "language_info": {
   "codemirror_mode": {
    "name": "ipython",
    "version": 3
   },
   "file_extension": ".py",
   "mimetype": "text/x-python",
   "name": "python",
   "nbconvert_exporter": "python",
   "pygments_lexer": "ipython3",
   "version": "3.8.5"
  }
 },
 "nbformat": 4,
 "nbformat_minor": 5
}
