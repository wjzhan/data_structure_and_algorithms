{
 "cells": [
  {
   "cell_type": "markdown",
   "id": "muslim-serve",
   "metadata": {},
   "source": [
    "## Pruning"
   ]
  },
  {
   "cell_type": "code",
   "execution_count": 9,
   "id": "imposed-woman",
   "metadata": {},
   "outputs": [],
   "source": [
    "# https://leetcode.com/problems/n-queens/\n",
    "class Solution:\n",
    "    def solveNQueens(self, n: int) -> List[List[str]]:\n",
    "        def dfs(cols, lefts, rights, i, board, N):\n",
    "            if i >= N:\n",
    "                output.append([''.join(row) for row in board])\n",
    "                return\n",
    "\n",
    "            # find col\n",
    "            for j in range(N):\n",
    "                if cols[j] == 0 and lefts[i+j] == 0 and rights[N+j-i] == 0:\n",
    "                    cols[j] = 1\n",
    "                    lefts[i+j] = 1\n",
    "                    rights[N+j-i] = 1\n",
    "                    board[i][j] = 'Q'\n",
    "                    dfs(cols, lefts, rights, i+1, board, N)\n",
    "                    cols[j] = 0\n",
    "                    lefts[i+j] = 0\n",
    "                    rights[N+j-i] = 0\n",
    "                    board[i][j] = '.'\n",
    "            return\n",
    "        \n",
    "        output = []\n",
    "        board = a = [ ['.' for i in range(n)] for j in range(n)]\n",
    "        cols, lefts, rights = [0] * n, [0] * 2 * n, [0] * 2 * n\n",
    "        dfs(cols, lefts, rights, 0, board, n)\n",
    "        return output\n",
    "    \n",
    "\n",
    "    \n",
    "class Solution:\n",
    "    def solveNQueens(self, n: int) -> List[List[str]]:\n",
    "        def dfs(cols, lefts, rights):\n",
    "            p = len(cols)\n",
    "            if p == n:\n",
    "                result.append(queens)\n",
    "                return\n",
    "        \n",
    "            for q in range(n):\n",
    "                if q not in cols and p-q not in rights and p+q not in lefts:\n",
    "                    dfs(cols + [q], rights + [p-q], lefts + [p+q])\n",
    "        result = []\n",
    "        dfs([], [], [])\n",
    "        return [['.'*i + 'O' + '.'*(n-i-1) for i in sol] for sol in result]"
   ]
  },
  {
   "cell_type": "code",
   "execution_count": null,
   "id": "human-combining",
   "metadata": {},
   "outputs": [],
   "source": [
    "# https://leetcode.com/problems/generate-parentheses\n",
    "\n",
    "class Solution:\n",
    "    def generateParenthesis(self, n: int) -> List[str]:\n",
    "        self.output = []\n",
    "        self.n = n\n",
    "        self.generator(0, '', 0, 0)\n",
    "        return self.output \n",
    "        \n",
    "       \n",
    "    def generator(self, lvl, s, left, right):\n",
    "        if lvl >= 2* self.n:\n",
    "            self.output.append(s)\n",
    "            return\n",
    "        s1 = s + '('\n",
    "        s2 = s + ')'\n",
    "        if left + 1 <= self.n and left >= right:\n",
    "            self.generator(lvl+1, s1, left + 1, right)\n",
    "        if right + 1 <= left:\n",
    "            self.generator(lvl+1, s2, left, right + 1)\n",
    "        return"
   ]
  }
 ],
 "metadata": {
  "kernelspec": {
   "display_name": "Python 3",
   "language": "python",
   "name": "python3"
  },
  "language_info": {
   "codemirror_mode": {
    "name": "ipython",
    "version": 3
   },
   "file_extension": ".py",
   "mimetype": "text/x-python",
   "name": "python",
   "nbconvert_exporter": "python",
   "pygments_lexer": "ipython3",
   "version": "3.8.5"
  }
 },
 "nbformat": 4,
 "nbformat_minor": 5
}
