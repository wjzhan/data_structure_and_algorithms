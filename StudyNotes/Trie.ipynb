{
 "cells": [
  {
   "cell_type": "markdown",
   "id": "unavailable-latex",
   "metadata": {},
   "source": [
    "\n",
    "```python\n",
    "class TrieNode:\n",
    "    \n",
    "    # Trie node class\n",
    "    def __init__(self):\n",
    "        self.children = [None] * ALPHABET_SIZE\n",
    "        # isEndOfWord is True if node represent end of word\n",
    "        self.isEndOfWord = False\n",
    "```"
   ]
  },
  {
   "cell_type": "code",
   "execution_count": null,
   "id": "weekly-surrey",
   "metadata": {},
   "outputs": [],
   "source": [
    "# https://leetcode.com/problems/implement-trie-prefix-tree/\n",
    "\n",
    "class Trie:\n",
    "\n",
    "    def __init__(self):\n",
    "        \"\"\"\n",
    "        Initialize your data structure here.\n",
    "        \"\"\"\n",
    "        self.root = {}\n",
    "\n",
    "    def insert(self, word: str) -> None:\n",
    "        \"\"\"\n",
    "        Inserts a word into the trie.\n",
    "        \"\"\"\n",
    "        p = self.root\n",
    "        for char in word:\n",
    "            if char not in p:\n",
    "                p[char] = {}\n",
    "            p = p[char]  \n",
    "        # add end token\n",
    "        p['#'] = None\n",
    "\n",
    "    def search(self, word: str) -> bool:\n",
    "        \"\"\"\n",
    "        Returns if the word is in the trie.\n",
    "        \"\"\"\n",
    "        p = self.root\n",
    "        for char in word:\n",
    "            if char not in p:\n",
    "                return False\n",
    "            p = p[char]\n",
    "        return '#' in p\n",
    "\n",
    "    def startsWith(self, prefix: str) -> bool:\n",
    "        \"\"\"\n",
    "        Returns if there is any word in the trie that starts with the given prefix.\n",
    "        \"\"\"\n",
    "        p = self.root\n",
    "        for char in prefix:\n",
    "            if char not in p:\n",
    "                return False\n",
    "            p = p[char]\n",
    "        return True\n",
    "\n",
    "\n",
    "# Your Trie object will be instantiated and called as such:\n",
    "# obj = Trie()\n",
    "# obj.insert(word)\n",
    "# param_2 = obj.search(word)\n",
    "# param_3 = obj.startsWith(prefix)"
   ]
  }
 ],
 "metadata": {
  "kernelspec": {
   "display_name": "Python 3",
   "language": "python",
   "name": "python3"
  },
  "language_info": {
   "codemirror_mode": {
    "name": "ipython",
    "version": 3
   },
   "file_extension": ".py",
   "mimetype": "text/x-python",
   "name": "python",
   "nbconvert_exporter": "python",
   "pygments_lexer": "ipython3",
   "version": "3.8.5"
  }
 },
 "nbformat": 4,
 "nbformat_minor": 5
}
