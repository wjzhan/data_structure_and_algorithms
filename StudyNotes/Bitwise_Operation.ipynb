{
 "cells": [
  {
   "cell_type": "code",
   "execution_count": null,
   "id": "disabled-roberts",
   "metadata": {},
   "outputs": [],
   "source": [
    "# https://leetcode.com/problems/number-of-1-bits\n",
    "class Solution:\n",
    "    def hammingWeight(self, n: int) -> int:\n",
    "        count = 0\n",
    "        while n > 0:\n",
    "            if n%2 == 1:\n",
    "                count += 1\n",
    "            n = n >> 1\n",
    "        return count\n",
    "    \n",
    "    \n",
    "class Solution:\n",
    "    def hammingWeight(self, n: int) -> int:\n",
    "        count = 0\n",
    "        while n > 0:\n",
    "            n = n & (n-1)\n",
    "            count += 1\n",
    "        return count"
   ]
  },
  {
   "cell_type": "code",
   "execution_count": null,
   "id": "substantial-commodity",
   "metadata": {},
   "outputs": [],
   "source": [
    "# https://leetcode.com/problems/power-of-two/submissions/\n",
    "class Solution:\n",
    "    def isPowerOfTwo(self, n: int) -> bool:\n",
    "        if n > 0 and n & (n-1) == 0:\n",
    "            return True\n",
    "        return False"
   ]
  },
  {
   "cell_type": "code",
   "execution_count": null,
   "id": "stable-liver",
   "metadata": {},
   "outputs": [],
   "source": [
    "# https://leetcode.com/problems/counting-bits\n",
    "\n",
    "class Solution:\n",
    "    def countBits(self, n: int) -> List[int]:\n",
    "        count = [0 for i in range(n+1)]\n",
    "        for i in range(1, n+1):\n",
    "            count[i] = count[i & (i-1)] + 1\n",
    "        return count"
   ]
  }
 ],
 "metadata": {
  "kernelspec": {
   "display_name": "Python 3",
   "language": "python",
   "name": "python3"
  },
  "language_info": {
   "codemirror_mode": {
    "name": "ipython",
    "version": 3
   },
   "file_extension": ".py",
   "mimetype": "text/x-python",
   "name": "python",
   "nbconvert_exporter": "python",
   "pygments_lexer": "ipython3",
   "version": "3.8.5"
  }
 },
 "nbformat": 4,
 "nbformat_minor": 5
}
